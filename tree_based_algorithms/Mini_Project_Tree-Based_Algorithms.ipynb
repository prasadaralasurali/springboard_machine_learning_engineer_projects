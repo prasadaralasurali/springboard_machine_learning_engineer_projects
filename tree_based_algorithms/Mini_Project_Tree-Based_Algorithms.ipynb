{
 "cells": [
  {
   "cell_type": "markdown",
   "metadata": {},
   "source": [
    "# Mini Project: Tree-Based Algorithms"
   ]
  },
  {
   "cell_type": "markdown",
   "metadata": {},
   "source": [
    "## The \"German Credit\" Dataset"
   ]
  },
  {
   "cell_type": "markdown",
   "metadata": {},
   "source": [
    "## <font color='blue'>Table of Contents</font>\n",
    "\n",
    "* [Introduction](#intro)\n",
    "* [Data Exploration](#expl)\n",
    "* [Decision Tree](#dt)\n",
    "* [Random Forest](#rf) \n",
    "* [XGBoost](#xgb) \n",
    "* [CatBoost](#cb) \n",
    "* [LightGBM](#lgb) \n",
    "* [Conclusions](#cl) "
   ]
  },
  {
   "cell_type": "markdown",
   "metadata": {},
   "source": [
    "<a id='intro'></a>\n",
    "### <font color='brown'> Introduction </font>"
   ]
  },
  {
   "cell_type": "markdown",
   "metadata": {},
   "source": [
    "### Dataset Details"
   ]
  },
  {
   "cell_type": "markdown",
   "metadata": {},
   "source": [
    "This dataset has two classes (these would be considered labels in Machine Learning terms) to describe the worthiness of a personal loan: \"Good\" or \"Bad\". There are predictors related to attributes, such as: checking account status, duration, credit history, purpose of the loan, amount of the loan, savings accounts or bonds, employment duration, installment rate in percentage of disposable income, personal information, other debtors/guarantors, residence duration, property, age, other installment plans, housing, number of existing credits, job information, number of people being liable to provide maintenance for, telephone, and foreign worker status.\n",
    "\n",
    "Many of these predictors are discrete and have been expanded into several 0/1 indicator variables (a.k.a. they have been one-hot-encoded).\n",
    "\n",
    "This dataset has been kindly provided by Professor Dr. Hans Hofmann of the University of Hamburg, and can also be found on the UCI Machine Learning Repository."
   ]
  },
  {
   "cell_type": "markdown",
   "metadata": {},
   "source": [
    "\n",
    "\n",
    "\n"
   ]
  },
  {
   "cell_type": "markdown",
   "metadata": {},
   "source": [
    "### Decision Trees"
   ]
  },
  {
   "cell_type": "markdown",
   "metadata": {},
   "source": [
    " As we have learned in the previous lectures, Decision Trees as a family of algorithms (irrespective to the particular implementation) are powerful algorithms that can produce models with a predictive accuracy higher than that produced by linear models, such as Linear or Logistic Regression. Primarily, this is due to the fact the DT's can model nonlinear relationships, and also have a number of tuning paramters, that allow for the practicioner to achieve the best possible model. An added bonus is the ability to visualize the trained Decision Tree model, which allows for some insight into how the model has produced the predictions that it has. One caveat here, to keep in mind, is that sometimes, due to the size of the dataset (both in the sense of the number of records, as well as the number of features), the visualization might prove to be very large and complex, increasing the difficulty of interpretation."
   ]
  },
  {
   "cell_type": "markdown",
   "metadata": {},
   "source": [
    "To give you a very good example of how Decision Trees can be visualized and interpreted, we would strongly recommend that, before continuing on with solving the problems in this Mini Project, you take the time to read this fanstastic, detailed and informative blog post: http://explained.ai/decision-tree-viz/index.html"
   ]
  },
  {
   "cell_type": "markdown",
   "metadata": {},
   "source": [
    "### Building Your First Decision Tree Model"
   ]
  },
  {
   "cell_type": "markdown",
   "metadata": {},
   "source": [
    "So, now it's time to jump straight into the heart of the matter. Your first task, is to build a Decision Tree model, using the aforementioned \"German Credit\" dataset, which contains 1,000 records, and 62 columns (one of them presents the labels, and the other 61 present the potential features for the model.)"
   ]
  },
  {
   "cell_type": "markdown",
   "metadata": {},
   "source": [
    "For this task, you will be using the scikit-learn library, which comes already pre-installed with the Anaconda Python distribution. In case you're not using that, you can easily install it using pip."
   ]
  },
  {
   "cell_type": "markdown",
   "metadata": {},
   "source": [
    "Before embarking on creating your first model, we would strongly encourage you to read the short tutorial for Decision Trees in scikit-learn (http://scikit-learn.org/stable/modules/tree.html), and then dive a bit deeper into the documentation of the algorithm itself (http://scikit-learn.org/stable/modules/generated/sklearn.tree.DecisionTreeClassifier.html). "
   ]
  },
  {
   "cell_type": "markdown",
   "metadata": {},
   "source": [
    "Also, since you want to be able to present the results of your model, we suggest you take a look at the tutorial for accuracy metrics for classification models (http://scikit-learn.org/stable/modules/model_evaluation.html#classification-report) as well as the more detailed documentation (http://scikit-learn.org/stable/modules/generated/sklearn.metrics.classification_report.html).\n",
    "\n",
    "Finally, an *amazing* resource that explains the various classification model accuracy metrics, as well as the relationships between them, can be found on Wikipedia: https://en.wikipedia.org/wiki/Confusion_matrix"
   ]
  },
  {
   "cell_type": "markdown",
   "metadata": {},
   "source": [
    "(Note: as you've already learned in the Logistic Regression mini project, a standard practice in Machine Learning for achieving the best possible result when training a model is to use hyperparameter tuning, through Grid Search and k-fold Cross Validation. We strongly encourage you to use it here as well, not just because it's standard practice, but also becuase it's not going to be computationally too intensive, due to the size of the dataset that you're working with. Our suggestion here is that you split the data into 70% training, and 30% testing. Then, do the hyperparameter tuning and Cross Validation on the training set, and afterwards to a final test on the testing set.)"
   ]
  },
  {
   "cell_type": "markdown",
   "metadata": {},
   "source": [
    "### Now we pass the torch onto you! You can start building your first Decision Tree model! "
   ]
  },
  {
   "cell_type": "code",
   "execution_count": 1,
   "metadata": {},
   "outputs": [],
   "source": [
    "import pandas as pd\n",
    "from sklearn.tree import DecisionTreeClassifier\n",
    "from sklearn.metrics import classification_report\n",
    "from sklearn.model_selection import train_test_split\n",
    "from sklearn.model_selection import GridSearchCV\n",
    "from dtreeviz.trees import *\n",
    "from IPython.display import Image, display_svg"
   ]
  },
  {
   "cell_type": "markdown",
   "metadata": {},
   "source": [
    "<a id='expl'></a>\n",
    "### <font color='brown'> Data Exploration </font>"
   ]
  },
  {
   "cell_type": "code",
   "execution_count": 2,
   "metadata": {},
   "outputs": [
    {
     "data": {
      "text/plain": [
       "(1000, 62)"
      ]
     },
     "execution_count": 2,
     "metadata": {},
     "output_type": "execute_result"
    }
   ],
   "source": [
    "# read data\n",
    "df = pd.read_csv('GermanCredit.csv')\n",
    "df.head()\n",
    "df.shape"
   ]
  },
  {
   "cell_type": "code",
   "execution_count": 3,
   "metadata": {},
   "outputs": [
    {
     "data": {
      "text/plain": [
       "Index(['Duration', 'Amount', 'InstallmentRatePercentage', 'ResidenceDuration',\n",
       "       'Age', 'NumberExistingCredits', 'NumberPeopleMaintenance', 'Telephone',\n",
       "       'ForeignWorker', 'Class', 'CheckingAccountStatus.lt.0',\n",
       "       'CheckingAccountStatus.0.to.200', 'CheckingAccountStatus.gt.200',\n",
       "       'CheckingAccountStatus.none', 'CreditHistory.NoCredit.AllPaid',\n",
       "       'CreditHistory.ThisBank.AllPaid', 'CreditHistory.PaidDuly',\n",
       "       'CreditHistory.Delay', 'CreditHistory.Critical', 'Purpose.NewCar',\n",
       "       'Purpose.UsedCar', 'Purpose.Furniture.Equipment',\n",
       "       'Purpose.Radio.Television', 'Purpose.DomesticAppliance',\n",
       "       'Purpose.Repairs', 'Purpose.Education', 'Purpose.Vacation',\n",
       "       'Purpose.Retraining', 'Purpose.Business', 'Purpose.Other',\n",
       "       'SavingsAccountBonds.lt.100', 'SavingsAccountBonds.100.to.500',\n",
       "       'SavingsAccountBonds.500.to.1000', 'SavingsAccountBonds.gt.1000',\n",
       "       'SavingsAccountBonds.Unknown', 'EmploymentDuration.lt.1',\n",
       "       'EmploymentDuration.1.to.4', 'EmploymentDuration.4.to.7',\n",
       "       'EmploymentDuration.gt.7', 'EmploymentDuration.Unemployed',\n",
       "       'Personal.Male.Divorced.Seperated', 'Personal.Female.NotSingle',\n",
       "       'Personal.Male.Single', 'Personal.Male.Married.Widowed',\n",
       "       'Personal.Female.Single', 'OtherDebtorsGuarantors.None',\n",
       "       'OtherDebtorsGuarantors.CoApplicant',\n",
       "       'OtherDebtorsGuarantors.Guarantor', 'Property.RealEstate',\n",
       "       'Property.Insurance', 'Property.CarOther', 'Property.Unknown',\n",
       "       'OtherInstallmentPlans.Bank', 'OtherInstallmentPlans.Stores',\n",
       "       'OtherInstallmentPlans.None', 'Housing.Rent', 'Housing.Own',\n",
       "       'Housing.ForFree', 'Job.UnemployedUnskilled', 'Job.UnskilledResident',\n",
       "       'Job.SkilledEmployee', 'Job.Management.SelfEmp.HighlyQualified'],\n",
       "      dtype='object')"
      ]
     },
     "execution_count": 3,
     "metadata": {},
     "output_type": "execute_result"
    }
   ],
   "source": [
    "df.columns"
   ]
  },
  {
   "cell_type": "code",
   "execution_count": 4,
   "metadata": {},
   "outputs": [
    {
     "data": {
      "text/html": [
       "<div>\n",
       "<style scoped>\n",
       "    .dataframe tbody tr th:only-of-type {\n",
       "        vertical-align: middle;\n",
       "    }\n",
       "\n",
       "    .dataframe tbody tr th {\n",
       "        vertical-align: top;\n",
       "    }\n",
       "\n",
       "    .dataframe thead th {\n",
       "        text-align: right;\n",
       "    }\n",
       "</style>\n",
       "<table border=\"1\" class=\"dataframe\">\n",
       "  <thead>\n",
       "    <tr style=\"text-align: right;\">\n",
       "      <th></th>\n",
       "      <th>Duration</th>\n",
       "      <th>Amount</th>\n",
       "      <th>InstallmentRatePercentage</th>\n",
       "      <th>ResidenceDuration</th>\n",
       "      <th>Age</th>\n",
       "      <th>NumberExistingCredits</th>\n",
       "      <th>NumberPeopleMaintenance</th>\n",
       "      <th>Telephone</th>\n",
       "      <th>ForeignWorker</th>\n",
       "      <th>Class</th>\n",
       "      <th>...</th>\n",
       "      <th>OtherInstallmentPlans.Bank</th>\n",
       "      <th>OtherInstallmentPlans.Stores</th>\n",
       "      <th>OtherInstallmentPlans.None</th>\n",
       "      <th>Housing.Rent</th>\n",
       "      <th>Housing.Own</th>\n",
       "      <th>Housing.ForFree</th>\n",
       "      <th>Job.UnemployedUnskilled</th>\n",
       "      <th>Job.UnskilledResident</th>\n",
       "      <th>Job.SkilledEmployee</th>\n",
       "      <th>Job.Management.SelfEmp.HighlyQualified</th>\n",
       "    </tr>\n",
       "  </thead>\n",
       "  <tbody>\n",
       "    <tr>\n",
       "      <th>0</th>\n",
       "      <td>6</td>\n",
       "      <td>1169</td>\n",
       "      <td>4</td>\n",
       "      <td>4</td>\n",
       "      <td>67</td>\n",
       "      <td>2</td>\n",
       "      <td>1</td>\n",
       "      <td>0</td>\n",
       "      <td>1</td>\n",
       "      <td>Good</td>\n",
       "      <td>...</td>\n",
       "      <td>0</td>\n",
       "      <td>0</td>\n",
       "      <td>1</td>\n",
       "      <td>0</td>\n",
       "      <td>1</td>\n",
       "      <td>0</td>\n",
       "      <td>0</td>\n",
       "      <td>0</td>\n",
       "      <td>1</td>\n",
       "      <td>0</td>\n",
       "    </tr>\n",
       "    <tr>\n",
       "      <th>1</th>\n",
       "      <td>48</td>\n",
       "      <td>5951</td>\n",
       "      <td>2</td>\n",
       "      <td>2</td>\n",
       "      <td>22</td>\n",
       "      <td>1</td>\n",
       "      <td>1</td>\n",
       "      <td>1</td>\n",
       "      <td>1</td>\n",
       "      <td>Bad</td>\n",
       "      <td>...</td>\n",
       "      <td>0</td>\n",
       "      <td>0</td>\n",
       "      <td>1</td>\n",
       "      <td>0</td>\n",
       "      <td>1</td>\n",
       "      <td>0</td>\n",
       "      <td>0</td>\n",
       "      <td>0</td>\n",
       "      <td>1</td>\n",
       "      <td>0</td>\n",
       "    </tr>\n",
       "    <tr>\n",
       "      <th>2</th>\n",
       "      <td>12</td>\n",
       "      <td>2096</td>\n",
       "      <td>2</td>\n",
       "      <td>3</td>\n",
       "      <td>49</td>\n",
       "      <td>1</td>\n",
       "      <td>2</td>\n",
       "      <td>1</td>\n",
       "      <td>1</td>\n",
       "      <td>Good</td>\n",
       "      <td>...</td>\n",
       "      <td>0</td>\n",
       "      <td>0</td>\n",
       "      <td>1</td>\n",
       "      <td>0</td>\n",
       "      <td>1</td>\n",
       "      <td>0</td>\n",
       "      <td>0</td>\n",
       "      <td>1</td>\n",
       "      <td>0</td>\n",
       "      <td>0</td>\n",
       "    </tr>\n",
       "    <tr>\n",
       "      <th>3</th>\n",
       "      <td>42</td>\n",
       "      <td>7882</td>\n",
       "      <td>2</td>\n",
       "      <td>4</td>\n",
       "      <td>45</td>\n",
       "      <td>1</td>\n",
       "      <td>2</td>\n",
       "      <td>1</td>\n",
       "      <td>1</td>\n",
       "      <td>Good</td>\n",
       "      <td>...</td>\n",
       "      <td>0</td>\n",
       "      <td>0</td>\n",
       "      <td>1</td>\n",
       "      <td>0</td>\n",
       "      <td>0</td>\n",
       "      <td>1</td>\n",
       "      <td>0</td>\n",
       "      <td>0</td>\n",
       "      <td>1</td>\n",
       "      <td>0</td>\n",
       "    </tr>\n",
       "    <tr>\n",
       "      <th>4</th>\n",
       "      <td>24</td>\n",
       "      <td>4870</td>\n",
       "      <td>3</td>\n",
       "      <td>4</td>\n",
       "      <td>53</td>\n",
       "      <td>2</td>\n",
       "      <td>2</td>\n",
       "      <td>1</td>\n",
       "      <td>1</td>\n",
       "      <td>Bad</td>\n",
       "      <td>...</td>\n",
       "      <td>0</td>\n",
       "      <td>0</td>\n",
       "      <td>1</td>\n",
       "      <td>0</td>\n",
       "      <td>0</td>\n",
       "      <td>1</td>\n",
       "      <td>0</td>\n",
       "      <td>0</td>\n",
       "      <td>1</td>\n",
       "      <td>0</td>\n",
       "    </tr>\n",
       "  </tbody>\n",
       "</table>\n",
       "<p>5 rows × 62 columns</p>\n",
       "</div>"
      ],
      "text/plain": [
       "   Duration  Amount  InstallmentRatePercentage  ResidenceDuration  Age  \\\n",
       "0         6    1169                          4                  4   67   \n",
       "1        48    5951                          2                  2   22   \n",
       "2        12    2096                          2                  3   49   \n",
       "3        42    7882                          2                  4   45   \n",
       "4        24    4870                          3                  4   53   \n",
       "\n",
       "   NumberExistingCredits  NumberPeopleMaintenance  Telephone  ForeignWorker  \\\n",
       "0                      2                        1          0              1   \n",
       "1                      1                        1          1              1   \n",
       "2                      1                        2          1              1   \n",
       "3                      1                        2          1              1   \n",
       "4                      2                        2          1              1   \n",
       "\n",
       "  Class  ...  OtherInstallmentPlans.Bank  OtherInstallmentPlans.Stores  \\\n",
       "0  Good  ...                           0                             0   \n",
       "1   Bad  ...                           0                             0   \n",
       "2  Good  ...                           0                             0   \n",
       "3  Good  ...                           0                             0   \n",
       "4   Bad  ...                           0                             0   \n",
       "\n",
       "   OtherInstallmentPlans.None  Housing.Rent  Housing.Own  Housing.ForFree  \\\n",
       "0                           1             0            1                0   \n",
       "1                           1             0            1                0   \n",
       "2                           1             0            1                0   \n",
       "3                           1             0            0                1   \n",
       "4                           1             0            0                1   \n",
       "\n",
       "   Job.UnemployedUnskilled  Job.UnskilledResident  Job.SkilledEmployee  \\\n",
       "0                        0                      0                    1   \n",
       "1                        0                      0                    1   \n",
       "2                        0                      1                    0   \n",
       "3                        0                      0                    1   \n",
       "4                        0                      0                    1   \n",
       "\n",
       "   Job.Management.SelfEmp.HighlyQualified  \n",
       "0                                       0  \n",
       "1                                       0  \n",
       "2                                       0  \n",
       "3                                       0  \n",
       "4                                       0  \n",
       "\n",
       "[5 rows x 62 columns]"
      ]
     },
     "execution_count": 4,
     "metadata": {},
     "output_type": "execute_result"
    }
   ],
   "source": [
    "df.head()"
   ]
  },
  {
   "cell_type": "code",
   "execution_count": 5,
   "metadata": {},
   "outputs": [
    {
     "data": {
      "text/html": [
       "<div>\n",
       "<style scoped>\n",
       "    .dataframe tbody tr th:only-of-type {\n",
       "        vertical-align: middle;\n",
       "    }\n",
       "\n",
       "    .dataframe tbody tr th {\n",
       "        vertical-align: top;\n",
       "    }\n",
       "\n",
       "    .dataframe thead th {\n",
       "        text-align: right;\n",
       "    }\n",
       "</style>\n",
       "<table border=\"1\" class=\"dataframe\">\n",
       "  <thead>\n",
       "    <tr style=\"text-align: right;\">\n",
       "      <th></th>\n",
       "      <th>Duration</th>\n",
       "      <th>Amount</th>\n",
       "      <th>InstallmentRatePercentage</th>\n",
       "      <th>ResidenceDuration</th>\n",
       "      <th>Age</th>\n",
       "      <th>NumberExistingCredits</th>\n",
       "      <th>NumberPeopleMaintenance</th>\n",
       "      <th>Telephone</th>\n",
       "      <th>ForeignWorker</th>\n",
       "      <th>CheckingAccountStatus.lt.0</th>\n",
       "      <th>...</th>\n",
       "      <th>OtherInstallmentPlans.Bank</th>\n",
       "      <th>OtherInstallmentPlans.Stores</th>\n",
       "      <th>OtherInstallmentPlans.None</th>\n",
       "      <th>Housing.Rent</th>\n",
       "      <th>Housing.Own</th>\n",
       "      <th>Housing.ForFree</th>\n",
       "      <th>Job.UnemployedUnskilled</th>\n",
       "      <th>Job.UnskilledResident</th>\n",
       "      <th>Job.SkilledEmployee</th>\n",
       "      <th>Job.Management.SelfEmp.HighlyQualified</th>\n",
       "    </tr>\n",
       "  </thead>\n",
       "  <tbody>\n",
       "    <tr>\n",
       "      <th>count</th>\n",
       "      <td>1000.000000</td>\n",
       "      <td>1000.000000</td>\n",
       "      <td>1000.000000</td>\n",
       "      <td>1000.000000</td>\n",
       "      <td>1000.000000</td>\n",
       "      <td>1000.000000</td>\n",
       "      <td>1000.000000</td>\n",
       "      <td>1000.000000</td>\n",
       "      <td>1000.000000</td>\n",
       "      <td>1000.000000</td>\n",
       "      <td>...</td>\n",
       "      <td>1000.00000</td>\n",
       "      <td>1000.000000</td>\n",
       "      <td>1000.000000</td>\n",
       "      <td>1000.000000</td>\n",
       "      <td>1000.000000</td>\n",
       "      <td>1000.000000</td>\n",
       "      <td>1000.000000</td>\n",
       "      <td>1000.0000</td>\n",
       "      <td>1000.000000</td>\n",
       "      <td>1000.000000</td>\n",
       "    </tr>\n",
       "    <tr>\n",
       "      <th>mean</th>\n",
       "      <td>20.903000</td>\n",
       "      <td>3271.258000</td>\n",
       "      <td>2.973000</td>\n",
       "      <td>2.845000</td>\n",
       "      <td>35.546000</td>\n",
       "      <td>1.407000</td>\n",
       "      <td>1.155000</td>\n",
       "      <td>0.596000</td>\n",
       "      <td>0.963000</td>\n",
       "      <td>0.274000</td>\n",
       "      <td>...</td>\n",
       "      <td>0.13900</td>\n",
       "      <td>0.047000</td>\n",
       "      <td>0.814000</td>\n",
       "      <td>0.179000</td>\n",
       "      <td>0.713000</td>\n",
       "      <td>0.108000</td>\n",
       "      <td>0.022000</td>\n",
       "      <td>0.2000</td>\n",
       "      <td>0.630000</td>\n",
       "      <td>0.148000</td>\n",
       "    </tr>\n",
       "    <tr>\n",
       "      <th>std</th>\n",
       "      <td>12.058814</td>\n",
       "      <td>2822.736876</td>\n",
       "      <td>1.118715</td>\n",
       "      <td>1.103718</td>\n",
       "      <td>11.375469</td>\n",
       "      <td>0.577654</td>\n",
       "      <td>0.362086</td>\n",
       "      <td>0.490943</td>\n",
       "      <td>0.188856</td>\n",
       "      <td>0.446232</td>\n",
       "      <td>...</td>\n",
       "      <td>0.34612</td>\n",
       "      <td>0.211745</td>\n",
       "      <td>0.389301</td>\n",
       "      <td>0.383544</td>\n",
       "      <td>0.452588</td>\n",
       "      <td>0.310536</td>\n",
       "      <td>0.146757</td>\n",
       "      <td>0.4002</td>\n",
       "      <td>0.483046</td>\n",
       "      <td>0.355278</td>\n",
       "    </tr>\n",
       "    <tr>\n",
       "      <th>min</th>\n",
       "      <td>4.000000</td>\n",
       "      <td>250.000000</td>\n",
       "      <td>1.000000</td>\n",
       "      <td>1.000000</td>\n",
       "      <td>19.000000</td>\n",
       "      <td>1.000000</td>\n",
       "      <td>1.000000</td>\n",
       "      <td>0.000000</td>\n",
       "      <td>0.000000</td>\n",
       "      <td>0.000000</td>\n",
       "      <td>...</td>\n",
       "      <td>0.00000</td>\n",
       "      <td>0.000000</td>\n",
       "      <td>0.000000</td>\n",
       "      <td>0.000000</td>\n",
       "      <td>0.000000</td>\n",
       "      <td>0.000000</td>\n",
       "      <td>0.000000</td>\n",
       "      <td>0.0000</td>\n",
       "      <td>0.000000</td>\n",
       "      <td>0.000000</td>\n",
       "    </tr>\n",
       "    <tr>\n",
       "      <th>25%</th>\n",
       "      <td>12.000000</td>\n",
       "      <td>1365.500000</td>\n",
       "      <td>2.000000</td>\n",
       "      <td>2.000000</td>\n",
       "      <td>27.000000</td>\n",
       "      <td>1.000000</td>\n",
       "      <td>1.000000</td>\n",
       "      <td>0.000000</td>\n",
       "      <td>1.000000</td>\n",
       "      <td>0.000000</td>\n",
       "      <td>...</td>\n",
       "      <td>0.00000</td>\n",
       "      <td>0.000000</td>\n",
       "      <td>1.000000</td>\n",
       "      <td>0.000000</td>\n",
       "      <td>0.000000</td>\n",
       "      <td>0.000000</td>\n",
       "      <td>0.000000</td>\n",
       "      <td>0.0000</td>\n",
       "      <td>0.000000</td>\n",
       "      <td>0.000000</td>\n",
       "    </tr>\n",
       "    <tr>\n",
       "      <th>50%</th>\n",
       "      <td>18.000000</td>\n",
       "      <td>2319.500000</td>\n",
       "      <td>3.000000</td>\n",
       "      <td>3.000000</td>\n",
       "      <td>33.000000</td>\n",
       "      <td>1.000000</td>\n",
       "      <td>1.000000</td>\n",
       "      <td>1.000000</td>\n",
       "      <td>1.000000</td>\n",
       "      <td>0.000000</td>\n",
       "      <td>...</td>\n",
       "      <td>0.00000</td>\n",
       "      <td>0.000000</td>\n",
       "      <td>1.000000</td>\n",
       "      <td>0.000000</td>\n",
       "      <td>1.000000</td>\n",
       "      <td>0.000000</td>\n",
       "      <td>0.000000</td>\n",
       "      <td>0.0000</td>\n",
       "      <td>1.000000</td>\n",
       "      <td>0.000000</td>\n",
       "    </tr>\n",
       "    <tr>\n",
       "      <th>75%</th>\n",
       "      <td>24.000000</td>\n",
       "      <td>3972.250000</td>\n",
       "      <td>4.000000</td>\n",
       "      <td>4.000000</td>\n",
       "      <td>42.000000</td>\n",
       "      <td>2.000000</td>\n",
       "      <td>1.000000</td>\n",
       "      <td>1.000000</td>\n",
       "      <td>1.000000</td>\n",
       "      <td>1.000000</td>\n",
       "      <td>...</td>\n",
       "      <td>0.00000</td>\n",
       "      <td>0.000000</td>\n",
       "      <td>1.000000</td>\n",
       "      <td>0.000000</td>\n",
       "      <td>1.000000</td>\n",
       "      <td>0.000000</td>\n",
       "      <td>0.000000</td>\n",
       "      <td>0.0000</td>\n",
       "      <td>1.000000</td>\n",
       "      <td>0.000000</td>\n",
       "    </tr>\n",
       "    <tr>\n",
       "      <th>max</th>\n",
       "      <td>72.000000</td>\n",
       "      <td>18424.000000</td>\n",
       "      <td>4.000000</td>\n",
       "      <td>4.000000</td>\n",
       "      <td>75.000000</td>\n",
       "      <td>4.000000</td>\n",
       "      <td>2.000000</td>\n",
       "      <td>1.000000</td>\n",
       "      <td>1.000000</td>\n",
       "      <td>1.000000</td>\n",
       "      <td>...</td>\n",
       "      <td>1.00000</td>\n",
       "      <td>1.000000</td>\n",
       "      <td>1.000000</td>\n",
       "      <td>1.000000</td>\n",
       "      <td>1.000000</td>\n",
       "      <td>1.000000</td>\n",
       "      <td>1.000000</td>\n",
       "      <td>1.0000</td>\n",
       "      <td>1.000000</td>\n",
       "      <td>1.000000</td>\n",
       "    </tr>\n",
       "  </tbody>\n",
       "</table>\n",
       "<p>8 rows × 61 columns</p>\n",
       "</div>"
      ],
      "text/plain": [
       "          Duration        Amount  InstallmentRatePercentage  \\\n",
       "count  1000.000000   1000.000000                1000.000000   \n",
       "mean     20.903000   3271.258000                   2.973000   \n",
       "std      12.058814   2822.736876                   1.118715   \n",
       "min       4.000000    250.000000                   1.000000   \n",
       "25%      12.000000   1365.500000                   2.000000   \n",
       "50%      18.000000   2319.500000                   3.000000   \n",
       "75%      24.000000   3972.250000                   4.000000   \n",
       "max      72.000000  18424.000000                   4.000000   \n",
       "\n",
       "       ResidenceDuration          Age  NumberExistingCredits  \\\n",
       "count        1000.000000  1000.000000            1000.000000   \n",
       "mean            2.845000    35.546000               1.407000   \n",
       "std             1.103718    11.375469               0.577654   \n",
       "min             1.000000    19.000000               1.000000   \n",
       "25%             2.000000    27.000000               1.000000   \n",
       "50%             3.000000    33.000000               1.000000   \n",
       "75%             4.000000    42.000000               2.000000   \n",
       "max             4.000000    75.000000               4.000000   \n",
       "\n",
       "       NumberPeopleMaintenance    Telephone  ForeignWorker  \\\n",
       "count              1000.000000  1000.000000    1000.000000   \n",
       "mean                  1.155000     0.596000       0.963000   \n",
       "std                   0.362086     0.490943       0.188856   \n",
       "min                   1.000000     0.000000       0.000000   \n",
       "25%                   1.000000     0.000000       1.000000   \n",
       "50%                   1.000000     1.000000       1.000000   \n",
       "75%                   1.000000     1.000000       1.000000   \n",
       "max                   2.000000     1.000000       1.000000   \n",
       "\n",
       "       CheckingAccountStatus.lt.0  ...  OtherInstallmentPlans.Bank  \\\n",
       "count                 1000.000000  ...                  1000.00000   \n",
       "mean                     0.274000  ...                     0.13900   \n",
       "std                      0.446232  ...                     0.34612   \n",
       "min                      0.000000  ...                     0.00000   \n",
       "25%                      0.000000  ...                     0.00000   \n",
       "50%                      0.000000  ...                     0.00000   \n",
       "75%                      1.000000  ...                     0.00000   \n",
       "max                      1.000000  ...                     1.00000   \n",
       "\n",
       "       OtherInstallmentPlans.Stores  OtherInstallmentPlans.None  Housing.Rent  \\\n",
       "count                   1000.000000                 1000.000000   1000.000000   \n",
       "mean                       0.047000                    0.814000      0.179000   \n",
       "std                        0.211745                    0.389301      0.383544   \n",
       "min                        0.000000                    0.000000      0.000000   \n",
       "25%                        0.000000                    1.000000      0.000000   \n",
       "50%                        0.000000                    1.000000      0.000000   \n",
       "75%                        0.000000                    1.000000      0.000000   \n",
       "max                        1.000000                    1.000000      1.000000   \n",
       "\n",
       "       Housing.Own  Housing.ForFree  Job.UnemployedUnskilled  \\\n",
       "count  1000.000000      1000.000000              1000.000000   \n",
       "mean      0.713000         0.108000                 0.022000   \n",
       "std       0.452588         0.310536                 0.146757   \n",
       "min       0.000000         0.000000                 0.000000   \n",
       "25%       0.000000         0.000000                 0.000000   \n",
       "50%       1.000000         0.000000                 0.000000   \n",
       "75%       1.000000         0.000000                 0.000000   \n",
       "max       1.000000         1.000000                 1.000000   \n",
       "\n",
       "       Job.UnskilledResident  Job.SkilledEmployee  \\\n",
       "count              1000.0000          1000.000000   \n",
       "mean                  0.2000             0.630000   \n",
       "std                   0.4002             0.483046   \n",
       "min                   0.0000             0.000000   \n",
       "25%                   0.0000             0.000000   \n",
       "50%                   0.0000             1.000000   \n",
       "75%                   0.0000             1.000000   \n",
       "max                   1.0000             1.000000   \n",
       "\n",
       "       Job.Management.SelfEmp.HighlyQualified  \n",
       "count                             1000.000000  \n",
       "mean                                 0.148000  \n",
       "std                                  0.355278  \n",
       "min                                  0.000000  \n",
       "25%                                  0.000000  \n",
       "50%                                  0.000000  \n",
       "75%                                  0.000000  \n",
       "max                                  1.000000  \n",
       "\n",
       "[8 rows x 61 columns]"
      ]
     },
     "execution_count": 5,
     "metadata": {},
     "output_type": "execute_result"
    }
   ],
   "source": [
    "# Summary statistics\n",
    "df.describe()"
   ]
  },
  {
   "cell_type": "code",
   "execution_count": 6,
   "metadata": {},
   "outputs": [
    {
     "name": "stdout",
     "output_type": "stream",
     "text": [
      "<class 'pandas.core.frame.DataFrame'>\n",
      "RangeIndex: 1000 entries, 0 to 999\n",
      "Data columns (total 62 columns):\n",
      "Duration                                  1000 non-null int64\n",
      "Amount                                    1000 non-null int64\n",
      "InstallmentRatePercentage                 1000 non-null int64\n",
      "ResidenceDuration                         1000 non-null int64\n",
      "Age                                       1000 non-null int64\n",
      "NumberExistingCredits                     1000 non-null int64\n",
      "NumberPeopleMaintenance                   1000 non-null int64\n",
      "Telephone                                 1000 non-null int64\n",
      "ForeignWorker                             1000 non-null int64\n",
      "Class                                     1000 non-null object\n",
      "CheckingAccountStatus.lt.0                1000 non-null int64\n",
      "CheckingAccountStatus.0.to.200            1000 non-null int64\n",
      "CheckingAccountStatus.gt.200              1000 non-null int64\n",
      "CheckingAccountStatus.none                1000 non-null int64\n",
      "CreditHistory.NoCredit.AllPaid            1000 non-null int64\n",
      "CreditHistory.ThisBank.AllPaid            1000 non-null int64\n",
      "CreditHistory.PaidDuly                    1000 non-null int64\n",
      "CreditHistory.Delay                       1000 non-null int64\n",
      "CreditHistory.Critical                    1000 non-null int64\n",
      "Purpose.NewCar                            1000 non-null int64\n",
      "Purpose.UsedCar                           1000 non-null int64\n",
      "Purpose.Furniture.Equipment               1000 non-null int64\n",
      "Purpose.Radio.Television                  1000 non-null int64\n",
      "Purpose.DomesticAppliance                 1000 non-null int64\n",
      "Purpose.Repairs                           1000 non-null int64\n",
      "Purpose.Education                         1000 non-null int64\n",
      "Purpose.Vacation                          1000 non-null int64\n",
      "Purpose.Retraining                        1000 non-null int64\n",
      "Purpose.Business                          1000 non-null int64\n",
      "Purpose.Other                             1000 non-null int64\n",
      "SavingsAccountBonds.lt.100                1000 non-null int64\n",
      "SavingsAccountBonds.100.to.500            1000 non-null int64\n",
      "SavingsAccountBonds.500.to.1000           1000 non-null int64\n",
      "SavingsAccountBonds.gt.1000               1000 non-null int64\n",
      "SavingsAccountBonds.Unknown               1000 non-null int64\n",
      "EmploymentDuration.lt.1                   1000 non-null int64\n",
      "EmploymentDuration.1.to.4                 1000 non-null int64\n",
      "EmploymentDuration.4.to.7                 1000 non-null int64\n",
      "EmploymentDuration.gt.7                   1000 non-null int64\n",
      "EmploymentDuration.Unemployed             1000 non-null int64\n",
      "Personal.Male.Divorced.Seperated          1000 non-null int64\n",
      "Personal.Female.NotSingle                 1000 non-null int64\n",
      "Personal.Male.Single                      1000 non-null int64\n",
      "Personal.Male.Married.Widowed             1000 non-null int64\n",
      "Personal.Female.Single                    1000 non-null int64\n",
      "OtherDebtorsGuarantors.None               1000 non-null int64\n",
      "OtherDebtorsGuarantors.CoApplicant        1000 non-null int64\n",
      "OtherDebtorsGuarantors.Guarantor          1000 non-null int64\n",
      "Property.RealEstate                       1000 non-null int64\n",
      "Property.Insurance                        1000 non-null int64\n",
      "Property.CarOther                         1000 non-null int64\n",
      "Property.Unknown                          1000 non-null int64\n",
      "OtherInstallmentPlans.Bank                1000 non-null int64\n",
      "OtherInstallmentPlans.Stores              1000 non-null int64\n",
      "OtherInstallmentPlans.None                1000 non-null int64\n",
      "Housing.Rent                              1000 non-null int64\n",
      "Housing.Own                               1000 non-null int64\n",
      "Housing.ForFree                           1000 non-null int64\n",
      "Job.UnemployedUnskilled                   1000 non-null int64\n",
      "Job.UnskilledResident                     1000 non-null int64\n",
      "Job.SkilledEmployee                       1000 non-null int64\n",
      "Job.Management.SelfEmp.HighlyQualified    1000 non-null int64\n",
      "dtypes: int64(61), object(1)\n",
      "memory usage: 484.5+ KB\n"
     ]
    }
   ],
   "source": [
    "# Columns information\n",
    "df.info()"
   ]
  },
  {
   "cell_type": "code",
   "execution_count": 7,
   "metadata": {},
   "outputs": [
    {
     "name": "stdout",
     "output_type": "stream",
     "text": [
      "(1000, 61)\n",
      "(1000,)\n"
     ]
    }
   ],
   "source": [
    "# Split the dataframe into features and labels\n",
    "features = df.drop('Class', axis=1)\n",
    "print(features.shape)\n",
    "target = (df.Class == 'Good') * 1\n",
    "print(target.shape)"
   ]
  },
  {
   "cell_type": "code",
   "execution_count": 8,
   "metadata": {},
   "outputs": [
    {
     "data": {
      "text/plain": [
       "1    700\n",
       "0    300\n",
       "Name: Class, dtype: int64"
      ]
     },
     "execution_count": 8,
     "metadata": {},
     "output_type": "execute_result"
    }
   ],
   "source": [
    "# Check if classes are balanced\n",
    "target.value_counts()"
   ]
  },
  {
   "cell_type": "code",
   "execution_count": 9,
   "metadata": {},
   "outputs": [],
   "source": [
    "# Convert dataframe to array\n",
    "import numpy as np\n",
    "X = np.asarray(features)\n",
    "y = np.asarray(target)"
   ]
  },
  {
   "cell_type": "code",
   "execution_count": 10,
   "metadata": {},
   "outputs": [],
   "source": [
    "from sklearn.model_selection import train_test_split\n",
    "from sklearn.metrics import f1_score, make_scorer, accuracy_score, classification_report, \\\n",
    "precision_recall_fscore_support, confusion_matrix "
   ]
  },
  {
   "cell_type": "code",
   "execution_count": 11,
   "metadata": {},
   "outputs": [],
   "source": [
    "# Split the data into training and testing sets\n",
    "X_train, X_test, y_train, y_test = train_test_split(X, y, test_size=0.3, random_state=42)"
   ]
  },
  {
   "cell_type": "code",
   "execution_count": 12,
   "metadata": {},
   "outputs": [],
   "source": [
    "def train_test_model(clf, algorithm, X_train, X_test, y_train, y_test, params=None):\n",
    "    '''Takes a classifier object, train, test and prints performance metrics'''\n",
    "    if params:\n",
    "        # Make an f1_score scoring object.\n",
    "        # Since classes are imbalanced, I used f1_score. But tried accuracy also and gave almost the same result\n",
    "        scorer = make_scorer(f1_score) \n",
    "        \n",
    "        # Perform grid search on the classifier using 'scorer' as the scoring method.\n",
    "        grid_obj = GridSearchCV(clf, params, scoring=scorer) \n",
    "        \n",
    "        # Fit the grid search object to the training data and find the optimal parameters.\n",
    "        grid_fit = grid_obj.fit(X_train, y_train)\n",
    "\n",
    "        # Get the estimator.\n",
    "        clf = grid_fit.best_estimator_\n",
    "\n",
    "        # Fit the new model.\n",
    "        clf.fit(X_train, y_train)\n",
    "        \n",
    "        # Print best parmeters\n",
    "        print(f\"Best parameters for {algorithm}: {grid_fit.best_params_}\")\n",
    "    else:\n",
    "        # Fit the model with default parameters\n",
    "        clf.fit(X_train, y_train)\n",
    "    \n",
    "    train_predictions = clf.predict(X_train)\n",
    "    test_predictions = clf.predict(X_test)\n",
    "    \n",
    "    training_accuracy = round(accuracy_score(y_train, train_predictions), 2)\n",
    "    test_accuracy = round(accuracy_score(y_test, test_predictions), 2)\n",
    "    training_f1 = round(f1_score(y_train, train_predictions), 2)\n",
    "    test_f1 = round(f1_score(y_test, test_predictions), 2)\n",
    "    \n",
    "    # Print accuracy and f1_score\n",
    "    print('Training accuracy:', training_accuracy)\n",
    "    print('Test accuracy:', test_accuracy)\n",
    "    print('\\n')\n",
    "    print('Training F1 score:', training_f1)\n",
    "    print('Test F1 Score:', test_f1)\n",
    "    \n",
    "    return clf, algorithm, test_accuracy, test_f1\n",
    "\n",
    "        "
   ]
  },
  {
   "cell_type": "code",
   "execution_count": 13,
   "metadata": {},
   "outputs": [],
   "source": [
    "# Variables to collect performance of various algorithms\n",
    "algo = []\n",
    "accuracy = []\n",
    "f1 = []"
   ]
  },
  {
   "cell_type": "markdown",
   "metadata": {},
   "source": [
    "<a id='dt'></a>\n",
    "### <font color='brown'> Decision Tree </font>"
   ]
  },
  {
   "cell_type": "code",
   "execution_count": 14,
   "metadata": {},
   "outputs": [
    {
     "name": "stdout",
     "output_type": "stream",
     "text": [
      "Training accuracy: 1.0\n",
      "Test accuracy: 0.65\n",
      "\n",
      "\n",
      "Training F1 score: 1.0\n",
      "Test F1 Score: 0.75\n"
     ]
    }
   ],
   "source": [
    "# Decision tree with default hyperparameters\n",
    "clf = DecisionTreeClassifier(random_state=42)\n",
    "\n",
    "# Train and test model using train_test_model function\n",
    "clf_dt, algorithm, test_accuracy, test_f1 = train_test_model(clf, 'Decision Tree', X_train, X_test, y_train, \n",
    "                                                             y_test, params=None)"
   ]
  },
  {
   "cell_type": "code",
   "execution_count": 15,
   "metadata": {},
   "outputs": [
    {
     "name": "stderr",
     "output_type": "stream",
     "text": [
      "C:\\Users\\prasa\\Anaconda3\\lib\\site-packages\\sklearn\\model_selection\\_split.py:1978: FutureWarning: The default value of cv will change from 3 to 5 in version 0.22. Specify it explicitly to silence this warning.\n",
      "  warnings.warn(CV_WARNING, FutureWarning)\n"
     ]
    },
    {
     "name": "stdout",
     "output_type": "stream",
     "text": [
      "Best parameters for Decision Tree: {'max_depth': 4, 'max_features': 'auto', 'min_samples_leaf': 6, 'min_samples_split': 2}\n",
      "Training accuracy: 0.76\n",
      "Test accuracy: 0.72\n",
      "\n",
      "\n",
      "Training F1 score: 0.84\n",
      "Test F1 Score: 0.82\n"
     ]
    }
   ],
   "source": [
    "# Decision tree with tuned hyperparameters\n",
    "clf = DecisionTreeClassifier(random_state=42)\n",
    "\n",
    "parameters = {'max_depth': [2,4,6,8,10,20,30,40,50,60,70,80,90,100,None],\n",
    " 'max_features': ['auto', 'sqrt', 'log2'],\n",
    " 'min_samples_leaf': [1,2,4,6,8,10],\n",
    " 'min_samples_split': [2,4,6,8,10]}\n",
    "\n",
    "# Train and test model using train_test_model function\n",
    "clf_dt, algorithm, test_accuracy, test_f1 = train_test_model(clf, 'Decision Tree', X_train, X_test, y_train, \n",
    "                                                          y_test, params=parameters)\n",
    "algo.append(algorithm)\n",
    "accuracy.append(test_accuracy)\n",
    "f1.append(test_f1)"
   ]
  },
  {
   "cell_type": "code",
   "execution_count": 16,
   "metadata": {},
   "outputs": [
    {
     "name": "stdout",
     "output_type": "stream",
     "text": [
      "[[ 20  71]\n",
      " [ 14 195]]\n"
     ]
    }
   ],
   "source": [
    "# Get confusion matrix\n",
    "print(confusion_matrix(y_test, clf_dt.predict(X_test)))"
   ]
  },
  {
   "cell_type": "code",
   "execution_count": 17,
   "metadata": {},
   "outputs": [
    {
     "name": "stdout",
     "output_type": "stream",
     "text": [
      "              precision    recall  f1-score   support\n",
      "\n",
      "         Bad       0.59      0.22      0.32        91\n",
      "        Good       0.73      0.93      0.82       209\n",
      "\n",
      "    accuracy                           0.72       300\n",
      "   macro avg       0.66      0.58      0.57       300\n",
      "weighted avg       0.69      0.72      0.67       300\n",
      "\n"
     ]
    }
   ],
   "source": [
    "# Get various performance metrics for the model\n",
    "print(classification_report(y_test, clf_dt.predict(X_test), target_names=['Bad', 'Good']))"
   ]
  },
  {
   "cell_type": "markdown",
   "metadata": {},
   "source": [
    "### After you've built the best model you can, now it's time to visualize it!"
   ]
  },
  {
   "cell_type": "markdown",
   "metadata": {},
   "source": [
    "Rememeber that amazing blog post from a few paragraphs ago, that demonstrated how to visualize and interpret the results of your Decision Tree model. We've seen that this can perform very well, but let's see how it does on the \"German Credit\" dataset that we're working on, due to it being a bit larger than the one used by the blog authors."
   ]
  },
  {
   "cell_type": "markdown",
   "metadata": {},
   "source": [
    "First, we're going to need to install their package. If you're using Anaconda, this can be done easily by running:"
   ]
  },
  {
   "cell_type": "code",
   "execution_count": 18,
   "metadata": {
    "scrolled": true
   },
   "outputs": [],
   "source": [
    "# ! pip install dtreeviz\n",
    "# Also had to download the Graphviz from the link below and add graphviz to path variable"
   ]
  },
  {
   "cell_type": "markdown",
   "metadata": {},
   "source": [
    "If for any reason this way of installing doesn't work for you straight out of the box, please refer to the more detailed documentation here: https://github.com/parrt/dtreeviz"
   ]
  },
  {
   "cell_type": "markdown",
   "metadata": {},
   "source": [
    "Now you're ready to visualize your Decision Tree model! Please feel free to use the blog post for guidance and inspiration!"
   ]
  },
  {
   "cell_type": "code",
   "execution_count": 19,
   "metadata": {},
   "outputs": [],
   "source": [
    "# Add graphviz to PATH variable\n",
    "import os\n",
    "os.environ[\"PATH\"] += os.pathsep + 'C:/Program Files (x86)/Graphviz2.38/bin/'"
   ]
  },
  {
   "cell_type": "code",
   "execution_count": 43,
   "metadata": {
    "scrolled": true
   },
   "outputs": [
    {
     "data": {
      "text/plain": [
       "<Figure size 720x720 with 0 Axes>"
      ]
     },
     "metadata": {},
     "output_type": "display_data"
    }
   ],
   "source": [
    "# Visualize the decision tree\n",
    "import matplotlib.pyplot as plt\n",
    "plt.figure(figsize=(10,10))\n",
    "viz = dtreeviz(clf_dt, X_train, y_train, target_name='Class',\n",
    "              feature_names=list(df.columns),\n",
    "              class_names=['Bad', 'Good'], orientation='LR')\n",
    "\n",
    "viz.save('dtreeviz.svg') \n",
    "# The visualization is saved instead of displaying because displaying the visualization messed up the notebook.\n",
    "# Saved visualization is displayed in the makrkdown cell below."
   ]
  },
  {
   "cell_type": "markdown",
   "metadata": {},
   "source": [
    "![Dtreeviz visualization](dtreeviz.png)"
   ]
  },
  {
   "cell_type": "markdown",
   "metadata": {},
   "source": [
    "<a id='rf'></a>\n",
    "### <font color='brown'> Random Forests </font>"
   ]
  },
  {
   "cell_type": "markdown",
   "metadata": {},
   "source": [
    "As discussed in the lecture videos, Decision Tree algorithms also have certain undesireable properties. Mainly they have low bias, which is good, but tend to have high variance - which is *not* so good (more about this problem here: https://en.wikipedia.org/wiki/Bias%E2%80%93variance_tradeoff)."
   ]
  },
  {
   "cell_type": "markdown",
   "metadata": {},
   "source": [
    "Noticing these problems, the late Professor Leo Breiman, in 2001, developed the Random Forests algorithm, which mitigates these problems, while at the same time providing even higher predictive accuracy than the majority of Decision Tree algorithm implementations. While the curriculum contains two excellent lectures on Random Forests, if you're interested, you can dive into the original paper here: https://link.springer.com/content/pdf/10.1023%2FA%3A1010933404324.pdf."
   ]
  },
  {
   "cell_type": "markdown",
   "metadata": {},
   "source": [
    "In the next part of this assignment, your are going to use the same \"German Credit\" dataset to train, tune, and measure the performance of a Random Forests model. You will also see certain functionalities that this model, even though it's a bit of a \"black box\", provides for some degree of interpretability."
   ]
  },
  {
   "cell_type": "markdown",
   "metadata": {},
   "source": [
    "First, let's build a Random Forests model, using the same best practices that you've used for your Decision Trees model. You can reuse the things you've already imported there, so no need to do any re-imports, new train/test splits, or loading up the data again."
   ]
  },
  {
   "cell_type": "code",
   "execution_count": 21,
   "metadata": {},
   "outputs": [],
   "source": [
    "from sklearn.ensemble import RandomForestClassifier"
   ]
  },
  {
   "cell_type": "code",
   "execution_count": 22,
   "metadata": {},
   "outputs": [
    {
     "name": "stdout",
     "output_type": "stream",
     "text": [
      "Training accuracy: 0.99\n",
      "Test accuracy: 0.77\n",
      "\n",
      "\n",
      "Training F1 score: 0.99\n",
      "Test F1 Score: 0.84\n"
     ]
    },
    {
     "name": "stderr",
     "output_type": "stream",
     "text": [
      "C:\\Users\\prasa\\Anaconda3\\lib\\site-packages\\sklearn\\ensemble\\forest.py:245: FutureWarning: The default value of n_estimators will change from 10 in version 0.20 to 100 in 0.22.\n",
      "  \"10 in version 0.20 to 100 in 0.22.\", FutureWarning)\n"
     ]
    }
   ],
   "source": [
    "# Random Forest with default hyperparameters\n",
    "clf = RandomForestClassifier(random_state=42)\n",
    "\n",
    "# Train and test model using train_test_model function\n",
    "clf_rf, algorithm, test_accuracy, test_f1 = train_test_model(clf, 'Random Forest', X_train, X_test, y_train, \n",
    "                                                             y_test, params=None)"
   ]
  },
  {
   "cell_type": "code",
   "execution_count": 23,
   "metadata": {},
   "outputs": [
    {
     "name": "stderr",
     "output_type": "stream",
     "text": [
      "C:\\Users\\prasa\\Anaconda3\\lib\\site-packages\\sklearn\\model_selection\\_split.py:1978: FutureWarning: The default value of cv will change from 3 to 5 in version 0.22. Specify it explicitly to silence this warning.\n",
      "  warnings.warn(CV_WARNING, FutureWarning)\n"
     ]
    },
    {
     "name": "stdout",
     "output_type": "stream",
     "text": [
      "Best parameters for Random Forest: {'max_depth': 50, 'min_samples_leaf': 2, 'min_samples_split': 2, 'n_estimators': 100}\n",
      "Training accuracy: 0.95\n",
      "Test accuracy: 0.77\n",
      "\n",
      "\n",
      "Training F1 score: 0.97\n",
      "Test F1 Score: 0.85\n"
     ]
    }
   ],
   "source": [
    "# Random Forest with tuned hyperparameters\n",
    "clf = RandomForestClassifier(random_state=42)\n",
    "\n",
    "parameters = {'max_depth': [4,50,100], \n",
    "              'min_samples_leaf': [2,6],\n",
    "              'n_estimators':[10,100,500],\n",
    "              'min_samples_split': [2,4]}\n",
    "\n",
    "# Train and test model using train_test_model function\n",
    "clf_rf, algorithm, test_accuracy, test_f1 = train_test_model(clf, 'Random Forest', X_train, X_test, y_train, \n",
    "                                                          y_test, params=parameters)\n",
    "algo.append(algorithm)\n",
    "accuracy.append(test_accuracy)\n",
    "f1.append(test_f1)"
   ]
  },
  {
   "cell_type": "code",
   "execution_count": 24,
   "metadata": {},
   "outputs": [
    {
     "name": "stdout",
     "output_type": "stream",
     "text": [
      "              precision    recall  f1-score   support\n",
      "\n",
      "         Bad       0.78      0.35      0.48        91\n",
      "        Good       0.77      0.96      0.85       209\n",
      "\n",
      "    accuracy                           0.77       300\n",
      "   macro avg       0.78      0.65      0.67       300\n",
      "weighted avg       0.77      0.77      0.74       300\n",
      "\n"
     ]
    }
   ],
   "source": [
    "# Get various performance metrics for the random forest model\n",
    "print(classification_report(y_test, clf_rf.predict(X_test), target_names=['Bad', 'Good']))"
   ]
  },
  {
   "cell_type": "markdown",
   "metadata": {},
   "source": [
    "As mentioned, there are certain ways to \"peek\" into a model created by the Random Forests algorithm. The first, and most popular one, is the Feature Importance calculation functionality. This allows the ML practitioner to see an ordering of the importance of the features that have contributed the most to the predictive accuracy of the model. \n",
    "\n",
    "You can see how to use this in the scikit-learn documentation (http://scikit-learn.org/stable/modules/generated/sklearn.ensemble.RandomForestClassifier.html#sklearn.ensemble.RandomForestClassifier.feature_importances_). Now, if you tried this, you would just get an ordered table of not directly interpretable numeric values. Thus, it's much more useful to show the feature importance in a visual way. You can see an example of how that's done here: http://scikit-learn.org/stable/auto_examples/ensemble/plot_forest_importances.html#sphx-glr-auto-examples-ensemble-plot-forest-importances-py\n",
    "\n",
    "Now you try! Let's visualize the importance of features from your Random Forests model!"
   ]
  },
  {
   "cell_type": "code",
   "execution_count": 25,
   "metadata": {},
   "outputs": [
    {
     "name": "stdout",
     "output_type": "stream",
     "text": [
      "Feature ranking:\n",
      "1. feature 1 (0.112361)\n",
      "2. feature 4 (0.090830)\n",
      "3. feature 0 (0.087982)\n",
      "4. feature 12 (0.051281)\n",
      "5. feature 9 (0.049733)\n",
      "6. feature 17 (0.032242)\n",
      "7. feature 2 (0.031655)\n",
      "8. feature 3 (0.029718)\n",
      "9. feature 18 (0.025281)\n",
      "10. feature 29 (0.021591)\n",
      "11. feature 10 (0.019630)\n",
      "12. feature 15 (0.018486)\n",
      "13. feature 7 (0.016825)\n",
      "14. feature 5 (0.016084)\n",
      "15. feature 49 (0.016073)\n",
      "16. feature 47 (0.016012)\n",
      "17. feature 21 (0.015641)\n",
      "18. feature 41 (0.015395)\n",
      "19. feature 34 (0.015192)\n",
      "20. feature 55 (0.014145)\n",
      "21. feature 40 (0.014045)\n",
      "22. feature 13 (0.013768)\n",
      "23. feature 53 (0.013327)\n",
      "24. feature 35 (0.012866)\n",
      "25. feature 50 (0.012508)\n",
      "26. feature 60 (0.012327)\n",
      "27. feature 54 (0.012109)\n",
      "28. feature 51 (0.012098)\n",
      "29. feature 59 (0.012064)\n",
      "30. feature 37 (0.011115)\n",
      "31. feature 14 (0.010851)\n",
      "32. feature 48 (0.010462)\n",
      "33. feature 58 (0.010263)\n",
      "34. feature 20 (0.010034)\n",
      "35. feature 36 (0.009617)\n",
      "36. feature 44 (0.009575)\n",
      "37. feature 27 (0.009138)\n",
      "38. feature 33 (0.008855)\n",
      "39. feature 56 (0.008546)\n",
      "40. feature 6 (0.007845)\n",
      "41. feature 16 (0.007481)\n",
      "42. feature 19 (0.007331)\n",
      "43. feature 24 (0.007183)\n",
      "44. feature 38 (0.007012)\n",
      "45. feature 30 (0.006500)\n",
      "46. feature 11 (0.006341)\n",
      "47. feature 42 (0.006008)\n",
      "48. feature 46 (0.005852)\n",
      "49. feature 31 (0.005653)\n",
      "50. feature 45 (0.003833)\n",
      "51. feature 8 (0.003579)\n",
      "52. feature 39 (0.003421)\n",
      "53. feature 52 (0.003190)\n",
      "54. feature 32 (0.002653)\n",
      "55. feature 23 (0.002540)\n",
      "56. feature 22 (0.001945)\n",
      "57. feature 28 (0.001340)\n",
      "58. feature 57 (0.000558)\n",
      "59. feature 26 (0.000007)\n",
      "60. feature 43 (0.000000)\n",
      "61. feature 25 (0.000000)\n"
     ]
    },
    {
     "data": {
      "image/png": "[encoded data removed]",
      "text/plain": [
       "<Figure size 1080x1080 with 1 Axes>"
      ]
     },
     "metadata": {
      "needs_background": "light"
     },
     "output_type": "display_data"
    }
   ],
   "source": [
    "# Bar plot of feature importances\n",
    "importances = clf_rf.feature_importances_\n",
    "std = np.std([tree.feature_importances_ for tree in clf_rf.estimators_],\n",
    "             axis=0)\n",
    "indices = np.argsort(importances)[::-1]\n",
    "\n",
    "# Print the feature ranking\n",
    "print(\"Feature ranking:\")\n",
    "\n",
    "for f in range(X_train.shape[1]):\n",
    "    print(\"%d. feature %d (%f)\" % (f + 1, indices[f], importances[indices[f]]))\n",
    "\n",
    "# Plot the feature importances of the forest\n",
    "plt.figure(figsize=(15,15))\n",
    "plt.title(\"Feature importances\")\n",
    "plt.bar(range(X_train.shape[1]), importances[indices],\n",
    "       color=\"r\", yerr=std[indices], align=\"center\")\n",
    "plt.xticks(range(X_train.shape[1]), indices)\n",
    "plt.xlim([-1, X_train.shape[1]])\n",
    "plt.show()"
   ]
  },
  {
   "cell_type": "markdown",
   "metadata": {},
   "source": [
    "A final method for gaining some insight into the inner working of your Random Forests models is a so-called Partial Dependence Plot. The Partial Dependence Plot (PDP or PD plot) shows the marginal effect of a feature on the predicted outcome of a previously fit model. The prediction function is fixed at a few values of the chosen features and averaged over the other features. A partial dependence plot can show if the relationship between the target and a feature is linear, monotonic or more complex. \n",
    "\n",
    "In scikit-learn, PDPs are implemented and available for certain algorithms, but at this point (version 0.20.0) they are not yet implemented for Random Forests. Thankfully, there is an add-on package called **PDPbox** (https://pdpbox.readthedocs.io/en/latest/) which adds this functionality to Random Forests. The package is easy to install through pip."
   ]
  },
  {
   "cell_type": "code",
   "execution_count": 26,
   "metadata": {},
   "outputs": [],
   "source": [
    "# ! pip install pdpbox\n",
    "from pdpbox import pdp"
   ]
  },
  {
   "cell_type": "markdown",
   "metadata": {},
   "source": [
    "While we encourage you to read the documentation for the package (and reading package documentation in general is a good habit to develop), the authors of the package have also written an excellent blog post on how to use it, showing examples on different algorithms from scikit-learn (the Random Forests example is towards the end of the blog post): https://briangriner.github.io/Partial_Dependence_Plots_presentation-BrianGriner-PrincetonPublicLibrary-4.14.18-updated-4.22.18.html"
   ]
  },
  {
   "cell_type": "markdown",
   "metadata": {},
   "source": [
    "So, armed with this new knowledge, feel free to pick a few features, and make a couple of Partial Dependence Plots of your own!"
   ]
  },
  {
   "cell_type": "markdown",
   "metadata": {},
   "source": [
    "### <font color='brown'> Partial Dependent Plots </font>\n",
    "I have drawn PDPs for 3 most important and 3 least important features as per feature importances determined above."
   ]
  },
  {
   "cell_type": "code",
   "execution_count": 27,
   "metadata": {},
   "outputs": [],
   "source": [
    "# Since you have to feed dataframe into PDP, create a copy of the dataframe\n",
    "df_pdp = df.copy()\n",
    "# Encode the Class variable to 0 and 1\n",
    "df_pdp.Class = (df_pdp.Class == 'Good') * 1\n",
    "model_features = list(df.columns)\n",
    "model_features.remove('Class')"
   ]
  },
  {
   "cell_type": "code",
   "execution_count": 28,
   "metadata": {},
   "outputs": [],
   "source": [
    "def pdp_plots(feature_list):\n",
    "    '''Takes a list of features and draw partial dependence plots'''\n",
    "    for i in feature_list:\n",
    "        pdp_iso = pdp.pdp_isolate(model=clf_rf,\n",
    "                                  dataset=df_pdp,\n",
    "                                  model_features=model_features,\n",
    "                                  feature=i)\n",
    "        pdp.pdp_plot(pdp_isolate_out=pdp_iso, feature_name=i)"
   ]
  },
  {
   "cell_type": "code",
   "execution_count": 29,
   "metadata": {
    "scrolled": true
   },
   "outputs": [
    {
     "data": {
      "image/png": "[encoded data removed]",
      "text/plain": [
       "<Figure size 1080x684 with 2 Axes>"
      ]
     },
     "metadata": {
      "needs_background": "light"
     },
     "output_type": "display_data"
    },
    {
     "data": {
      "image/png": "[encoded data removed]",
      "text/plain": [
       "<Figure size 1080x684 with 2 Axes>"
      ]
     },
     "metadata": {
      "needs_background": "light"
     },
     "output_type": "display_data"
    },
    {
     "data": {
      "image/png": "[encoded data removed]",
      "text/plain": [
       "<Figure size 1080x684 with 2 Axes>"
      ]
     },
     "metadata": {
      "needs_background": "light"
     },
     "output_type": "display_data"
    }
   ],
   "source": [
    "# PDPs for 3 most important features\n",
    "most_imp_features = [list(features.columns)[i] for i in indices[[0, 1, 2]]] \n",
    "pdp_plots(most_imp_features)"
   ]
  },
  {
   "cell_type": "code",
   "execution_count": 30,
   "metadata": {},
   "outputs": [
    {
     "data": {
      "image/png": "[encoded data removed]",
      "text/plain": [
       "<Figure size 1080x684 with 2 Axes>"
      ]
     },
     "metadata": {
      "needs_background": "light"
     },
     "output_type": "display_data"
    },
    {
     "data": {
      "image/png": "[encoded data removed]",
      "text/plain": [
       "<Figure size 1080x684 with 2 Axes>"
      ]
     },
     "metadata": {
      "needs_background": "light"
     },
     "output_type": "display_data"
    },
    {
     "data": {
      "image/png": "[encoded data removed]",
      "text/plain": [
       "<Figure size 1080x684 with 2 Axes>"
      ]
     },
     "metadata": {
      "needs_background": "light"
     },
     "output_type": "display_data"
    }
   ],
   "source": [
    "# PDPs for 3 least important features\n",
    "least_imp_features = [list(features.columns)[i] for i in indices[[-1, -2, -3]]]\n",
    "pdp_plots(least_imp_features)"
   ]
  },
  {
   "cell_type": "markdown",
   "metadata": {},
   "source": [
    "## (Optional) Advanced Boosting-Based Algorithms"
   ]
  },
  {
   "cell_type": "markdown",
   "metadata": {},
   "source": [
    "As explained in the video lectures, the next generation of algorithms after Random Forests (that use Bagging, a.k.a. Bootstrap Aggregation) were developed using Boosting, and the first one of these were Gradient Boosted Machines, which are implemented in scikit-learn (http://scikit-learn.org/stable/modules/ensemble.html#gradient-tree-boosting)."
   ]
  },
  {
   "cell_type": "markdown",
   "metadata": {},
   "source": [
    "Still, in recent years, a number of variations on GBMs have been developed by different research amd industry groups, all of them bringing improvements, both in speed, accuracy and functionality to the original Gradient Boosting algorithms.\n",
    "\n",
    "In no order of preference, these are:\n",
    "1. **XGBoost**: https://xgboost.readthedocs.io/en/latest/\n",
    "2. **CatBoost**: https://tech.yandex.com/catboost/\n",
    "3. **LightGBM**: https://lightgbm.readthedocs.io/en/latest/"
   ]
  },
  {
   "cell_type": "markdown",
   "metadata": {},
   "source": [
    "If you're using the Anaconda distribution, these are all very easy to install:"
   ]
  },
  {
   "cell_type": "markdown",
   "metadata": {},
   "source": [
    "<a id='xgb'></a>\n",
    "### <font color='brown'> XGBoost </font>\n"
   ]
  },
  {
   "cell_type": "code",
   "execution_count": 31,
   "metadata": {},
   "outputs": [],
   "source": [
    "# ! conda install -c anaconda py-xgboost\n",
    "from xgboost import XGBClassifier"
   ]
  },
  {
   "cell_type": "code",
   "execution_count": 32,
   "metadata": {},
   "outputs": [
    {
     "name": "stdout",
     "output_type": "stream",
     "text": [
      "Training accuracy: 0.89\n",
      "Test accuracy: 0.77\n",
      "\n",
      "\n",
      "Training F1 score: 0.93\n",
      "Test F1 Score: 0.85\n"
     ]
    }
   ],
   "source": [
    "# XGBoost with default hyperparameters\n",
    "clf = XGBClassifier(random_state=42)\n",
    "\n",
    "# Train and test model using train_test_model function\n",
    "clf_xgb, algorithm, test_accuracy, test_f1 = train_test_model(clf, 'XGBoost', X_train, X_test, y_train, \n",
    "                                                             y_test, params=None)"
   ]
  },
  {
   "cell_type": "code",
   "execution_count": 33,
   "metadata": {},
   "outputs": [
    {
     "name": "stdout",
     "output_type": "stream",
     "text": [
      "Best parameters for XGBoost: {'max_depth': 3, 'min_child_weight': 1, 'n_estimators': 100}\n",
      "Training accuracy: 0.89\n",
      "Test accuracy: 0.77\n",
      "\n",
      "\n",
      "Training F1 score: 0.93\n",
      "Test F1 Score: 0.85\n"
     ]
    }
   ],
   "source": [
    "# XGBoost with tuned hyperparameters\n",
    "clf = XGBClassifier(random_state=42)\n",
    "\n",
    "parameters = {'max_depth': [3], \n",
    "              'n_estimators' : [100],\n",
    "              'min_child_weight': [1]}\n",
    "\n",
    "# I tried many different values in gridsearch. Interestingly default parameters gives the best result. So I used only default\n",
    "# parameters above. Here Gridsearch is not necessary as only default parameters are used in the gridsearch. Since I already\n",
    "# wrote the code for gridsearch I left it.\n",
    "\n",
    "# Train and test model using train_test_model function\n",
    "clf_xgb, algorithm, test_accuracy, test_f1 = train_test_model(clf, 'XGBoost', X_train, X_test, y_train, \n",
    "                                                          y_test, params=parameters)\n",
    "\n",
    "algo.append(algorithm)\n",
    "accuracy.append(test_accuracy)\n",
    "f1.append(test_f1)"
   ]
  },
  {
   "cell_type": "markdown",
   "metadata": {},
   "source": [
    "<a id='cb'></a>\n",
    "### <font color='brown'> CatBoost </font>\n"
   ]
  },
  {
   "cell_type": "code",
   "execution_count": 34,
   "metadata": {},
   "outputs": [],
   "source": [
    "# ! conda install -c conda-forge catboost\n",
    "from catboost import CatBoostClassifier"
   ]
  },
  {
   "cell_type": "code",
   "execution_count": 35,
   "metadata": {},
   "outputs": [
    {
     "name": "stdout",
     "output_type": "stream",
     "text": [
      "Training accuracy: 0.95\n",
      "Test accuracy: 0.79\n",
      "\n",
      "\n",
      "Training F1 score: 0.96\n",
      "Test F1 Score: 0.86\n"
     ]
    }
   ],
   "source": [
    "# CatBoost with default hyperparameters\n",
    "\n",
    "clf = CatBoostClassifier(random_state=42, logging_level='Silent')\n",
    "\n",
    "# Train and test model using train_test_model function\n",
    "clf_cb, algorithm, test_accuracy, test_f1 = train_test_model(clf, 'CatBoost', X_train, X_test, y_train, \n",
    "                                                             y_test, params=None)"
   ]
  },
  {
   "cell_type": "code",
   "execution_count": 36,
   "metadata": {},
   "outputs": [
    {
     "name": "stdout",
     "output_type": "stream",
     "text": [
      "Best parameters for CatBoost: {'depth': 6, 'logging_level': 'Silent', 'loss_function': 'Logloss'}\n",
      "Training accuracy: 0.95\n",
      "Test accuracy: 0.79\n",
      "\n",
      "\n",
      "Training F1 score: 0.96\n",
      "Test F1 Score: 0.86\n"
     ]
    }
   ],
   "source": [
    "# CatBoost with tuned hyperparameter\n",
    "clf = CatBoostClassifier(random_state=42)\n",
    "\n",
    "parameters = {'depth':[6],\n",
    "              'loss_function':['Logloss'],\n",
    "              'logging_level':['Silent']\n",
    "             }\n",
    "# Here again, I tried many different values in gridsearch. Here also default parameters gives the best result.\n",
    "# Parameters dictionary above has only default parameters.\n",
    "\n",
    "clf_cb, algorithm, test_accuracy, test_f1 = train_test_model(clf, 'CatBoost', X_train, X_test, y_train, \n",
    "                                                          y_test, params=parameters)\n",
    "\n",
    "algo.append(algorithm)\n",
    "accuracy.append(test_accuracy)\n",
    "f1.append(test_f1)"
   ]
  },
  {
   "cell_type": "markdown",
   "metadata": {},
   "source": [
    "<a id='lgb'></a>\n",
    "### <font color='brown'> LightGBM </font>\n"
   ]
  },
  {
   "cell_type": "code",
   "execution_count": 37,
   "metadata": {},
   "outputs": [],
   "source": [
    "# ! conda install -c conda-forge lightgbm\n",
    "import lightgbm as lgb"
   ]
  },
  {
   "cell_type": "code",
   "execution_count": 38,
   "metadata": {},
   "outputs": [
    {
     "name": "stdout",
     "output_type": "stream",
     "text": [
      "Training accuracy: 1.0\n",
      "Test accuracy: 0.79\n",
      "\n",
      "\n",
      "Training F1 score: 1.0\n",
      "Test F1 Score: 0.86\n"
     ]
    }
   ],
   "source": [
    "# LibhtGBM with default hyperparameters\n",
    "\n",
    "clf = lgb.LGBMClassifier(random_state=42)\n",
    "\n",
    "# Train and test model using train_test_model function\n",
    "clf_lg, algorithm, test_accuracy, test_f1 = train_test_model(clf, 'LightGBM', X_train, X_test, y_train, \n",
    "                                                             y_test, params=None)"
   ]
  },
  {
   "cell_type": "code",
   "execution_count": 39,
   "metadata": {},
   "outputs": [
    {
     "name": "stdout",
     "output_type": "stream",
     "text": [
      "Best parameters for LightGBM: {'learning_rate': 0.1, 'n_estimators': 100, 'num_leaves': 31}\n",
      "Training accuracy: 1.0\n",
      "Test accuracy: 0.79\n",
      "\n",
      "\n",
      "Training F1 score: 1.0\n",
      "Test F1 Score: 0.86\n"
     ]
    }
   ],
   "source": [
    "# LightGBM with tuned hyperparameters\n",
    "clf = lgb.LGBMClassifier(random_state=42)\n",
    "\n",
    "parameters = {'learning_rate': [0.1],\n",
    "              'n_estimators': [100],\n",
    "              'num_leaves': [31]}\n",
    "# Here also default parameters yielded better result. Parameters dictionary above has only default parameters.\n",
    "\n",
    "# Train and test model using train_test_model function\n",
    "clf_lg, algorithm, test_accuracy, test_f1 = train_test_model(clf, 'LightGBM', X_train, X_test, y_train, \n",
    "                                                             y_test, params=parameters)\n",
    "\n",
    "algo.append(algorithm)\n",
    "accuracy.append(test_accuracy)\n",
    "f1.append(test_f1)"
   ]
  },
  {
   "cell_type": "code",
   "execution_count": 40,
   "metadata": {},
   "outputs": [
    {
     "name": "stdout",
     "output_type": "stream",
     "text": [
      "              precision    recall  f1-score   support\n",
      "\n",
      "         Bad       0.71      0.51      0.59        91\n",
      "        Good       0.81      0.91      0.86       209\n",
      "\n",
      "    accuracy                           0.79       300\n",
      "   macro avg       0.76      0.71      0.72       300\n",
      "weighted avg       0.78      0.79      0.78       300\n",
      "\n"
     ]
    }
   ],
   "source": [
    "# Print classification report for LightGBM\n",
    "print(classification_report(y_test, clf_lg.predict(X_test), target_names=['Bad', 'Good']))"
   ]
  },
  {
   "cell_type": "markdown",
   "metadata": {},
   "source": [
    "Your task in this optional section of the mini project is to read the documentation of these three libraries, and apply all of them to the \"German Credit\" dataset, just like you did in the case of Decision Trees and Random Forests."
   ]
  },
  {
   "cell_type": "markdown",
   "metadata": {},
   "source": [
    "The final deliverable of this section should be a table (can be a pandas DataFrame) which shows the accuracy of all the five algorthms taught in this mini project in one place."
   ]
  },
  {
   "cell_type": "markdown",
   "metadata": {},
   "source": [
    "Happy modeling! :)"
   ]
  },
  {
   "cell_type": "markdown",
   "metadata": {},
   "source": [
    "### <font color='brown'> Comparison of different algorithms </font>"
   ]
  },
  {
   "cell_type": "code",
   "execution_count": 41,
   "metadata": {},
   "outputs": [
    {
     "data": {
      "text/html": [
       "<div>\n",
       "<style scoped>\n",
       "    .dataframe tbody tr th:only-of-type {\n",
       "        vertical-align: middle;\n",
       "    }\n",
       "\n",
       "    .dataframe tbody tr th {\n",
       "        vertical-align: top;\n",
       "    }\n",
       "\n",
       "    .dataframe thead th {\n",
       "        text-align: right;\n",
       "    }\n",
       "</style>\n",
       "<table border=\"1\" class=\"dataframe\">\n",
       "  <thead>\n",
       "    <tr style=\"text-align: right;\">\n",
       "      <th></th>\n",
       "      <th>Algorithm</th>\n",
       "      <th>Test Accuracy</th>\n",
       "      <th>Test F1 Score</th>\n",
       "    </tr>\n",
       "  </thead>\n",
       "  <tbody>\n",
       "    <tr>\n",
       "      <th>0</th>\n",
       "      <td>Decision Tree</td>\n",
       "      <td>0.72</td>\n",
       "      <td>0.82</td>\n",
       "    </tr>\n",
       "    <tr>\n",
       "      <th>1</th>\n",
       "      <td>Random Forest</td>\n",
       "      <td>0.77</td>\n",
       "      <td>0.85</td>\n",
       "    </tr>\n",
       "    <tr>\n",
       "      <th>2</th>\n",
       "      <td>XGBoost</td>\n",
       "      <td>0.77</td>\n",
       "      <td>0.85</td>\n",
       "    </tr>\n",
       "    <tr>\n",
       "      <th>3</th>\n",
       "      <td>CatBoost</td>\n",
       "      <td>0.79</td>\n",
       "      <td>0.86</td>\n",
       "    </tr>\n",
       "    <tr>\n",
       "      <th>4</th>\n",
       "      <td>LightGBM</td>\n",
       "      <td>0.79</td>\n",
       "      <td>0.86</td>\n",
       "    </tr>\n",
       "  </tbody>\n",
       "</table>\n",
       "</div>"
      ],
      "text/plain": [
       "       Algorithm  Test Accuracy  Test F1 Score\n",
       "0  Decision Tree           0.72           0.82\n",
       "1  Random Forest           0.77           0.85\n",
       "2        XGBoost           0.77           0.85\n",
       "3       CatBoost           0.79           0.86\n",
       "4       LightGBM           0.79           0.86"
      ]
     },
     "execution_count": 41,
     "metadata": {},
     "output_type": "execute_result"
    }
   ],
   "source": [
    "score_df = pd.DataFrame({'Algorithm' : algo,\n",
    "                        'Test Accuracy' : accuracy,\n",
    "                        'Test F1 Score' : f1})\n",
    "score_df                "
   ]
  },
  {
   "cell_type": "markdown",
   "metadata": {},
   "source": [
    "### <font color='brown'> Why default parameters gave better results in boosting algorithms? </font>\n",
    "\n",
    "In boosting algorithms I used above, although I included default parameters in the gridsearch, tuned hyperparameters yielded performance that is worse than the model trained without parameter tuning. The reasons for this could be;\n",
    "\n",
    "- In the training set, we have only 700 observations. When I grid search with CV=3, only ~460 observations are available for training. This probably leads to poor training and selection of poor parameters. It is true I used all the 700 points for final training. But still the final training uses the hyperparameters obtained by training the model using ~460 points. In contrast, when I trained the model without gridsearch, the model is trained on all 700 data points, which may lead to better training.\n",
    "\n",
    "- If I include more parameters and more possible values in gridsearch, it may improve performance. But with limited computational resource I have, it would take very long.\n",
    "\n",
    "Note: I wanted to try cv=10 in grid search. However, this was taking very long time to tune, so I did not put a lot of effort on this. This may or may not imporve performance as this would leave only 70 points for validation."
   ]
  },
  {
   "cell_type": "markdown",
   "metadata": {},
   "source": [
    "<a id='cl'></a>\n",
    "### <font color='brown'> Conclusions </font>\n",
    "\n",
    "Decision tree model did not perform much better than zero-information prediction function; if we had just predicted mode of the target label (1) without considering any input, we would have got ~70% accuracy. The decision tree model is just slightly better (72% accuracy) than this baseline model. \n",
    "\n",
    "With random forest and XGBoost, I got an accuracy of 77%. The highest accuracy was obtained with CatBoost and LightGBM. Still it was just 79%. The critical limitation of these models is that it performed very poorly in identifying Bad loans, which is most important thing for a banker. For instance, LightGBM with an accuracy of 79%, could recall only 51% of the bad loans.\n",
    "\n",
    "A response variable related to financial matter like this is likely to influenced by many other variables. In this dataset, we have 61 predictor variables. To identify the relationship of all these variables with the response variable, which may or may not exist, we need much larger dataset than just 1000 observations."
   ]
  }
 ],
 "metadata": {
  "kernelspec": {
   "display_name": "Python 3",
   "language": "python",
   "name": "python3"
  },
  "language_info": {
   "codemirror_mode": {
    "name": "ipython",
    "version": 3
   },
   "file_extension": ".py",
   "mimetype": "text/x-python",
   "name": "python",
   "nbconvert_exporter": "python",
   "pygments_lexer": "ipython3",
   "version": "3.6.8"
  }
 },
 "nbformat": 4,
 "nbformat_minor": 2
}
