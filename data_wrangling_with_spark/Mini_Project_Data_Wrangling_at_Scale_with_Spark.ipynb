{
 "cells": [
  {
   "cell_type": "markdown",
   "metadata": {},
   "source": [
    "# Analyzing Web Server Logs with Apache Spark\n",
    "\n",
    "Apache Spark is an excellent and ideal framework for wrangling, analyzing and modeling on structured and unstructured data - at scale! In this mini-project, we will be focusing on one of the most popular use-cases in the industry - log analytics.\n",
    "\n",
    "Typically, server logs are a very common data source in enterprises and often contain a gold mine of actionable insights and information. Log data comes from many sources in an enterprise, such as the web, client and compute servers, applications, user-generated content, flat files. They can be used for monitoring servers, improving business and customer intelligence, building recommendation systems, fraud detection, and much more.\n",
    "\n",
    "Spark allows you to dump and store your logs in files on disk cheaply, while still providing rich APIs to perform data analysis at scale. This mini-project will show you how to use Apache Spark on real-world production logs from NASA and learn data wrangling and basic yet powerful techniques in exploratory data analysis.\n",
    "\n",
    "There are a total of 12 questions for you to solve along with some interactive examples which will help you learn aspects of leveraging spark for analyzing over 3 million logs at scale.\n",
    "\n",
    "Remember to focus on the __`# TODO: Replace <FILL IN> with appropriate code`__ sections to fill them up with necessary code to solve the desired questions in the notebook"
   ]
  },
  {
   "cell_type": "markdown",
   "metadata": {},
   "source": [
    "# Section 1 - Loading up Dependencies"
   ]
  },
  {
   "cell_type": "code",
   "execution_count": 1,
   "metadata": {},
   "outputs": [
    {
     "data": {
      "text/html": [
       "\n",
       "            <div>\n",
       "                <p><b>SparkSession - hive</b></p>\n",
       "                \n",
       "        <div>\n",
       "            <p><b>SparkContext</b></p>\n",
       "\n",
       "            <p><a href=\"http://domino-run-5d28237cc9e77c00076ef366:4040\">Spark UI</a></p>\n",
       "\n",
       "            <dl>\n",
       "              <dt>Version</dt>\n",
       "                <dd><code>v2.4.0</code></dd>\n",
       "              <dt>Master</dt>\n",
       "                <dd><code>local[*]</code></dd>\n",
       "              <dt>AppName</dt>\n",
       "                <dd><code>PySparkShell</code></dd>\n",
       "            </dl>\n",
       "        </div>\n",
       "        \n",
       "            </div>\n",
       "        "
      ],
      "text/plain": [
       "<pyspark.sql.session.SparkSession at 0x7fc55cca85f8>"
      ]
     },
     "execution_count": 1,
     "metadata": {},
     "output_type": "execute_result"
    }
   ],
   "source": [
    "spark"
   ]
  },
  {
   "cell_type": "code",
   "execution_count": 2,
   "metadata": {},
   "outputs": [
    {
     "data": {
      "text/plain": [
       "<pyspark.sql.context.SQLContext at 0x7fc55cca8400>"
      ]
     },
     "execution_count": 2,
     "metadata": {},
     "output_type": "execute_result"
    }
   ],
   "source": [
    "sqlContext"
   ]
  },
  {
   "cell_type": "code",
   "execution_count": 3,
   "metadata": {
    "collapsed": true
   },
   "outputs": [],
   "source": [
    "if 'sc' not in locals():\n",
    "    from pyspark.context import SparkContext\n",
    "    from pyspark.sql.context import SQLContext\n",
    "    from pyspark.sql.session import SparkSession\n",
    "    \n",
    "    sc = SparkContext()\n",
    "    sqlContext = SQLContext(sc)\n",
    "    spark = SparkSession(sc)"
   ]
  },
  {
   "cell_type": "code",
   "execution_count": 4,
   "metadata": {
    "collapsed": true
   },
   "outputs": [],
   "source": [
    "import re\n",
    "import pandas as pd"
   ]
  },
  {
   "cell_type": "code",
   "execution_count": 5,
   "metadata": {},
   "outputs": [
    {
     "name": "stdout",
     "output_type": "stream",
     "text": [
      "<_sre.SRE_Match object; span=(0, 25), match=\"I'm searching for a spark\">\n",
      "<_sre.SRE_Match object; span=(25, 36), match=' in PySpark'>\n"
     ]
    }
   ],
   "source": [
    "m = re.finditer(r'.*?(spark).*?', \"I'm searching for a spark in PySpark\", re.I)\n",
    "for match in m:\n",
    "    print(match)"
   ]
  },
  {
   "cell_type": "markdown",
   "metadata": {},
   "source": [
    "For this mini-project, we will analyze datasets from NASA Kennedy Space Center web server in Florida. The full data set is freely available for download [__here__](http://ita.ee.lbl.gov/html/contrib/NASA-HTTP.html).\n",
    "\n",
    "These two traces contain two month's worth of all HTTP requests to the NASA Kennedy Space Center WWW server in Florida. You can head over to the [__website__](http://ita.ee.lbl.gov/html/contrib/NASA-HTTP.html) and download the following files if needed OR just upload the files we have already provided for you into Domino's Cloud Platform (unless you plan to use Spark locally).\n",
    "\n",
    "- Jul 01 to Jul 31, ASCII format, 20.7 MB gzip compressed, 205.2 MB uncompressed: [ftp://ita.ee.lbl.gov/traces/NASA_access_log_Jul95.gz](ftp://ita.ee.lbl.gov/traces/NASA_access_log_Jul95.gz)\n",
    "- Aug 04 to Aug 31, ASCII format, 21.8 MB gzip compressed, 167.8 MB uncompressed: [ftp://ita.ee.lbl.gov/traces/NASA_access_log_Aug95.gz](ftp://ita.ee.lbl.gov/traces/NASA_access_log_Aug95.gz)\n",
    "\n",
    "Make sure both the files are in the same directory as this notebook."
   ]
  },
  {
   "cell_type": "markdown",
   "metadata": {},
   "source": [
    "# Section 2 - Loading and Viewing the Log Dataset\n",
    "\n",
    "Given that our data is stored in the following mentioned path, let's load it into a DataFrame. We'll do this in steps. First, we'll use `sqlContext.read.text()` or `spark.read.text()` to read the text file. This will produce a DataFrame with a single string column called `value`."
   ]
  },
  {
   "cell_type": "code",
   "execution_count": 6,
   "metadata": {},
   "outputs": [
    {
     "data": {
      "text/plain": [
       "['NASA_access_log_Jul95.gz', 'NASA_access_log_Aug95.gz']"
      ]
     },
     "execution_count": 6,
     "metadata": {},
     "output_type": "execute_result"
    }
   ],
   "source": [
    "import glob\n",
    "\n",
    "raw_data_files = glob.glob('*.gz')\n",
    "raw_data_files"
   ]
  },
  {
   "cell_type": "markdown",
   "metadata": {},
   "source": [
    "### Taking a look at the metadata of our dataframe"
   ]
  },
  {
   "cell_type": "code",
   "execution_count": 7,
   "metadata": {},
   "outputs": [
    {
     "name": "stdout",
     "output_type": "stream",
     "text": [
      "root\n",
      " |-- value: string (nullable = true)\n",
      "\n"
     ]
    },
    {
     "data": {
      "text/plain": [
       "3461613"
      ]
     },
     "execution_count": 7,
     "metadata": {},
     "output_type": "execute_result"
    }
   ],
   "source": [
    "base_df = spark.read.text(raw_data_files)\n",
    "base_df.printSchema()\n",
    "base_df.count()"
   ]
  },
  {
   "cell_type": "code",
   "execution_count": 8,
   "metadata": {},
   "outputs": [
    {
     "data": {
      "text/plain": [
       "pyspark.sql.dataframe.DataFrame"
      ]
     },
     "execution_count": 8,
     "metadata": {},
     "output_type": "execute_result"
    }
   ],
   "source": [
    "type(base_df)"
   ]
  },
  {
   "cell_type": "markdown",
   "metadata": {},
   "source": [
    "You can also convert a dataframe to an RDD if needed"
   ]
  },
  {
   "cell_type": "code",
   "execution_count": 9,
   "metadata": {},
   "outputs": [
    {
     "data": {
      "text/plain": [
       "pyspark.rdd.RDD"
      ]
     },
     "execution_count": 9,
     "metadata": {},
     "output_type": "execute_result"
    }
   ],
   "source": [
    "base_df_rdd = base_df.rdd\n",
    "type(base_df_rdd)"
   ]
  },
  {
   "cell_type": "markdown",
   "metadata": {},
   "source": [
    "### Viewing sample data in our dataframe\n",
    "Looks like it needs to be wrangled and parsed!"
   ]
  },
  {
   "cell_type": "code",
   "execution_count": 10,
   "metadata": {},
   "outputs": [
    {
     "name": "stdout",
     "output_type": "stream",
     "text": [
      "+-----------------------------------------------------------------------------------------------------------------------+\n",
      "|value                                                                                                                  |\n",
      "+-----------------------------------------------------------------------------------------------------------------------+\n",
      "|199.72.81.55 - - [01/Jul/1995:00:00:01 -0400] \"GET /history/apollo/ HTTP/1.0\" 200 6245                                 |\n",
      "|unicomp6.unicomp.net - - [01/Jul/1995:00:00:06 -0400] \"GET /shuttle/countdown/ HTTP/1.0\" 200 3985                      |\n",
      "|199.120.110.21 - - [01/Jul/1995:00:00:09 -0400] \"GET /shuttle/missions/sts-73/mission-sts-73.html HTTP/1.0\" 200 4085   |\n",
      "|burger.letters.com - - [01/Jul/1995:00:00:11 -0400] \"GET /shuttle/countdown/liftoff.html HTTP/1.0\" 304 0               |\n",
      "|199.120.110.21 - - [01/Jul/1995:00:00:11 -0400] \"GET /shuttle/missions/sts-73/sts-73-patch-small.gif HTTP/1.0\" 200 4179|\n",
      "|burger.letters.com - - [01/Jul/1995:00:00:12 -0400] \"GET /images/NASA-logosmall.gif HTTP/1.0\" 304 0                    |\n",
      "|burger.letters.com - - [01/Jul/1995:00:00:12 -0400] \"GET /shuttle/countdown/video/livevideo.gif HTTP/1.0\" 200 0        |\n",
      "|205.212.115.106 - - [01/Jul/1995:00:00:12 -0400] \"GET /shuttle/countdown/countdown.html HTTP/1.0\" 200 3985             |\n",
      "|d104.aa.net - - [01/Jul/1995:00:00:13 -0400] \"GET /shuttle/countdown/ HTTP/1.0\" 200 3985                               |\n",
      "|129.94.144.152 - - [01/Jul/1995:00:00:13 -0400] \"GET / HTTP/1.0\" 200 7074                                              |\n",
      "+-----------------------------------------------------------------------------------------------------------------------+\n",
      "only showing top 10 rows\n",
      "\n"
     ]
    }
   ],
   "source": [
    "base_df.show(10, truncate=False)"
   ]
  },
  {
   "cell_type": "markdown",
   "metadata": {},
   "source": [
    "Getting data from an RDD is slightly different. You can see how the data representation is different in the following RDD"
   ]
  },
  {
   "cell_type": "code",
   "execution_count": 11,
   "metadata": {},
   "outputs": [
    {
     "data": {
      "text/plain": [
       "[Row(value='199.72.81.55 - - [01/Jul/1995:00:00:01 -0400] \"GET /history/apollo/ HTTP/1.0\" 200 6245'),\n",
       " Row(value='unicomp6.unicomp.net - - [01/Jul/1995:00:00:06 -0400] \"GET /shuttle/countdown/ HTTP/1.0\" 200 3985'),\n",
       " Row(value='199.120.110.21 - - [01/Jul/1995:00:00:09 -0400] \"GET /shuttle/missions/sts-73/mission-sts-73.html HTTP/1.0\" 200 4085'),\n",
       " Row(value='burger.letters.com - - [01/Jul/1995:00:00:11 -0400] \"GET /shuttle/countdown/liftoff.html HTTP/1.0\" 304 0'),\n",
       " Row(value='199.120.110.21 - - [01/Jul/1995:00:00:11 -0400] \"GET /shuttle/missions/sts-73/sts-73-patch-small.gif HTTP/1.0\" 200 4179'),\n",
       " Row(value='burger.letters.com - - [01/Jul/1995:00:00:12 -0400] \"GET /images/NASA-logosmall.gif HTTP/1.0\" 304 0'),\n",
       " Row(value='burger.letters.com - - [01/Jul/1995:00:00:12 -0400] \"GET /shuttle/countdown/video/livevideo.gif HTTP/1.0\" 200 0'),\n",
       " Row(value='205.212.115.106 - - [01/Jul/1995:00:00:12 -0400] \"GET /shuttle/countdown/countdown.html HTTP/1.0\" 200 3985'),\n",
       " Row(value='d104.aa.net - - [01/Jul/1995:00:00:13 -0400] \"GET /shuttle/countdown/ HTTP/1.0\" 200 3985'),\n",
       " Row(value='129.94.144.152 - - [01/Jul/1995:00:00:13 -0400] \"GET / HTTP/1.0\" 200 7074')]"
      ]
     },
     "execution_count": 11,
     "metadata": {},
     "output_type": "execute_result"
    }
   ],
   "source": [
    "base_df_rdd.take(10)"
   ]
  },
  {
   "cell_type": "markdown",
   "metadata": {},
   "source": [
    "# Section 3 - Data Wrangling\n",
    "\n",
    "In this section, we will try and clean and parse our log dataset to really extract structured attributes with meaningful information from each log message.\n",
    "\n",
    "### Data understanding\n",
    "If you're familiar with web server logs, you'll recognize that the above displayed data is in [Common Log Format](https://www.w3.org/Daemon/User/Config/Logging.html#common-logfile-format). \n",
    "\n",
    "The fields are:\n",
    "__`remotehost rfc931 authuser [date] \"request\" status bytes`__\n",
    "\n",
    "\n",
    "| field         | meaning                                                                |\n",
    "| ------------- | ---------------------------------------------------------------------- |\n",
    "| _remotehost_  | Remote hostname (or IP number if DNS hostname is not available or if [DNSLookup](https://www.w3.org/Daemon/User/Config/General.html#DNSLookup) is off).       |\n",
    "| _rfc931_      | The remote logname of the user if at all it is present. |\n",
    "| _authuser_    | The username of the remote user after authentication by the HTTP server.  |\n",
    "| _[date]_      | Date and time of the request.                                      |\n",
    "| _\"request\"_   | The request, exactly as it came from the browser or client.            |\n",
    "| _status_      | The [HTTP status code](https://en.wikipedia.org/wiki/List_of_HTTP_status_codes) the server sent back to the client.               |\n",
    "| _bytes_       | The number of bytes (`Content-Length`) transferred to the client.      |\n",
    "\n",
    "We will need to use some specific techniques to parse, match and extract these attributes from the log data"
   ]
  },
  {
   "cell_type": "markdown",
   "metadata": {},
   "source": [
    "## Data Parsing and Extraction with Regular Expressions\n",
    "\n",
    "Next, we have to parse it into individual columns. We'll use the special built-in [regexp\\_extract()](http://spark.apache.org/docs/latest/api/python/pyspark.sql.html#pyspark.sql.functions.regexp_extract)\n",
    "function to do the parsing. This function matches a column against a regular expression with one or more [capture groups](http://regexone.com/lesson/capturing_groups) and allows you to extract one of the matched groups. We'll use one regular expression for each field we wish to extract.\n",
    "\n",
    "You must have heard or used a fair bit of regular expressions by now. If you find regular expressions confusing (and they certainly _can_ be), and you want to learn more about them, we recommend checking out the\n",
    "[RegexOne web site](http://regexone.com/). You might also find [_Regular Expressions Cookbook_](http://shop.oreilly.com/product/0636920023630.do), by Goyvaerts and Levithan, to be useful as a reference."
   ]
  },
  {
   "cell_type": "markdown",
   "metadata": {},
   "source": [
    "#### Let's take a look at our dataset dimensions"
   ]
  },
  {
   "cell_type": "code",
   "execution_count": 12,
   "metadata": {},
   "outputs": [
    {
     "name": "stdout",
     "output_type": "stream",
     "text": [
      "(3461613, 1)\n"
     ]
    }
   ],
   "source": [
    "print((base_df.count(), len(base_df.columns)))"
   ]
  },
  {
   "cell_type": "markdown",
   "metadata": {},
   "source": [
    "Let's extract and take a look at some sample log messages"
   ]
  },
  {
   "cell_type": "code",
   "execution_count": 13,
   "metadata": {},
   "outputs": [
    {
     "data": {
      "text/plain": [
       "['199.72.81.55 - - [01/Jul/1995:00:00:01 -0400] \"GET /history/apollo/ HTTP/1.0\" 200 6245',\n",
       " 'unicomp6.unicomp.net - - [01/Jul/1995:00:00:06 -0400] \"GET /shuttle/countdown/ HTTP/1.0\" 200 3985',\n",
       " '199.120.110.21 - - [01/Jul/1995:00:00:09 -0400] \"GET /shuttle/missions/sts-73/mission-sts-73.html HTTP/1.0\" 200 4085',\n",
       " 'burger.letters.com - - [01/Jul/1995:00:00:11 -0400] \"GET /shuttle/countdown/liftoff.html HTTP/1.0\" 304 0',\n",
       " '199.120.110.21 - - [01/Jul/1995:00:00:11 -0400] \"GET /shuttle/missions/sts-73/sts-73-patch-small.gif HTTP/1.0\" 200 4179',\n",
       " 'burger.letters.com - - [01/Jul/1995:00:00:12 -0400] \"GET /images/NASA-logosmall.gif HTTP/1.0\" 304 0',\n",
       " 'burger.letters.com - - [01/Jul/1995:00:00:12 -0400] \"GET /shuttle/countdown/video/livevideo.gif HTTP/1.0\" 200 0',\n",
       " '205.212.115.106 - - [01/Jul/1995:00:00:12 -0400] \"GET /shuttle/countdown/countdown.html HTTP/1.0\" 200 3985',\n",
       " 'd104.aa.net - - [01/Jul/1995:00:00:13 -0400] \"GET /shuttle/countdown/ HTTP/1.0\" 200 3985',\n",
       " '129.94.144.152 - - [01/Jul/1995:00:00:13 -0400] \"GET / HTTP/1.0\" 200 7074',\n",
       " 'unicomp6.unicomp.net - - [01/Jul/1995:00:00:14 -0400] \"GET /shuttle/countdown/count.gif HTTP/1.0\" 200 40310',\n",
       " 'unicomp6.unicomp.net - - [01/Jul/1995:00:00:14 -0400] \"GET /images/NASA-logosmall.gif HTTP/1.0\" 200 786',\n",
       " 'unicomp6.unicomp.net - - [01/Jul/1995:00:00:14 -0400] \"GET /images/KSC-logosmall.gif HTTP/1.0\" 200 1204',\n",
       " 'd104.aa.net - - [01/Jul/1995:00:00:15 -0400] \"GET /shuttle/countdown/count.gif HTTP/1.0\" 200 40310',\n",
       " 'd104.aa.net - - [01/Jul/1995:00:00:15 -0400] \"GET /images/NASA-logosmall.gif HTTP/1.0\" 200 786']"
      ]
     },
     "execution_count": 13,
     "metadata": {},
     "output_type": "execute_result"
    }
   ],
   "source": [
    "sample_logs = [item['value'] for item in base_df.take(15)]\n",
    "sample_logs"
   ]
  },
  {
   "cell_type": "markdown",
   "metadata": {},
   "source": [
    "### Extracting host names\n",
    "\n",
    "Let's try and write some regular expressions to extract the host name from the logs"
   ]
  },
  {
   "cell_type": "code",
   "execution_count": 14,
   "metadata": {},
   "outputs": [
    {
     "data": {
      "text/plain": [
       "['199.72.81.55',\n",
       " 'unicomp6.unicomp.net',\n",
       " '199.120.110.21',\n",
       " 'burger.letters.com',\n",
       " '199.120.110.21',\n",
       " 'burger.letters.com',\n",
       " 'burger.letters.com',\n",
       " '205.212.115.106',\n",
       " 'd104.aa.net',\n",
       " '129.94.144.152',\n",
       " 'unicomp6.unicomp.net',\n",
       " 'unicomp6.unicomp.net',\n",
       " 'unicomp6.unicomp.net',\n",
       " 'd104.aa.net',\n",
       " 'd104.aa.net']"
      ]
     },
     "execution_count": 14,
     "metadata": {},
     "output_type": "execute_result"
    }
   ],
   "source": [
    "host_pattern = r'(^\\S+\\.[\\S+\\.]+\\S+)\\s'\n",
    "hosts = [re.search(host_pattern, item).group(1)\n",
    "           if re.search(host_pattern, item)\n",
    "           else 'no match'\n",
    "           for item in sample_logs]\n",
    "hosts"
   ]
  },
  {
   "cell_type": "markdown",
   "metadata": {},
   "source": [
    "### Extracting timestamps \n",
    "\n",
    "Let's now try and use regular expressions to extract the timestamp fields from the logs"
   ]
  },
  {
   "cell_type": "code",
   "execution_count": 15,
   "metadata": {},
   "outputs": [
    {
     "data": {
      "text/plain": [
       "['01/Jul/1995:00:00:01 -0400',\n",
       " '01/Jul/1995:00:00:06 -0400',\n",
       " '01/Jul/1995:00:00:09 -0400',\n",
       " '01/Jul/1995:00:00:11 -0400',\n",
       " '01/Jul/1995:00:00:11 -0400',\n",
       " '01/Jul/1995:00:00:12 -0400',\n",
       " '01/Jul/1995:00:00:12 -0400',\n",
       " '01/Jul/1995:00:00:12 -0400',\n",
       " '01/Jul/1995:00:00:13 -0400',\n",
       " '01/Jul/1995:00:00:13 -0400',\n",
       " '01/Jul/1995:00:00:14 -0400',\n",
       " '01/Jul/1995:00:00:14 -0400',\n",
       " '01/Jul/1995:00:00:14 -0400',\n",
       " '01/Jul/1995:00:00:15 -0400',\n",
       " '01/Jul/1995:00:00:15 -0400']"
      ]
     },
     "execution_count": 15,
     "metadata": {},
     "output_type": "execute_result"
    }
   ],
   "source": [
    "ts_pattern = r'\\[(\\d{2}/\\w{3}/\\d{4}:\\d{2}:\\d{2}:\\d{2} -\\d{4})]'\n",
    "timestamps = [re.search(ts_pattern, item).group(1) for item in sample_logs]\n",
    "timestamps"
   ]
  },
  {
   "cell_type": "markdown",
   "metadata": {},
   "source": [
    "### Extracting HTTP Request Method, URIs and Protocol \n",
    "\n",
    "Let's now try and use regular expressions to extract the HTTP request methods, URIs and Protocol patterns fields from the logs"
   ]
  },
  {
   "cell_type": "code",
   "execution_count": 16,
   "metadata": {},
   "outputs": [
    {
     "data": {
      "text/plain": [
       "[('GET', '/history/apollo/', 'HTTP/1.0'),\n",
       " ('GET', '/shuttle/countdown/', 'HTTP/1.0'),\n",
       " ('GET', '/shuttle/missions/sts-73/mission-sts-73.html', 'HTTP/1.0'),\n",
       " ('GET', '/shuttle/countdown/liftoff.html', 'HTTP/1.0'),\n",
       " ('GET', '/shuttle/missions/sts-73/sts-73-patch-small.gif', 'HTTP/1.0'),\n",
       " ('GET', '/images/NASA-logosmall.gif', 'HTTP/1.0'),\n",
       " ('GET', '/shuttle/countdown/video/livevideo.gif', 'HTTP/1.0'),\n",
       " ('GET', '/shuttle/countdown/countdown.html', 'HTTP/1.0'),\n",
       " ('GET', '/shuttle/countdown/', 'HTTP/1.0'),\n",
       " ('GET', '/', 'HTTP/1.0'),\n",
       " ('GET', '/shuttle/countdown/count.gif', 'HTTP/1.0'),\n",
       " ('GET', '/images/NASA-logosmall.gif', 'HTTP/1.0'),\n",
       " ('GET', '/images/KSC-logosmall.gif', 'HTTP/1.0'),\n",
       " ('GET', '/shuttle/countdown/count.gif', 'HTTP/1.0'),\n",
       " ('GET', '/images/NASA-logosmall.gif', 'HTTP/1.0')]"
      ]
     },
     "execution_count": 16,
     "metadata": {},
     "output_type": "execute_result"
    }
   ],
   "source": [
    "method_uri_protocol_pattern = r'\\\"(\\S+)\\s(\\S+)\\s*(\\S*)\\\"'\n",
    "method_uri_protocol = [re.search(method_uri_protocol_pattern, item).groups()\n",
    "               if re.search(method_uri_protocol_pattern, item)\n",
    "               else 'no match'\n",
    "              for item in sample_logs]\n",
    "method_uri_protocol"
   ]
  },
  {
   "cell_type": "markdown",
   "metadata": {},
   "source": [
    "### Building an intermediate parsed dataframe\n",
    "\n",
    "Let's try and use our regular expressions we have implemented so far into parsing and extracting the relevant entities in separate columns in a new dataframe"
   ]
  },
  {
   "cell_type": "code",
   "execution_count": 17,
   "metadata": {},
   "outputs": [
    {
     "name": "stdout",
     "output_type": "stream",
     "text": [
      "+--------------------+--------------------------+------+-----------------------------------------------+--------+\n",
      "|host                |timestamp                 |method|endpoint                                       |protocol|\n",
      "+--------------------+--------------------------+------+-----------------------------------------------+--------+\n",
      "|199.72.81.55        |01/Jul/1995:00:00:01 -0400|GET   |/history/apollo/                               |HTTP/1.0|\n",
      "|unicomp6.unicomp.net|01/Jul/1995:00:00:06 -0400|GET   |/shuttle/countdown/                            |HTTP/1.0|\n",
      "|199.120.110.21      |01/Jul/1995:00:00:09 -0400|GET   |/shuttle/missions/sts-73/mission-sts-73.html   |HTTP/1.0|\n",
      "|burger.letters.com  |01/Jul/1995:00:00:11 -0400|GET   |/shuttle/countdown/liftoff.html                |HTTP/1.0|\n",
      "|199.120.110.21      |01/Jul/1995:00:00:11 -0400|GET   |/shuttle/missions/sts-73/sts-73-patch-small.gif|HTTP/1.0|\n",
      "|burger.letters.com  |01/Jul/1995:00:00:12 -0400|GET   |/images/NASA-logosmall.gif                     |HTTP/1.0|\n",
      "|burger.letters.com  |01/Jul/1995:00:00:12 -0400|GET   |/shuttle/countdown/video/livevideo.gif         |HTTP/1.0|\n",
      "|205.212.115.106     |01/Jul/1995:00:00:12 -0400|GET   |/shuttle/countdown/countdown.html              |HTTP/1.0|\n",
      "|d104.aa.net         |01/Jul/1995:00:00:13 -0400|GET   |/shuttle/countdown/                            |HTTP/1.0|\n",
      "|129.94.144.152      |01/Jul/1995:00:00:13 -0400|GET   |/                                              |HTTP/1.0|\n",
      "+--------------------+--------------------------+------+-----------------------------------------------+--------+\n",
      "only showing top 10 rows\n",
      "\n",
      "(3461613, 5)\n"
     ]
    }
   ],
   "source": [
    "from pyspark.sql.functions import regexp_extract\n",
    "\n",
    "logs_df = base_df.select(regexp_extract('value', host_pattern, 1).alias('host'),\n",
    "                         regexp_extract('value', ts_pattern, 1).alias('timestamp'),\n",
    "                         regexp_extract('value', method_uri_protocol_pattern, 1).alias('method'),\n",
    "                         regexp_extract('value', method_uri_protocol_pattern, 2).alias('endpoint'),\n",
    "                         regexp_extract('value', method_uri_protocol_pattern, 3).alias('protocol'))\n",
    "logs_df.show(10, truncate=False)\n",
    "print((logs_df.count(), len(logs_df.columns)))"
   ]
  },
  {
   "cell_type": "markdown",
   "metadata": {},
   "source": [
    "### Extracting HTTP Status Codes\n",
    "\n",
    "Let's now try and use regular expressions to extract the HTTP status codes from the logs"
   ]
  },
  {
   "cell_type": "code",
   "execution_count": 18,
   "metadata": {},
   "outputs": [
    {
     "name": "stdout",
     "output_type": "stream",
     "text": [
      "['200', '200', '200', '304', '200', '304', '200', '200', '200', '200', '200', '200', '200', '200', '200']\n"
     ]
    }
   ],
   "source": [
    "status_pattern = r'\\s(\\d{3})\\s'\n",
    "status = [re.search(status_pattern, item).group(1) for item in sample_logs]\n",
    "print(status)"
   ]
  },
  {
   "cell_type": "markdown",
   "metadata": {},
   "source": [
    "### Extracting HTTP Response Content Size\n",
    "\n",
    "Let's now try and use regular expressions to extract the HTTP response content size from the logs"
   ]
  },
  {
   "cell_type": "code",
   "execution_count": 19,
   "metadata": {},
   "outputs": [
    {
     "name": "stdout",
     "output_type": "stream",
     "text": [
      "['6245', '3985', '4085', '0', '4179', '0', '0', '3985', '3985', '7074', '40310', '786', '1204', '40310', '786']\n"
     ]
    }
   ],
   "source": [
    "content_size_pattern = r'\\s(\\d+)$'\n",
    "content_size = [re.search(content_size_pattern, item).group(1) for item in sample_logs]\n",
    "print(content_size)"
   ]
  },
  {
   "cell_type": "markdown",
   "metadata": {},
   "source": [
    "## Q1: Your Turn: Putting it all together \n",
    "\n",
    "Let's now try and leverage all the regular expression patterns we previously built and use the `regexp_extract(...)` method to build our dataframe with all the log attributes neatly extracted in their own separate columns.\n",
    "\n",
    "- You can reuse the code we used previously to build the intermediate dataframe\n",
    "- Remember to cast the HTTP status code and content size as integers. \n",
    "- You can cast data as integer type using the following: __`regexp_extract('value', ...., ...).cast('integer').alias(...)`__"
   ]
  },
  {
   "cell_type": "code",
   "execution_count": 20,
   "metadata": {},
   "outputs": [
    {
     "name": "stdout",
     "output_type": "stream",
     "text": [
      "+--------------------+--------------------+------+--------------------+--------+------+------------+\n",
      "|                host|           timestamp|method|            endpoint|protocol|status|content_size|\n",
      "+--------------------+--------------------+------+--------------------+--------+------+------------+\n",
      "|        199.72.81.55|01/Jul/1995:00:00...|   GET|    /history/apollo/|HTTP/1.0|   200|        6245|\n",
      "|unicomp6.unicomp.net|01/Jul/1995:00:00...|   GET| /shuttle/countdown/|HTTP/1.0|   200|        3985|\n",
      "|      199.120.110.21|01/Jul/1995:00:00...|   GET|/shuttle/missions...|HTTP/1.0|   200|        4085|\n",
      "|  burger.letters.com|01/Jul/1995:00:00...|   GET|/shuttle/countdow...|HTTP/1.0|   304|           0|\n",
      "|      199.120.110.21|01/Jul/1995:00:00...|   GET|/shuttle/missions...|HTTP/1.0|   200|        4179|\n",
      "|  burger.letters.com|01/Jul/1995:00:00...|   GET|/images/NASA-logo...|HTTP/1.0|   304|           0|\n",
      "|  burger.letters.com|01/Jul/1995:00:00...|   GET|/shuttle/countdow...|HTTP/1.0|   200|           0|\n",
      "|     205.212.115.106|01/Jul/1995:00:00...|   GET|/shuttle/countdow...|HTTP/1.0|   200|        3985|\n",
      "|         d104.aa.net|01/Jul/1995:00:00...|   GET| /shuttle/countdown/|HTTP/1.0|   200|        3985|\n",
      "|      129.94.144.152|01/Jul/1995:00:00...|   GET|                   /|HTTP/1.0|   200|        7074|\n",
      "+--------------------+--------------------+------+--------------------+--------+------+------------+\n",
      "only showing top 10 rows\n",
      "\n",
      "(3461613, 7)\n"
     ]
    }
   ],
   "source": [
    "# TODO: Replace <FILL IN> with appropriate code\n",
    "\n",
    "logs_df = base_df.select(regexp_extract('value', host_pattern, 1).alias('host'),\n",
    "                         regexp_extract('value', ts_pattern, 1).alias('timestamp'),\n",
    "                         regexp_extract('value', method_uri_protocol_pattern, 1).alias('method'),\n",
    "                         regexp_extract('value', method_uri_protocol_pattern, 2).alias('endpoint'),\n",
    "                         regexp_extract('value', method_uri_protocol_pattern, 3).alias('protocol'),\n",
    "                         regexp_extract('value', status_pattern, 1).cast('integer').alias('status'),\n",
    "                         regexp_extract('value', content_size_pattern, 1).cast('integer').alias('content_size'))\n",
    "\n",
    "logs_df.show(10, truncate=True)\n",
    "print((logs_df.count(), len(logs_df.columns)))"
   ]
  },
  {
   "cell_type": "markdown",
   "metadata": {},
   "source": [
    "## Finding Missing Values\n",
    "\n",
    "Missing and null values are the bane of data analysis and machine learning. Let's see how well our data parsing and extraction logic worked. First, let's verify that there are no null rows in the original dataframe."
   ]
  },
  {
   "cell_type": "code",
   "execution_count": 21,
   "metadata": {},
   "outputs": [
    {
     "data": {
      "text/plain": [
       "0"
      ]
     },
     "execution_count": 21,
     "metadata": {},
     "output_type": "execute_result"
    }
   ],
   "source": [
    "base_df.filter(base_df['value'].isNull()).count()"
   ]
  },
  {
   "cell_type": "markdown",
   "metadata": {},
   "source": [
    "If our data parsing and extraction worked properly, we should not have any rows with potential null values. Let's try and put that to test!"
   ]
  },
  {
   "cell_type": "code",
   "execution_count": 22,
   "metadata": {},
   "outputs": [
    {
     "data": {
      "text/plain": [
       "33905"
      ]
     },
     "execution_count": 22,
     "metadata": {},
     "output_type": "execute_result"
    }
   ],
   "source": [
    "bad_rows_df = logs_df.filter(logs_df['host'].isNull()| \n",
    "                             logs_df['timestamp'].isNull() | \n",
    "                             logs_df['method'].isNull() |\n",
    "                             logs_df['endpoint'].isNull() |\n",
    "                             logs_df['status'].isNull() |\n",
    "                             logs_df['content_size'].isNull()|\n",
    "                             logs_df['protocol'].isNull())\n",
    "bad_rows_df.count()"
   ]
  },
  {
   "cell_type": "markdown",
   "metadata": {},
   "source": [
    "Ouch! Looks like we have over 30K missing values in our data! Can we handle this?"
   ]
  },
  {
   "cell_type": "markdown",
   "metadata": {},
   "source": [
    "Do remember, this is not a regular pandas dataframe which you can directly query and get which columns have null. Our so-called _big dataset_ is residing on disk which can potentially be present in multiple nodes in a spark cluster. So how do we find out which columns have potential nulls? \n",
    "\n",
    "### Finding Null Counts\n",
    "\n",
    "We can typically use the following technique to find out which columns have null values. \n",
    "\n",
    "(__Note:__ This approach is adapted from an [excellent answer](http://stackoverflow.com/a/33901312) on StackOverflow.)"
   ]
  },
  {
   "cell_type": "code",
   "execution_count": 23,
   "metadata": {},
   "outputs": [
    {
     "data": {
      "text/plain": [
       "['host',\n",
       " 'timestamp',\n",
       " 'method',\n",
       " 'endpoint',\n",
       " 'protocol',\n",
       " 'status',\n",
       " 'content_size']"
      ]
     },
     "execution_count": 23,
     "metadata": {},
     "output_type": "execute_result"
    }
   ],
   "source": [
    "logs_df.columns"
   ]
  },
  {
   "cell_type": "code",
   "execution_count": 24,
   "metadata": {},
   "outputs": [
    {
     "name": "stdout",
     "output_type": "stream",
     "text": [
      "[Column<b'sum(CAST((host IS NULL) AS INT)) AS `host`'>, Column<b'sum(CAST((timestamp IS NULL) AS INT)) AS `timestamp`'>, Column<b'sum(CAST((method IS NULL) AS INT)) AS `method`'>, Column<b'sum(CAST((endpoint IS NULL) AS INT)) AS `endpoint`'>, Column<b'sum(CAST((protocol IS NULL) AS INT)) AS `protocol`'>, Column<b'sum(CAST((status IS NULL) AS INT)) AS `status`'>, Column<b'sum(CAST((content_size IS NULL) AS INT)) AS `content_size`'>]\n",
      "+----+---------+------+--------+--------+------+------------+\n",
      "|host|timestamp|method|endpoint|protocol|status|content_size|\n",
      "+----+---------+------+--------+--------+------+------------+\n",
      "|   0|        0|     0|       0|       0|     1|       33905|\n",
      "+----+---------+------+--------+--------+------+------------+\n",
      "\n"
     ]
    }
   ],
   "source": [
    "from pyspark.sql.functions import col\n",
    "from pyspark.sql.functions import sum as spark_sum\n",
    "\n",
    "def count_null(col_name):\n",
    "    return spark_sum(col(col_name).isNull().cast('integer')).alias(col_name)\n",
    "\n",
    "# Build up a list of column expressions, one per column.\n",
    "exprs = [count_null(col_name) for col_name in logs_df.columns]\n",
    "print(exprs)\n",
    "# Run the aggregation. The *exprs converts the list of expressions into\n",
    "# variable function arguments.\n",
    "logs_df.agg(*exprs).show()"
   ]
  },
  {
   "cell_type": "code",
   "execution_count": 25,
   "metadata": {},
   "outputs": [
    {
     "data": {
      "text/plain": [
       "[Column<b'sum(CAST((host IS NULL) AS INT)) AS `host`'>,\n",
       " Column<b'sum(CAST((timestamp IS NULL) AS INT)) AS `timestamp`'>,\n",
       " Column<b'sum(CAST((method IS NULL) AS INT)) AS `method`'>,\n",
       " Column<b'sum(CAST((endpoint IS NULL) AS INT)) AS `endpoint`'>,\n",
       " Column<b'sum(CAST((protocol IS NULL) AS INT)) AS `protocol`'>,\n",
       " Column<b'sum(CAST((status IS NULL) AS INT)) AS `status`'>,\n",
       " Column<b'sum(CAST((content_size IS NULL) AS INT)) AS `content_size`'>]"
      ]
     },
     "execution_count": 25,
     "metadata": {},
     "output_type": "execute_result"
    }
   ],
   "source": [
    "exprs"
   ]
  },
  {
   "cell_type": "markdown",
   "metadata": {},
   "source": [
    "Well, looks like we have one missing value in the `status` column and everything else is in the `content_size` column. \n",
    "Let's see if we can figure out what's wrong!"
   ]
  },
  {
   "cell_type": "markdown",
   "metadata": {},
   "source": [
    "### Handling nulls in HTTP status\n",
    "\n",
    "If you had solved it correctly, our original parsing regular expression for the `status` column was:\n",
    "\n",
    "```\n",
    "regexp_extract('value', r'\\s(\\d{3})\\s', 1).cast('integer').alias('status')\n",
    "``` \n",
    "\n",
    "Could it be that there are more digits making our regular expression wrong? or is the data point itself bad? Let's try and find out!\n",
    "\n",
    "**Note**: In the expression below, `~` means \"not\"."
   ]
  },
  {
   "cell_type": "code",
   "execution_count": 26,
   "metadata": {},
   "outputs": [
    {
     "data": {
      "text/plain": [
       "1"
      ]
     },
     "execution_count": 26,
     "metadata": {},
     "output_type": "execute_result"
    }
   ],
   "source": [
    "null_status_df = base_df.filter(~base_df['value'].rlike(r'\\s(\\d{3})\\s'))\n",
    "null_status_df.count()"
   ]
  },
  {
   "cell_type": "code",
   "execution_count": 27,
   "metadata": {},
   "outputs": [
    {
     "name": "stdout",
     "output_type": "stream",
     "text": [
      "+--------+\n",
      "|value   |\n",
      "+--------+\n",
      "|alyssa.p|\n",
      "+--------+\n",
      "\n"
     ]
    }
   ],
   "source": [
    "null_status_df.show(truncate=False)"
   ]
  },
  {
   "cell_type": "code",
   "execution_count": 28,
   "metadata": {},
   "outputs": [
    {
     "name": "stdout",
     "output_type": "stream",
     "text": [
      "+----+---------+------+--------+--------+------+------------+\n",
      "|host|timestamp|method|endpoint|protocol|status|content_size|\n",
      "+----+---------+------+--------+--------+------+------------+\n",
      "|    |         |      |        |        |null  |null        |\n",
      "+----+---------+------+--------+--------+------+------------+\n",
      "\n"
     ]
    }
   ],
   "source": [
    "bad_status_df = null_status_df.select(regexp_extract('value', host_pattern, 1).alias('host'),\n",
    "                                      regexp_extract('value', ts_pattern, 1).alias('timestamp'),\n",
    "                                      regexp_extract('value', method_uri_protocol_pattern, 1).alias('method'),\n",
    "                                      regexp_extract('value', method_uri_protocol_pattern, 2).alias('endpoint'),\n",
    "                                      regexp_extract('value', method_uri_protocol_pattern, 3).alias('protocol'),\n",
    "                                      regexp_extract('value', status_pattern, 1).cast('integer').alias('status'),\n",
    "                                      regexp_extract('value', content_size_pattern, 1).cast('integer').alias('content_size'))\n",
    "bad_status_df.show(truncate=False)"
   ]
  },
  {
   "cell_type": "markdown",
   "metadata": {},
   "source": [
    "Looks like the record itself is an incomplete record with no useful information, the best option would be to drop this record as follows!"
   ]
  },
  {
   "cell_type": "code",
   "execution_count": 29,
   "metadata": {},
   "outputs": [
    {
     "data": {
      "text/plain": [
       "3461613"
      ]
     },
     "execution_count": 29,
     "metadata": {},
     "output_type": "execute_result"
    }
   ],
   "source": [
    "logs_df.count()"
   ]
  },
  {
   "cell_type": "code",
   "execution_count": 30,
   "metadata": {},
   "outputs": [
    {
     "data": {
      "text/plain": [
       "3461612"
      ]
     },
     "execution_count": 30,
     "metadata": {},
     "output_type": "execute_result"
    }
   ],
   "source": [
    "logs_df = logs_df[logs_df['status'].isNotNull()]\n",
    "logs_df.count()"
   ]
  },
  {
   "cell_type": "code",
   "execution_count": 31,
   "metadata": {},
   "outputs": [
    {
     "name": "stdout",
     "output_type": "stream",
     "text": [
      "+----+---------+------+--------+--------+------+------------+\n",
      "|host|timestamp|method|endpoint|protocol|status|content_size|\n",
      "+----+---------+------+--------+--------+------+------------+\n",
      "|   0|        0|     0|       0|       0|     0|       33904|\n",
      "+----+---------+------+--------+--------+------+------------+\n",
      "\n"
     ]
    }
   ],
   "source": [
    "exprs = [count_null(col_name) for col_name in logs_df.columns]\n",
    "logs_df.agg(*exprs).show()"
   ]
  },
  {
   "cell_type": "markdown",
   "metadata": {},
   "source": [
    "### Handling nulls in HTTP content size\n",
    "\n",
    "Again based on our previous regular expression and assuming you were able to solve it correctly, our original parsing regular expression for the `content_size` column was:\n",
    "\n",
    "```\n",
    "regexp_extract('value', r'\\s(\\d+)$', 1).cast('integer').alias('content_size')\n",
    "``` \n",
    "\n",
    "Could there be missing data in our original dataset itself? Let's try and find out!"
   ]
  },
  {
   "cell_type": "markdown",
   "metadata": {},
   "source": [
    "### Q2: Your Turn: Find out the records in our base data frame with potential missing content sizes\n",
    "\n",
    "- Use the `r'\\s\\d+$'` regex pattern with the `rlike()` function like we demonstrated in the previous example\n",
    "- Remember to work on `base_df` since we are searching on the raw records NOT the parsed `logs_df`\n",
    "- Find the total count of the records with missing content size in `base_df` using the `count()` function"
   ]
  },
  {
   "cell_type": "code",
   "execution_count": 32,
   "metadata": {},
   "outputs": [
    {
     "data": {
      "text/plain": [
       "33905"
      ]
     },
     "execution_count": 32,
     "metadata": {},
     "output_type": "execute_result"
    }
   ],
   "source": [
    "# TODO: Replace <FILL IN> with appropriate code\n",
    "\n",
    "null_content_size_df = base_df.filter(~base_df['value'].rlike(r'\\s\\d+$'))\n",
    "null_content_size_df.count()"
   ]
  },
  {
   "cell_type": "markdown",
   "metadata": {},
   "source": [
    "### Q3: Your Turn: Display the top ten records of your data frame having missing content sizes"
   ]
  },
  {
   "cell_type": "code",
   "execution_count": 33,
   "metadata": {},
   "outputs": [
    {
     "name": "stdout",
     "output_type": "stream",
     "text": [
      "+--------------------------------------------------------------------------------------------------------------------------------------------------+\n",
      "|value                                                                                                                                             |\n",
      "+--------------------------------------------------------------------------------------------------------------------------------------------------+\n",
      "|dd15-062.compuserve.com - - [01/Jul/1995:00:01:12 -0400] \"GET /news/sci.space.shuttle/archive/sci-space-shuttle-22-apr-1995-40.txt HTTP/1.0\" 404 -|\n",
      "|dynip42.efn.org - - [01/Jul/1995:00:02:14 -0400] \"GET /software HTTP/1.0\" 302 -                                                                   |\n",
      "|ix-or10-06.ix.netcom.com - - [01/Jul/1995:00:02:40 -0400] \"GET /software/winvn HTTP/1.0\" 302 -                                                    |\n",
      "|ix-or10-06.ix.netcom.com - - [01/Jul/1995:00:03:24 -0400] \"GET /software HTTP/1.0\" 302 -                                                          |\n",
      "|link097.txdirect.net - - [01/Jul/1995:00:05:06 -0400] \"GET /shuttle HTTP/1.0\" 302 -                                                               |\n",
      "|ix-war-mi1-20.ix.netcom.com - - [01/Jul/1995:00:05:13 -0400] \"GET /shuttle/missions/sts-78/news HTTP/1.0\" 302 -                                   |\n",
      "|ix-war-mi1-20.ix.netcom.com - - [01/Jul/1995:00:05:58 -0400] \"GET /shuttle/missions/sts-72/news HTTP/1.0\" 302 -                                   |\n",
      "|netport-27.iu.net - - [01/Jul/1995:00:10:19 -0400] \"GET /pub/winvn/readme.txt HTTP/1.0\" 404 -                                                     |\n",
      "|netport-27.iu.net - - [01/Jul/1995:00:10:28 -0400] \"GET /pub/winvn/readme.txt HTTP/1.0\" 404 -                                                     |\n",
      "|dynip38.efn.org - - [01/Jul/1995:00:10:50 -0400] \"GET /software HTTP/1.0\" 302 -                                                                   |\n",
      "+--------------------------------------------------------------------------------------------------------------------------------------------------+\n",
      "only showing top 10 rows\n",
      "\n"
     ]
    }
   ],
   "source": [
    "# TODO: Replace <FILL IN> with appropriate code\n",
    "\n",
    "null_content_size_df.show(10, truncate=False)"
   ]
  },
  {
   "cell_type": "code",
   "execution_count": 34,
   "metadata": {},
   "outputs": [
    {
     "name": "stdout",
     "output_type": "stream",
     "text": [
      "+--------------------+--------------------+------+--------------------+--------+------+------------+\n",
      "|                host|           timestamp|method|            endpoint|protocol|status|content_size|\n",
      "+--------------------+--------------------+------+--------------------+--------+------+------------+\n",
      "|dd15-062.compuser...|01/Jul/1995:00:01...|   GET|/news/sci.space.s...|HTTP/1.0|   404|        null|\n",
      "|     dynip42.efn.org|01/Jul/1995:00:02...|   GET|           /software|HTTP/1.0|   302|        null|\n",
      "|ix-or10-06.ix.net...|01/Jul/1995:00:02...|   GET|     /software/winvn|HTTP/1.0|   302|        null|\n",
      "|ix-or10-06.ix.net...|01/Jul/1995:00:03...|   GET|           /software|HTTP/1.0|   302|        null|\n",
      "|link097.txdirect.net|01/Jul/1995:00:05...|   GET|            /shuttle|HTTP/1.0|   302|        null|\n",
      "|ix-war-mi1-20.ix....|01/Jul/1995:00:05...|   GET|/shuttle/missions...|HTTP/1.0|   302|        null|\n",
      "|ix-war-mi1-20.ix....|01/Jul/1995:00:05...|   GET|/shuttle/missions...|HTTP/1.0|   302|        null|\n",
      "|   netport-27.iu.net|01/Jul/1995:00:10...|   GET|/pub/winvn/readme...|HTTP/1.0|   404|        null|\n",
      "|   netport-27.iu.net|01/Jul/1995:00:10...|   GET|/pub/winvn/readme...|HTTP/1.0|   404|        null|\n",
      "|     dynip38.efn.org|01/Jul/1995:00:10...|   GET|           /software|HTTP/1.0|   302|        null|\n",
      "|     129.188.154.200|01/Jul/1995:00:11...|   GET|   /shuttle/missions|HTTP/1.0|   302|        null|\n",
      "|     129.188.154.200|01/Jul/1995:00:11...|   GET|            /shuttle|HTTP/1.0|   302|        null|\n",
      "|     129.188.154.200|01/Jul/1995:00:12...|   GET|            /shuttle|HTTP/1.0|   302|        null|\n",
      "|blv-pm0-ip28.halc...|01/Jul/1995:00:14...|   GET|/persons/astronau...|HTTP/1.0|   404|        null|\n",
      "|blv-pm0-ip28.halc...|01/Jul/1995:00:14...|   GET|/persons/astronau...|HTTP/1.0|   404|        null|\n",
      "| detroit.freenet.org|01/Jul/1995:00:16...|   GET|  /shuttle/countdown|HTTP/1.0|   302|        null|\n",
      "|         news.ti.com|01/Jul/1995:00:17...|   GET|/shuttle/missions...|HTTP/1.0|   302|        null|\n",
      "|cu-dialup-1005.ci...|01/Jul/1995:00:18...|   GET|/pub/winvn/readme...|HTTP/1.0|   404|        null|\n",
      "|cu-dialup-1005.ci...|01/Jul/1995:00:18...|   GET|/pub/winvn/readme...|HTTP/1.0|   404|        null|\n",
      "|cu-dialup-1005.ci...|01/Jul/1995:00:18...|   GET|/pub/winvn/releas...|HTTP/1.0|   404|        null|\n",
      "|    mimas.execpc.com|01/Jul/1995:00:18...|   GET|/shuttle/missions...|HTTP/1.0|   404|        null|\n",
      "|acs4.acs.ucalgary.ca|01/Jul/1995:00:19...|   GET|/shuttle/missions...|HTTP/1.0|   302|        null|\n",
      "|sam-slip-l6.neoso...|01/Jul/1995:00:22...|   GET|  /shuttle/countdown|HTTP/1.0|   302|        null|\n",
      "|      chi067.wwa.com|01/Jul/1995:00:22...|   GET|             /images|HTTP/1.0|   302|        null|\n",
      "|zoom112.telepath.com|01/Jul/1995:00:25...|   GET|/history/apollo-1...|HTTP/1.0|   404|        null|\n",
      "|blv-pm2-ip16.halc...|01/Jul/1995:00:28...|   GET|/shuttle/missions...|HTTP/1.0|   302|        null|\n",
      "|dd11-006.compuser...|01/Jul/1995:00:29...|   GET|/shuttle/missions...|HTTP/1.0|   302|        null|\n",
      "|  ssandyg.scvnet.com|01/Jul/1995:00:29...|   GET|  /shuttle/countdown|HTTP/1.0|   302|        null|\n",
      "|ad08-027.compuser...|01/Jul/1995:00:37...|   GET|/shuttle/missions...|HTTP/1.0|   404|        null|\n",
      "|ad08-027.compuser...|01/Jul/1995:00:38...|   GET|/shuttle/missions...|HTTP/1.0|   404|        null|\n",
      "|  net79.metronet.com|01/Jul/1995:00:38...|   GET|             /images|HTTP/1.0|   302|        null|\n",
      "|      kcrw17.smc.edu|01/Jul/1995:00:42...|   GET|/shuttle/missions...|HTTP/1.0|   302|        null|\n",
      "|piweba3y.prodigy.com|01/Jul/1995:00:44...|   GET|/shuttle/missions...|HTTP/1.0|   404|        null|\n",
      "|ix-wbg-va2-26.ix....|01/Jul/1995:00:44...|   GET|     /history/apollo|HTTP/1.0|   302|        null|\n",
      "|piweba3y.prodigy.com|01/Jul/1995:00:44...|   GET|/shuttle/missions...|HTTP/1.0|   404|        null|\n",
      "|     204.212.153.234|01/Jul/1995:00:45...|   GET|/pub/winvn/readme...|HTTP/1.0|   404|        null|\n",
      "|     204.212.153.234|01/Jul/1995:00:45...|   GET|/pub/winvn/releas...|HTTP/1.0|   404|        null|\n",
      "|ix-wbg-va2-26.ix....|01/Jul/1995:00:45...|   GET|/history/apollo/p...|HTTP/1.0|   404|        null|\n",
      "|ix-wbg-va2-26.ix....|01/Jul/1995:00:45...|   GET|/history/apollo/p...|HTTP/1.0|   404|        null|\n",
      "|ix-wbg-va2-26.ix....|01/Jul/1995:00:46...|   GET|/history/apollo/p...|HTTP/1.0|   404|        null|\n",
      "|ix-wbg-va2-26.ix....|01/Jul/1995:00:46...|   GET|/history/apollo/p...|HTTP/1.0|   404|        null|\n",
      "|ix-wbg-va2-26.ix....|01/Jul/1995:00:46...|   GET|/history/apollo/p...|HTTP/1.0|   404|        null|\n",
      "|ix-wbg-va2-26.ix....|01/Jul/1995:00:46...|   GET|/history/apollo/p...|HTTP/1.0|   404|        null|\n",
      "|www-b6.proxy.aol.com|01/Jul/1995:00:53...|   GET|/:/spacelink.msfc...|HTTP/1.0|   404|        null|\n",
      "|      204.120.34.171|01/Jul/1995:00:57...|   GET|/shuttle/missions...|HTTP/1.0|   302|        null|\n",
      "|galactica.galacti...|01/Jul/1995:00:58...|   GET|/pub/winvn/releas...|HTTP/1.0|   404|        null|\n",
      "|  pmcol12.ebicom.net|01/Jul/1995:01:03...|   GET|             /images|HTTP/1.0|   302|        null|\n",
      "|       204.191.209.4|01/Jul/1995:01:04...|   GET|/shuttle/missions...|HTTP/1.0|   302|        null|\n",
      "|gateway.cary.ibm.com|01/Jul/1995:01:04...|   GET|             /images|HTTP/1.0|   302|        null|\n",
      "|ix-sac6-27.ix.net...|01/Jul/1995:01:05...|   GET|/history/apollo/p...|HTTP/1.0|   404|        null|\n",
      "|ix-ont5-14.ix.net...|01/Jul/1995:01:09...|   GET|/shuttle/countdow...|HTTP/1.0|   404|        null|\n",
      "| netcom16.netcom.com|01/Jul/1995:01:14...|   GET|/shuttle/missions...|HTTP/1.0|   302|        null|\n",
      "|   dorsai.dorsai.org|01/Jul/1995:01:16...|   GET|/shuttle/missions...|HTTP/1.0|   302|        null|\n",
      "|  alyssa.prodigy.com|01/Jul/1995:01:24...|   GET|  /shuttle/countdown|HTTP/1.0|   302|        null|\n",
      "|ip215.cap.primene...|01/Jul/1995:01:25...|   GET|/pub/winvn/releas...|HTTP/1.0|   404|        null|\n",
      "|     kristina.az.com|01/Jul/1995:01:28...|   GET|/shuttle/missions...|HTTP/1.0|   302|        null|\n",
      "|ip215.cap.primene...|01/Jul/1995:01:32...|   GET|/pub/winvn/releas...|HTTP/1.0|   404|        null|\n",
      "|ip215.cap.primene...|01/Jul/1995:01:32...|   GET|/pub/winvn/readme...|HTTP/1.0|   404|        null|\n",
      "|www-d4.proxy.aol.com|01/Jul/1995:01:33...|   GET|/shuttle/missions...|HTTP/1.0|   302|        null|\n",
      "|  sudial-155.syr.edu|01/Jul/1995:01:37...|   GET|/history/apollo/p...|HTTP/1.0|   404|        null|\n",
      "|  sudial-155.syr.edu|01/Jul/1995:01:37...|   GET|/history/apollo/p...|HTTP/1.0|   404|        null|\n",
      "|ppp17.infobahnos.com|01/Jul/1995:01:38...|   GET|             /images|HTTP/1.0|   302|        null|\n",
      "|sneaker.oregoncoa...|01/Jul/1995:01:39...|   GET|/shuttle/missions...|HTTP/1.0|   302|        null|\n",
      "|www-d4.proxy.aol.com|01/Jul/1995:01:40...|   GET|/shuttle/missions...|HTTP/1.0|   404|        null|\n",
      "|      oncomdis.on.ca|01/Jul/1995:01:45...|   GET|/shuttle/missions...|HTTP/1.0|   404|        null|\n",
      "|gluon.remote.ualb...|01/Jul/1995:01:48...|   GET|/shuttle/missions...|HTTP/1.0|   302|        null|\n",
      "|www-b3.proxy.aol.com|01/Jul/1995:01:50...|   GET|             /images|HTTP/1.0|   302|        null|\n",
      "|       142.31.49.194|01/Jul/1995:01:50...|   GET|/shuttle/missions...|HTTP/1.0|   302|        null|\n",
      "|ix-mod-ca1-23.ix....|01/Jul/1995:01:51...|   GET|/shuttle/missions...|HTTP/1.0|   302|        null|\n",
      "|www-b3.proxy.aol.com|01/Jul/1995:01:53...|   GET|             /images|HTTP/1.0|   302|        null|\n",
      "|www-a1.proxy.aol.com|01/Jul/1995:01:55...|   GET|/:/spacelink.msfc...|HTTP/1.0|   404|        null|\n",
      "|  netcom7.netcom.com|01/Jul/1995:01:58...|   GET|  /shuttle/countdown|HTTP/1.0|   302|        null|\n",
      "| netcom15.netcom.com|01/Jul/1995:02:01...|   GET|/shuttle/missions...|HTTP/1.0|   302|        null|\n",
      "|refugee.phx.prime...|01/Jul/1995:02:02...|   GET|             /images|HTTP/1.0|   302|        null|\n",
      "|scooter.pa-x.dec.com|01/Jul/1995:02:06...|   GET|         /robots.txt|HTTP/1.0|   404|        null|\n",
      "|dd02-023.compuser...|01/Jul/1995:02:08...|   GET|/shuttle/missions...|HTTP/1.0|   404|        null|\n",
      "|      142.158.109.27|01/Jul/1995:02:09...|   GET|/shuttle/missions...|HTTP/1.0|   302|        null|\n",
      "|jobs09.cfi.waseda...|01/Jul/1995:02:09...|   GET|/shuttle/missions...|HTTP/1.0|   404|        null|\n",
      "|      b1b.ppp.mo.net|01/Jul/1995:02:14...|   GET|/shuttle/technolo...|HTTP/1.0|   404|        null|\n",
      "|      b1b.ppp.mo.net|01/Jul/1995:02:16...|   GET|/shuttle/technolo...|HTTP/1.0|   404|        null|\n",
      "|      b1b.ppp.mo.net|01/Jul/1995:02:19...|   GET|/shuttle/technolo...|HTTP/1.0|   404|        null|\n",
      "|www-b2.proxy.aol.com|01/Jul/1995:02:19...|   GET|             /images|HTTP/1.0|   302|        null|\n",
      "| ntp.almaden.ibm.com|01/Jul/1995:02:20...|   GET|/://spacelink.msf...|HTTP/1.0|   404|        null|\n",
      "|piweba2y.prodigy.com|01/Jul/1995:02:20...|   GET|/shuttle/missions...|HTTP/1.0|   404|        null|\n",
      "|www-d2.proxy.aol.com|01/Jul/1995:02:23...|   GET|             /images|HTTP/1.0|   302|        null|\n",
      "|   d02.pm1.nisiq.net|01/Jul/1995:02:23...|   GET|  /shuttle/countdown|HTTP/1.0|   302|        null|\n",
      "|scooter.pa-x.dec.com|01/Jul/1995:02:24...|   GET|  /shuttle/countdown|HTTP/1.0|   302|        null|\n",
      "|www-b4.proxy.aol.com|01/Jul/1995:02:25...|   GET|             /images|HTTP/1.0|   302|        null|\n",
      "|          ckm.ni.net|01/Jul/1995:02:28...|   GET|/pub/winvn/readme...|HTTP/1.0|   404|        null|\n",
      "|ix-dc8-20.ix.netc...|01/Jul/1995:02:30...|   GET|/shuttle/missions...|HTTP/1.0|   404|        null|\n",
      "|dd11-012.compuser...|01/Jul/1995:02:32...|   GET|/shuttle/resource...|HTTP/1.0|   404|        null|\n",
      "|scooter.pa-x.dec.com|01/Jul/1995:02:38...|   GET|    /de/systems.html|HTTP/1.0|   404|        null|\n",
      "|  asyncb4.wincom.net|01/Jul/1995:02:54...|   GET|/shuttle/missions...|HTTP/1.0|   302|        null|\n",
      "|beglinger.dial-up...|01/Jul/1995:02:59...|   GET|/shuttle/missions...|HTTP/1.0|   302|        null|\n",
      "|crystal91.crystal...|01/Jul/1995:03:00...|   GET|            /history|HTTP/1.0|   302|        null|\n",
      "|www-a2.proxy.aol.com|01/Jul/1995:03:07...|   GET|             /images|HTTP/1.0|   302|        null|\n",
      "|www-a2.proxy.aol.com|01/Jul/1995:03:10...|   GET|             /images|HTTP/1.0|   302|        null|\n",
      "|        crl7.crl.com|01/Jul/1995:03:10...|   GET|/shuttle/missions...|HTTP/1.0|   302|        null|\n",
      "|    ppp199.aix.or.jp|01/Jul/1995:03:17...|   GET|  /shuttle/countdown|HTTP/1.0|   302|        null|\n",
      "|jericho3.microsof...|01/Jul/1995:03:19...|   GET|/shuttle/resource...|HTTP/1.0|   404|        null|\n",
      "|dialup-68.icon-st...|01/Jul/1995:03:30...|   GET|/shuttle/missions...|HTTP/1.0|   404|        null|\n",
      "|         202.6.90.68|01/Jul/1995:03:41...|   GET|    /ads/eds2_ad.gif|HTTP/1.0|   404|        null|\n",
      "|         202.6.90.68|01/Jul/1995:03:42...|   GET|/misc/home.map?44...|HTTP/1.0|   404|        null|\n",
      "|         202.6.90.68|01/Jul/1995:03:42...|   GET|/misc/home.map?44...|HTTP/1.0|   404|        null|\n",
      "|         202.6.90.68|01/Jul/1995:03:43...|   GET|          /Business/|HTTP/1.0|   404|        null|\n",
      "|         202.6.90.68|01/Jul/1995:03:43...|   GET|/misc/showcase/pe...|HTTP/1.0|   404|        null|\n",
      "|         202.6.90.68|01/Jul/1995:03:44...|   GET|     /Titles?qt=nasa|HTTP/1.0|   404|        null|\n",
      "|         202.6.90.68|01/Jul/1995:03:45...|   GET|/misc/showcase/pe...|HTTP/1.0|   404|        null|\n",
      "|         202.6.90.68|01/Jul/1995:03:45...|   GET|/images/home_iglo...|HTTP/1.0|   404|        null|\n",
      "|         202.6.90.68|01/Jul/1995:03:45...|   GET|/misc/showcase/pe...|HTTP/1.0|   404|        null|\n",
      "|         202.6.90.68|01/Jul/1995:03:45...|   GET|/misc/showcase/pe...|HTTP/1.0|   404|        null|\n",
      "|         202.6.90.68|01/Jul/1995:03:46...|   GET|     /Titles?qt=nasa|HTTP/1.0|   404|        null|\n",
      "|         202.6.90.68|01/Jul/1995:03:48...|   GET|/misc/showcase/pe...|HTTP/1.0|   404|        null|\n",
      "|   slip-d8.rdrop.com|01/Jul/1995:03:52...|   GET|          /count.gif|        |   404|        null|\n",
      "|       202.33.84.251|01/Jul/1995:03:57...|   GET|/://spacelink.msf...|HTTP/1.0|   404|        null|\n",
      "|godzilla.zeta.org.au|01/Jul/1995:04:02...|   GET|/shuttle/resource...|HTTP/1.0|   404|        null|\n",
      "|       202.33.84.230|01/Jul/1995:04:04...|   GET|/shuttle/missions...|HTTP/1.0|   404|        null|\n",
      "|   info.tuwien.ac.at|01/Jul/1995:04:06...|   GET|/shuttle/missions...|HTTP/1.0|   302|        null|\n",
      "|line02.pm1.abb.mi...|01/Jul/1995:04:17...|   GET|/history/apollo/p...|HTTP/1.0|   404|        null|\n",
      "|ip114.lax.primene...|01/Jul/1995:04:17...|   GET|/shuttle/missions...|HTTP/1.0|   302|        null|\n",
      "|n00106-104afc.uni...|01/Jul/1995:04:21...|   GET|/shuttle/resource...|HTTP/1.0|   404|        null|\n",
      "|      203.253.253.70|01/Jul/1995:04:23...|   GET|/shuttle/missions...|HTTP/1.0|   404|        null|\n",
      "|     berlin.snafu.de|01/Jul/1995:04:25...|   GET|/shuttle/missions...|HTTP/1.0|   302|        null|\n",
      "|scooter.pa-x.dec.com|01/Jul/1995:04:39...|   GET|/shuttle/missions...|HTTP/1.0|   404|        null|\n",
      "|ppp-ftl1-71.shado...|01/Jul/1995:04:45...|   GET|/shuttle/missions...|HTTP/1.0|   404|        null|\n",
      "|scooter.pa-x.dec.com|01/Jul/1995:04:48...|   GET|/facts/announce.html|HTTP/1.0|   404|        null|\n",
      "|ix-ren-nv1-10.ix....|01/Jul/1995:04:50...|   GET|/pub/winvn/readme...|HTTP/1.0|   404|        null|\n",
      "|ix-ren-nv1-10.ix....|01/Jul/1995:04:51...|   GET|/pub/winvn/releas...|HTTP/1.0|   404|        null|\n",
      "|  a2216.dial.tip.net|01/Jul/1995:04:58...|   GET|/shuttle/missions...|HTTP/1.0|   302|        null|\n",
      "|yhm0153.bekkoame....|01/Jul/1995:05:08...|   GET|     /history/apollo|HTTP/1.0|   302|        null|\n",
      "|   j09.kl2.jaring.my|01/Jul/1995:05:21...|   GET|/shuttle/missions...|HTTP/1.0|   302|        null|\n",
      "|   j09.kl2.jaring.my|01/Jul/1995:05:21...|   GET|/shuttle/missions...|HTTP/1.0|   404|        null|\n",
      "|       193.45.109.96|01/Jul/1995:05:23...|   GET|/shuttle/missions...|HTTP/1.0|   302|        null|\n",
      "|scooter.pa-x.dec.com|01/Jul/1995:05:25...|   GET|/shuttle/missions...|HTTP/1.0|   302|        null|\n",
      "|      sw24-73.iol.it|01/Jul/1995:05:27...|   GET|/shuttle/missions...|HTTP/1.0|   302|        null|\n",
      "|dialup96-070.swip...|01/Jul/1995:05:39...|   GET|    /.pub.win3.winvn|HTTP/1.0|   404|        null|\n",
      "|disarray.demon.co.uk|01/Jul/1995:05:42...|   GET|            /shuttle|HTTP/1.0|   302|        null|\n",
      "|        an1.aros.net|01/Jul/1995:05:44...|   GET|/software/winvn/w...|HTTP/1.0|   404|        null|\n",
      "|        exit.ruhr.de|01/Jul/1995:05:47...|   GET|/shuttle/missions...|HTTP/1.0|   302|        null|\n",
      "|dawn14.cs.berkele...|01/Jul/1995:05:47...|   GET|/shuttle/missions...|HTTP/1.0|   302|        null|\n",
      "|  umslts1_6.umsl.edu|01/Jul/1995:05:47...|   GET|/pub/winvn/readme...|HTTP/1.0|   404|        null|\n",
      "|  umslts1_6.umsl.edu|01/Jul/1995:05:48...|   GET|/pub/winvn/releas...|HTTP/1.0|   404|        null|\n",
      "|           iglou.com|01/Jul/1995:05:49...|   GET|             /images|HTTP/1.0|   302|        null|\n",
      "|peverell.demon.co.uk|01/Jul/1995:05:53...|   GET|  /shuttle/countdown|HTTP/1.0|   302|        null|\n",
      "|       dns.modena.it|01/Jul/1995:05:55...|   GET|/shuttle/missions...|HTTP/1.0|   404|        null|\n",
      "|        an1.aros.net|01/Jul/1995:05:56...|   GET|/software/winvn/w...|HTTP/1.0|   404|        null|\n",
      "|        an1.aros.net|01/Jul/1995:05:57...|   GET|/software/winvn/w...|HTTP/1.0|   404|        null|\n",
      "|        an1.aros.net|01/Jul/1995:05:57...|   GET|/software/winvn/w...|HTTP/1.0|   404|        null|\n",
      "|         gate1.ks.se|01/Jul/1995:05:59...|   GET|/shuttle/missions...|HTTP/1.0|   302|        null|\n",
      "|   k12.oit.umass.edu|01/Jul/1995:06:05...|   GET|/shuttle/missions...|HTTP/1.0|   302|        null|\n",
      "|ad08-025.compuser...|01/Jul/1995:06:09...|   GET|/shuttle/missions...|HTTP/1.0|   404|        null|\n",
      "|scooter.pa-x.dec.com|01/Jul/1995:06:18...|   GET|/people/nasa-cm/j...|HTTP/1.0|   404|        null|\n",
      "|   peat.nznet.gen.nz|01/Jul/1995:06:23...|   GET|/shuttle/missions...|HTTP/1.0|   302|        null|\n",
      "| reggae.iinet.net.au|01/Jul/1995:06:23...|   GET|/software/techdoc...|HTTP/1.0|   404|        null|\n",
      "|  p110101.let.rug.nl|01/Jul/1995:06:25...|   GET|/shuttle/missions...|HTTP/1.0|   302|        null|\n",
      "|scooter.pa-x.dec.com|01/Jul/1995:06:36...|   GET|/shuttle/missions...|HTTP/1.0|   404|        null|\n",
      "|disarray.demon.co.uk|01/Jul/1995:06:40...|   GET|  /shuttle/countdown|HTTP/1.0|   302|        null|\n",
      "|   j6.ptl4.jaring.my|01/Jul/1995:06:50...|   GET|             /images|HTTP/1.0|   302|        null|\n",
      "|asd01-10.dial.xs4...|01/Jul/1995:06:56...|   GET|             /images|HTTP/1.0|   302|        null|\n",
      "|       133.54.246.57|01/Jul/1995:07:13...|   GET|/shuttle/resource...|HTTP/1.0|   404|        null|\n",
      "|       133.54.246.57|01/Jul/1995:07:14...|   GET|/shuttle/resource...|HTTP/1.0|   404|        null|\n",
      "|   lace.cs.bgu.ac.il|01/Jul/1995:07:30...|   GET|/shuttle/missions...|HTTP/1.0|   302|        null|\n",
      "|  ak080.du.pipex.com|01/Jul/1995:07:36...|   GET|/shuttle/missions...|HTTP/1.0|   302|        null|\n",
      "|ambrosia.apana.or...|01/Jul/1995:07:52...|   GET|             /images|HTTP/1.0|   302|        null|\n",
      "|        bos80.pi.net|01/Jul/1995:07:56...|   GET|/shuttle/missions...|HTTP/1.0|   302|        null|\n",
      "|edinburgh3.easyne...|01/Jul/1995:08:04...|   GET|/shuttle/missions...|HTTP/1.0|   302|        null|\n",
      "|indy3.gi.rwth-aac...|01/Jul/1995:08:08...|   GET|/shuttle/missions...|HTTP/1.0|   302|        null|\n",
      "|     sol.zynet.co.uk|01/Jul/1995:08:09...|   GET|/shuttle/missions...|HTTP/1.0|   404|        null|\n",
      "|indy3.gi.rwth-aac...|01/Jul/1995:08:11...|   GET|/shuttle/missions...|HTTP/1.0|   302|        null|\n",
      "|www-b6.proxy.aol.com|01/Jul/1995:08:14...|   GET|             /images|HTTP/1.0|   302|        null|\n",
      "|         gate1.ks.se|01/Jul/1995:08:17...|   GET|/shuttle/missions...|HTTP/1.0|   302|        null|\n",
      "|dd08-030.compuser...|01/Jul/1995:08:17...|   GET|/shuttle/missions...|HTTP/1.0|   302|        null|\n",
      "|slip2.wave.sherid...|01/Jul/1995:08:20...|   GET|/pub/winvn/readme...|HTTP/1.0|   404|        null|\n",
      "|slip2.wave.sherid...|01/Jul/1995:08:20...|   GET|/pub/winvn/releas...|HTTP/1.0|   404|        null|\n",
      "|        129.11.224.6|01/Jul/1995:08:25...|   GET|/shuttle/missions...|HTTP/1.0|   302|        null|\n",
      "|piweba2y.prodigy.com|01/Jul/1995:08:28...|   GET|/shuttle/missions...|HTTP/1.0|   302|        null|\n",
      "|   slip9.niagara.com|01/Jul/1995:08:29...|   GET|  /shuttle/countdown|HTTP/1.0|   302|        null|\n",
      "|isbe-node164.isbe...|01/Jul/1995:08:29...|   GET|             /images|HTTP/1.0|   302|        null|\n",
      "|acs3.acs.ucalgary.ca|01/Jul/1995:08:30...|   GET|             /images|HTTP/1.0|   302|        null|\n",
      "|bressay.dcs.gla.a...|01/Jul/1995:08:43...|   GET|/shuttle/missions...|HTTP/1.0|   302|        null|\n",
      "|  aia00.kelly.af.mil|01/Jul/1995:08:43...|   GET|             /images|HTTP/1.0|   302|        null|\n",
      "|       204.248.154.1|01/Jul/1995:08:44...|   GET|/news/sci.space.s...|HTTP/1.0|   404|        null|\n",
      "|       204.248.154.1|01/Jul/1995:08:44...|   GET|/news/sci.space.s...|HTTP/1.0|   404|        null|\n",
      "|www-a1.proxy.aol.com|01/Jul/1995:08:46...|   GET|/shuttle/missions...|HTTP/1.0|   302|        null|\n",
      "|piweba4y.prodigy.com|01/Jul/1995:08:52...|   GET|/shuttle/missions...|HTTP/1.0|   302|        null|\n",
      "|    osip29.ionet.net|01/Jul/1995:08:53...|   GET|/shuttle/missions...|HTTP/1.0|   302|        null|\n",
      "|corp-uu.infoseek.com|01/Jul/1995:08:59...|   GET|/shuttle/missions...|HTTP/1.0|   404|        null|\n",
      "|dd15-040.compuser...|01/Jul/1995:09:03...|   GET|             /images|HTTP/1.0|   302|        null|\n",
      "|         193.121.0.3|01/Jul/1995:09:07...|   GET|/shuttle/missions...|HTTP/1.0|   302|        null|\n",
      "|romulus.ultranet.com|01/Jul/1995:09:23...|   GET|/shuttle/missions...|HTTP/1.0|   302|        null|\n",
      "|ppp3_070.bekkoame...|01/Jul/1995:09:25...|   GET|  /shuttle/countdown|HTTP/1.0|   302|        null|\n",
      "|   poppy.hensa.ac.uk|01/Jul/1995:09:25...|   GET|/shuttle/resource...|HTTP/1.0|   404|        null|\n",
      "|   poppy.hensa.ac.uk|01/Jul/1995:09:25...|   GET|/shuttle/resource...|HTTP/1.0|   404|        null|\n",
      "|ix-orl3-28.ix.net...|01/Jul/1995:09:31...|   GET|/shuttle/missions...|HTTP/1.0|   302|        null|\n",
      "|www-b2.proxy.aol.com|01/Jul/1995:09:32...|   GET|           /ksc/html|HTTP/1.0|   404|        null|\n",
      "|corp-uu.infoseek.com|01/Jul/1995:09:44...|   GET|  /shuttle/countdown|HTTP/1.0|   302|        null|\n",
      "|  ag037.du.pipex.com|01/Jul/1995:09:48...|   GET|/shuttle/missions...|HTTP/1.0|   302|        null|\n",
      "|  ag037.du.pipex.com|01/Jul/1995:09:51...|   GET|/shuttle/missions...|HTTP/1.0|   302|        null|\n",
      "|  ag037.du.pipex.com|01/Jul/1995:09:51...|   GET|/shuttle/missions...|HTTP/1.0|   302|        null|\n",
      "|  ag037.du.pipex.com|01/Jul/1995:09:53...|   GET|/shuttle/missions...|HTTP/1.0|   302|        null|\n",
      "|www-b5.proxy.aol.com|01/Jul/1995:09:54...|   GET|/shuttle/missions...|HTTP/1.0|   302|        null|\n",
      "|  pool02-41.innet.be|01/Jul/1995:10:02...|   GET|/shuttle/missions...|HTTP/1.0|   302|        null|\n",
      "|www-b2.proxy.aol.com|01/Jul/1995:10:10...|   GET|/shuttle/missions...|HTTP/1.0|   302|        null|\n",
      "|www-b2.proxy.aol.com|01/Jul/1995:10:11...|   GET|/shuttle/missions...|HTTP/1.0|   302|        null|\n",
      "|www-b2.proxy.aol.com|01/Jul/1995:10:11...|   GET|   /shuttle/missions|HTTP/1.0|   302|        null|\n",
      "|      202.248.44.130|01/Jul/1995:10:12...|   GET|/shuttle/missions...|HTTP/1.0|   404|        null|\n",
      "|dialport-21.sh.ls...|01/Jul/1995:10:14...|   GET|/shuttle/missions...|HTTP/1.0|   302|        null|\n",
      "|dd08-028.compuser...|01/Jul/1995:10:17...|   GET|/shuttle/missions...|HTTP/1.0|   302|        null|\n",
      "|www-b1.proxy.aol.com|01/Jul/1995:10:18...|   GET|/shuttle/missions...|HTTP/1.0|   302|        null|\n",
      "|www-a2.proxy.aol.com|01/Jul/1995:10:24...|   GET|/shuttle/missions...|HTTP/1.0|   302|        null|\n",
      "|ix-akr-oh2-10.ix....|01/Jul/1995:10:24...|   GET|/pub/winvn/readme...|HTTP/1.0|   404|        null|\n",
      "|ix-akr-oh2-10.ix....|01/Jul/1995:10:24...|   GET|/pub/winvn/releas...|HTTP/1.0|   404|        null|\n",
      "|soleil.acomp.usf.edu|01/Jul/1995:10:31...|   GET|             /images|HTTP/1.0|   302|        null|\n",
      "|soleil.acomp.usf.edu|01/Jul/1995:10:31...|   GET|   /mercury-logo.gif|HTTP/1.0|   404|        null|\n",
      "|soleil.acomp.usf.edu|01/Jul/1995:10:33...|   GET|   /mercury-logo.gif|HTTP/1.0|   404|        null|\n",
      "|soleil.acomp.usf.edu|01/Jul/1995:10:33...|   GET|          /lc39a.gif|HTTP/1.0|   404|        null|\n",
      "|soleil.acomp.usf.edu|01/Jul/1995:10:33...|   GET|            /lcc.jpg|HTTP/1.0|   404|        null|\n",
      "|ix-den10-15.ix.ne...|01/Jul/1995:10:36...|   GET|           /ksa.html|HTTP/1.0|   404|        null|\n",
      "|    solb.sc.ic.ac.uk|01/Jul/1995:10:41...|   GET|/shuttle/missions...|HTTP/1.0|   302|        null|\n",
      "|ix-nbw-nj1-22.ix....|01/Jul/1995:10:42...|      |                    |        |   404|        null|\n",
      "|    solb.sc.ic.ac.uk|01/Jul/1995:10:42...|   GET|/shuttle/missions...|HTTP/1.0|   302|        null|\n",
      "|   houston.clark.net|01/Jul/1995:10:42...|   GET|                /pub|HTTP/1.0|   404|        null|\n",
      "|dd12-018.compuser...|01/Jul/1995:10:43...|   GET|/shuttle/missions...|HTTP/1.0|   302|        null|\n",
      "|      139.230.203.30|01/Jul/1995:10:46...|   GET|/shuttle/missions...|HTTP/1.0|   302|        null|\n",
      "|     sl137.active.ch|01/Jul/1995:10:48...|   GET|/shuttle/missions...|HTTP/1.0|   302|        null|\n",
      "|www-b2.proxy.aol.com|01/Jul/1995:10:55...|   GET|/shuttle/missions...|HTTP/1.0|   302|        null|\n",
      "|   houston.clark.net|01/Jul/1995:10:55...|   GET|/pub/winvn/readme...|HTTP/1.0|   404|        null|\n",
      "|   houston.clark.net|01/Jul/1995:10:55...|   GET|/pub/winvn/releas...|HTTP/1.0|   404|        null|\n",
      "|crux.izmiran.rssi.ru|01/Jul/1995:10:56...|   GET|/shuttle/missions...|HTTP/1.0|   404|        null|\n",
      "|       155.13.40.100|01/Jul/1995:11:00...|   GET|             /images|HTTP/1.0|   302|        null|\n",
      "|gtri-5.remote.gat...|01/Jul/1995:11:03...|   GET|/pub/winvn/releas...|HTTP/1.0|   404|        null|\n",
      "|gtri-5.remote.gat...|01/Jul/1995:11:03...|   GET|/pub/winvn/readme...|HTTP/1.0|   404|        null|\n",
      "|www-b1.proxy.aol.com|01/Jul/1995:11:03...|   GET|  /shuttle/countdown|HTTP/1.0|   302|        null|\n",
      "|www-d2.proxy.aol.com|01/Jul/1995:11:07...|   GET|/shutle/missions/...|HTTP/1.0|   404|        null|\n",
      "|       204.226.67.53|01/Jul/1995:11:08...|   GET|/shuttle/missions...|HTTP/1.0|   302|        null|\n",
      "|www-d2.proxy.aol.com|01/Jul/1995:11:09...|   GET|/shutle/missions/...|HTTP/1.0|   404|        null|\n",
      "|    ppp231.aix.or.jp|01/Jul/1995:11:09...|   GET|/shuttle/missions...|HTTP/1.0|   302|        null|\n",
      "|  slip26.noc.unam.mx|01/Jul/1995:11:10...|   GET|/shuttle/missions...|HTTP/1.0|   302|        null|\n",
      "|      131.182.28.171|01/Jul/1995:11:11...|   GET|/history/apollo/p...|HTTP/1.0|   404|        null|\n",
      "|st2158.infonet.tu...|01/Jul/1995:11:12...|   GET|/shuttle/missions...|HTTP/1.0|   302|        null|\n",
      "|piweba4y.prodigy.com|01/Jul/1995:11:13...|   GET|             /images|HTTP/1.0|   302|        null|\n",
      "|  umslts1_6.umsl.edu|01/Jul/1995:11:17...|   GET|/history/apollo/p...|HTTP/1.0|   404|        null|\n",
      "| buckbrgr.inmind.com|01/Jul/1995:11:17...|   GET|/shuttle/missions...|HTTP/1.0|   302|        null|\n",
      "|nwchi-d119.net.in...|01/Jul/1995:11:21...|   GET|/shuttle/missions...|HTTP/1.0|   302|        null|\n",
      "|ix-pa6-01.ix.netc...|01/Jul/1995:11:22...|   GET|/history/apollo/p...|HTTP/1.0|   404|        null|\n",
      "|     unix.ccsnet.com|01/Jul/1995:11:27...|   GET|/pub/winvn/readme...|HTTP/1.0|   404|        null|\n",
      "|pc5103.pc.cc.cmu.edu|01/Jul/1995:11:27...|   GET|/shuttle/missions...|HTTP/1.0|   302|        null|\n",
      "|  ppp-dc-1-2.ios.com|01/Jul/1995:11:27...|   GET|/shuttle/missions...|HTTP/1.0|   404|        null|\n",
      "|  ppp-dc-1-2.ios.com|01/Jul/1995:11:28...|   GET|/shuttle/missions...|HTTP/1.0|   404|        null|\n",
      "|ix-pa6-01.ix.netc...|01/Jul/1995:11:29...|   GET|/history/apollo/p...|HTTP/1.0|   404|        null|\n",
      "|pm-jv1-176.coasta...|01/Jul/1995:11:30...|   GET|/images/crawlerwa...|HTTP/1.0|   404|        null|\n",
      "|asgard.cs.colorad...|01/Jul/1995:11:32...|   GET|             /images|        |   302|        null|\n",
      "|   node4.abaforum.es|01/Jul/1995:11:32...|   GET|/history/apollo/s...|HTTP/1.0|   404|        null|\n",
      "|www-d1.proxy.aol.com|01/Jul/1995:11:37...|   GET|             /images|HTTP/1.0|   302|        null|\n",
      "|      205.139.153.28|01/Jul/1995:11:40...|   GET|/shuttle/countdow...|HTTP/1.0|   404|        null|\n",
      "|      205.139.153.28|01/Jul/1995:11:41...|   GET|/shuttle/images/N...|HTTP/1.0|   404|        null|\n",
      "|      205.139.153.28|01/Jul/1995:11:41...|   GET|//images/NASA-log...|HTTP/1.0|   404|        null|\n",
      "|      205.139.153.28|01/Jul/1995:11:41...|   GET|/images/NASA-logo...|HTTP/1.0|   404|        null|\n",
      "|dialup-084.lit.in...|01/Jul/1995:11:45...|   GET|/shuttle/missions...|HTTP/1.0|   302|        null|\n",
      "|ix-nyc6-23.ix.net...|01/Jul/1995:11:48...|   GET|/pub/winvn/readme...|HTTP/1.0|   404|        null|\n",
      "|      198.252.156.12|01/Jul/1995:11:48...|   GET|/history/apollo-1...|HTTP/1.0|   404|        null|\n",
      "|      198.252.156.12|01/Jul/1995:11:50...|   GET|/history/apollo/a...|HTTP/1.0|   404|        null|\n",
      "|ix-nyc6-23.ix.net...|01/Jul/1995:11:51...|   GET|/pub/winvn/readme...|HTTP/1.0|   404|        null|\n",
      "|ix-nyc6-23.ix.net...|01/Jul/1995:11:51...|   GET|/pub/winvn/releas...|HTTP/1.0|   404|        null|\n",
      "|        nic.inbe.net|01/Jul/1995:11:53...|   GET|  /shuttle/countdown|HTTP/1.0|   302|        null|\n",
      "|        ra.ll.iac.es|01/Jul/1995:11:55...|   GET|/shuttle/missions...|HTTP/1.0|   302|        null|\n",
      "|slip52.dialup.mcg...|01/Jul/1995:11:57...|   GET|/shuttle/missions...|HTTP/1.0|   404|        null|\n",
      "|bocagate.bocarato...|01/Jul/1995:12:00...|   GET|/shuttle/missions...|HTTP/1.0|   302|        null|\n",
      "|  barbour.legent.com|01/Jul/1995:12:12...|   GET|/shuttle/missions...|HTTP/1.0|   302|        null|\n",
      "|www-d3.proxy.aol.com|01/Jul/1995:12:14...|   GET|  /shuttle/countdown|HTTP/1.0|   302|        null|\n",
      "|corp-uu.infoseek.com|01/Jul/1995:12:16...|   GET|/shuttle/missions...|HTTP/1.0|   404|        null|\n",
      "|   pcjmk.ag.rl.ac.uk|01/Jul/1995:12:18...|   GET|/shuttle/countdow...|HTTP/1.0|   404|        null|\n",
      "|ix-har5-20.ix.net...|01/Jul/1995:12:25...|   GET|/shuttle/missions...|HTTP/1.0|   404|        null|\n",
      "|ix-har5-20.ix.net...|01/Jul/1995:12:25...|   GET|/shuttle/missions...|HTTP/1.0|   404|        null|\n",
      "|ix-har5-20.ix.net...|01/Jul/1995:12:25...|   GET|/shuttle/missions...|HTTP/1.0|   404|        null|\n",
      "|  ad056.du.pipex.com|01/Jul/1995:12:30...|   GET|            /shuttle|HTTP/1.0|   302|        null|\n",
      "| moe06.slip.yorku.ca|01/Jul/1995:12:34...|   GET|/shuttle/missions...|HTTP/1.0|   302|        null|\n",
      "|dd05-024.compuser...|01/Jul/1995:12:46...|   GET|/shuttle/missions...|HTTP/1.0|   404|        null|\n",
      "|dd05-024.compuser...|01/Jul/1995:12:47...|   GET|/shuttle/missions...|HTTP/1.0|   404|        null|\n",
      "|dd05-024.compuser...|01/Jul/1995:12:47...|   GET|/shuttle/missions...|HTTP/1.0|   302|        null|\n",
      "|   pm2_5.digital.net|01/Jul/1995:12:48...|   GET|  /shuttle/countdown|HTTP/1.0|   302|        null|\n",
      "|     ottgate2.bnr.ca|01/Jul/1995:12:49...|   GET|/shuttle/missions...|HTTP/1.0|   302|        null|\n",
      "|       crc3.cris.com|01/Jul/1995:12:51...|   GET|/pub/winvn/readme...|HTTP/1.0|   404|        null|\n",
      "|dawn14.cs.berkele...|01/Jul/1995:12:51...|   GET|/shuttle/missions...|HTTP/1.0|   404|        null|\n",
      "|line60.ppp.lrz-mu...|01/Jul/1995:12:55...|   GET|/shuttle/missions...|HTTP/1.0|   302|        null|\n",
      "|line60.ppp.lrz-mu...|01/Jul/1995:12:55...|   GET|/shuttle/missions...|HTTP/1.0|   302|        null|\n",
      "|dawn14.cs.berkele...|01/Jul/1995:12:57...|   GET|/shuttle/missions...|HTTP/1.0|   302|        null|\n",
      "|www-b2.proxy.aol.com|01/Jul/1995:12:57...|   GET|/shuttle/missions...|HTTP/1.0|   302|        null|\n",
      "|       137.123.200.1|01/Jul/1995:12:57...|   GET|/shuttle/missions...|HTTP/1.0|   302|        null|\n",
      "| ppp439.st.rim.or.jp|01/Jul/1995:12:58...|   GET|/shuttle/resource...|HTTP/1.0|   404|        null|\n",
      "|line60.ppp.lrz-mu...|01/Jul/1995:12:59...|   GET|/shuttle/missions...|HTTP/1.0|   302|        null|\n",
      "|universe10.barint...|01/Jul/1995:12:59...|   GET|/shuttle/missions...|HTTP/1.0|   302|        null|\n",
      "|ix-hun-al1-13.ix....|01/Jul/1995:13:00...|   GET|             /images|HTTP/1.0|   302|        null|\n",
      "|dd02-027.compuser...|01/Jul/1995:13:01...|   GET|/shuttle/missions...|HTTP/1.0|   302|        null|\n",
      "|halifax-ts4-02.ns...|01/Jul/1995:13:03...|   GET|       /history.html|HTTP/1.0|   404|        null|\n",
      "|crux.izmiran.rssi.ru|01/Jul/1995:13:05...|   GET|/shuttle/missions...|HTTP/1.0|   302|        null|\n",
      "|hosts-143.hiwaay.net|01/Jul/1995:13:06...|   GET|/history/apollo/-...|HTTP/1.0|   404|        null|\n",
      "|ix-sf6-07.ix.netc...|01/Jul/1995:13:07...|   GET|/pub/winvn/readme...|HTTP/1.0|   404|        null|\n",
      "|ix-sf6-07.ix.netc...|01/Jul/1995:13:07...|   GET|/pub/winvn/releas...|HTTP/1.0|   404|        null|\n",
      "|      198.53.159.197|01/Jul/1995:13:07...|   GET|/pub/winvn/releas...|HTTP/1.0|   404|        null|\n",
      "|      198.53.159.197|01/Jul/1995:13:07...|   GET|/pub/winvn/readme...|HTTP/1.0|   404|        null|\n",
      "|  wjvd.globalone.net|01/Jul/1995:13:07...|   GET|/shuttle/missions...|HTTP/1.0|   302|        null|\n",
      "|allegro1.culture....|01/Jul/1995:13:14...|   GET|/shuttle/resource...|HTTP/1.0|   404|        null|\n",
      "|       199.78.144.37|01/Jul/1995:13:16...|   GET|/history.history....|HTTP/1.0|   404|        null|\n",
      "|ad11-016.compuser...|01/Jul/1995:13:17...|   GET|/shuttle/missions...|HTTP/1.0|   404|        null|\n",
      "|       199.78.144.37|01/Jul/1995:13:17...|   GET|/history/history....|HTTP/1.0|   404|        null|\n",
      "|       204.97.234.39|01/Jul/1995:13:18...|   GET|/shuttle/missions...|HTTP/1.0|   302|        null|\n",
      "|as19.net-connect.net|01/Jul/1995:13:20...|   GET|/shuttle/missions...|HTTP/1.0|   302|        null|\n",
      "|           clark.edu|01/Jul/1995:13:21...|   GET|             /images|HTTP/1.0|   302|        null|\n",
      "|       151.124.6.107|01/Jul/1995:13:23...|   GET|/shuttle/missions...|HTTP/1.0|   302|        null|\n",
      "|srv1.freenet.calg...|01/Jul/1995:13:23...|   GET|/shuttle/missions...|HTTP/1.0|   302|        null|\n",
      "|slip136-142.pt.uk...|01/Jul/1995:13:29...|   GET|/shuttle/missions...|HTTP/1.0|   302|        null|\n",
      "|aaent.microserve.com|01/Jul/1995:13:30...|   GET|             /images|HTTP/1.0|   302|        null|\n",
      "|    digcom.tcp.co.uk|01/Jul/1995:13:36...|   GET|/history/apollo/p...|HTTP/1.0|   404|        null|\n",
      "|     128.252.230.210|01/Jul/1995:13:36...|   GET|/mdss/ped/acs/MDS...|HTTP/1.0|   404|        null|\n",
      "|       128.95.200.71|01/Jul/1995:13:39...|   GET|             /images|HTTP/1.0|   302|        null|\n",
      "|  alyssa.prodigy.com|01/Jul/1995:13:43...|   GET|/shuttle/resource...|HTTP/1.0|   404|        null|\n",
      "|      magmab.vpro.nl|01/Jul/1995:13:43...|   GET|/shuttle/missions...|HTTP/1.0|   302|        null|\n",
      "|       204.97.213.15|01/Jul/1995:13:44...|   GET|             /images|HTTP/1.0|   302|        null|\n",
      "|      magmab.vpro.nl|01/Jul/1995:13:44...|   GET|/shuttle/missions...|HTTP/1.0|   302|        null|\n",
      "|d114.tp.interacce...|01/Jul/1995:13:53...|   GET|/shuttle/missions...|HTTP/1.0|   302|        null|\n",
      "|  pm1pool22.magic.ca|01/Jul/1995:13:55...|   GET|  /shuttle/countdown|HTTP/1.0|   302|        null|\n",
      "|     192.217.111.119|01/Jul/1995:13:56...|   GET|/shuttle/missions...|HTTP/1.0|   302|        null|\n",
      "|dawn14.cs.berkele...|01/Jul/1995:14:00...|   GET|/payloads/systems...|HTTP/1.0|   404|        null|\n",
      "|nozean.geo.umass.edu|01/Jul/1995:14:04...|   GET|/://spacelink.msf...|HTTP/1.0|   404|        null|\n",
      "|www-b5.proxy.aol.com|01/Jul/1995:14:05...|   GET|             /images|HTTP/1.0|   302|        null|\n",
      "|     192.217.111.119|01/Jul/1995:14:07...|   GET|/shuttle/missions...|HTTP/1.0|   302|        null|\n",
      "|ix-chi7-15.ix.net...|01/Jul/1995:14:08...|   GET|            /shuttle|HTTP/1.0|   302|        null|\n",
      "|ix-chi7-15.ix.net...|01/Jul/1995:14:08...|   GET|            /shuttle|HTTP/1.0|   302|        null|\n",
      "|  pm1pool22.magic.ca|01/Jul/1995:14:10...|   GET|  /shuttle/countdown|HTTP/1.0|   302|        null|\n",
      "|scotty.fb12.tu-be...|01/Jul/1995:14:17...|   GET|/shuttle/missions...|HTTP/1.0|   302|        null|\n",
      "|www-d1.proxy.aol.com|01/Jul/1995:14:18...|   GET|             /images|HTTP/1.0|   302|        null|\n",
      "|dawn14.cs.berkele...|01/Jul/1995:14:19...|   GET|/shuttle/missions...|HTTP/1.0|   302|        null|\n",
      "|        opus.wpi.edu|01/Jul/1995:14:21...|   GET|/shuttle/missions...|HTTP/1.0|   302|        null|\n",
      "|        opus.wpi.edu|01/Jul/1995:14:21...|   GET|/shuttle/missions...|HTTP/1.0|   302|        null|\n",
      "|corp-uu.infoseek.com|01/Jul/1995:14:25...|   GET|/history/apollo/p...|HTTP/1.0|   404|        null|\n",
      "|dawn14.cs.berkele...|01/Jul/1995:14:25...|   GET|/shuttle/missions...|HTTP/1.0|   302|        null|\n",
      "|   arena.carleton.ca|01/Jul/1995:14:27...|   GET|/history/apollo/s...|HTTP/1.0|   404|        null|\n",
      "| ppp195.st.rim.or.jp|01/Jul/1995:14:28...|   GET|/shuttle/resource...|HTTP/1.0|   404|        null|\n",
      "|       204.189.73.43|01/Jul/1995:14:29...|   GET|/shuttle/missions...|HTTP/1.0|   302|        null|\n",
      "| ppp7.infobahnos.com|01/Jul/1995:14:30...|   GET|/shuttle/missions...|HTTP/1.0|   302|        null|\n",
      "|  net-1-109.eden.com|01/Jul/1995:14:32...|   GET|/history/apollo/p...|HTTP/1.0|   404|        null|\n",
      "|dawn14.cs.berkele...|01/Jul/1995:14:34...|   GET|    /de/systems.html|HTTP/1.0|   404|        null|\n",
      "|ip206.pom.primene...|01/Jul/1995:14:35...|   GET|/pub/winvn/releas...|HTTP/1.0|   404|        null|\n",
      "|dawn14.cs.berkele...|01/Jul/1995:14:39...|   GET|:/facilities/tour...|HTTP/1.0|   404|        null|\n",
      "|rhosoda.pbtsc.pan...|01/Jul/1995:14:41...|   GET|           /ksc.htm1|HTTP/1.0|   404|        null|\n",
      "|dawn14.cs.berkele...|01/Jul/1995:14:41...|   GET|/shuttle/missions...|HTTP/1.0|   302|        null|\n",
      "|    dslip06.itek.net|01/Jul/1995:14:41...|   GET|               /ksc/|HTTP/1.0|   404|        null|\n",
      "|    dslip06.itek.net|01/Jul/1995:14:41...|   GET|            /puc/ksc|HTTP/1.0|   404|        null|\n",
      "|rhosoda.pbtsc.pan...|01/Jul/1995:14:42...|   GET|           /ksc.htm1|HTTP/1.0|   404|        null|\n",
      "| galahad.da.grci.com|01/Jul/1995:14:42...|   GET|/shuttle/missions...|HTTP/1.0|   302|        null|\n",
      "|dawn14.cs.berkele...|01/Jul/1995:14:44...|   GET|/shuttle/missions...|HTTP/1.0|   302|        null|\n",
      "|dawn14.cs.berkele...|01/Jul/1995:14:45...|   GET|  /shuttle/countdown|HTTP/1.0|   302|        null|\n",
      "| lcubed.terranet.com|01/Jul/1995:14:45...|   GET|/shuttle/missions...|HTTP/1.0|   404|        null|\n",
      "|www-b6.proxy.aol.com|01/Jul/1995:14:45...|   GET|/shuttle/technolo...|HTTP/1.0|   404|        null|\n",
      "|dawn14.cs.berkele...|01/Jul/1995:14:48...|   GET|/shuttle/missions...|HTTP/1.0|   302|        null|\n",
      "| vxb.ocis.uncwil.edu|01/Jul/1995:14:49...|   GET|             /images|HTTP/1.0|   302|        null|\n",
      "|     cygnus.omsi.edu|01/Jul/1995:14:53...|   GET|/persons/astronau...|HTTP/1.0|   404|        null|\n",
      "|       132.252.52.82|01/Jul/1995:14:53...|   GET|/shuttle/missions...|HTTP/1.0|   302|        null|\n",
      "|dawn14.cs.berkele...|01/Jul/1995:14:54...|   GET|/shuttle/missions...|HTTP/1.0|   404|        null|\n",
      "|www-d2.proxy.aol.com|01/Jul/1995:14:56...|   GET|             /images|HTTP/1.0|   302|        null|\n",
      "|      199.190.250.10|01/Jul/1995:14:56...|   GET|/shuttle/resource...|HTTP/1.0|   404|        null|\n",
      "|pc6.svg-pm2-1.eun...|01/Jul/1995:14:57...|   GET|/shuttle/missions...|HTTP/1.0|   302|        null|\n",
      "|      wwwproxy.ac.il|01/Jul/1995:14:58...|   GET|         /images/NAS|HTTP/1.0|   404|        null|\n",
      "|mac-2586.d-buildi...|01/Jul/1995:15:03...|   GET|/shuttle/missions...|HTTP/1.0|   302|        null|\n",
      "|www-b2.proxy.aol.com|01/Jul/1995:15:09...|   GET|/shuttle/resource...|HTTP/1.0|   404|        null|\n",
      "|www-b2.proxy.aol.com|01/Jul/1995:15:09...|   GET|/shuttle/resource...|HTTP/1.0|   404|        null|\n",
      "| mega206.megamed.com|01/Jul/1995:15:11...|   GET|/pub/winvn/releas...|HTTP/1.0|   404|        null|\n",
      "|  pm1-24.america.net|01/Jul/1995:15:14...|   GET|/shuttle/resource...|HTTP/1.0|   404|        null|\n",
      "| mega206.megamed.com|01/Jul/1995:15:18...|   GET|/pub/winvn/releas...|HTTP/1.0|   404|        null|\n",
      "|ip-pdx2-45.telepo...|01/Jul/1995:15:21...|   GET|/pub/winvn/readme...|HTTP/1.0|   404|        null|\n",
      "|ip-pdx2-45.telepo...|01/Jul/1995:15:21...|   GET|/pub/winvn/releas...|HTTP/1.0|   404|        null|\n",
      "|      oak.zilker.net|01/Jul/1995:15:21...|   GET|/shuttle/missions...|HTTP/1.0|   302|        null|\n",
      "|   ts3-pt1.pcnet.com|01/Jul/1995:15:22...|   GET|/shuttle/missions...|HTTP/1.0|   302|        null|\n",
      "|www-b1.proxy.aol.com|01/Jul/1995:15:23...|   GET|/hist/apollo/apol...|HTTP/1.0|   404|        null|\n",
      "|slip65-198.ny.us....|01/Jul/1995:15:28...|   GET|/shuttle/missions...|HTTP/1.0|   404|        null|\n",
      "|    water.waterw.com|01/Jul/1995:15:29...|   GET|/shuttle/missions...|HTTP/1.0|   302|        null|\n",
      "|   a1p38.connect.net|01/Jul/1995:15:29...|   GET|/history/apollo/p...|HTTP/1.0|   404|        null|\n",
      "|   suki.vip.best.com|01/Jul/1995:15:34...|   GET|/shuttle/missions...|HTTP/1.0|   302|        null|\n",
      "|peg1-ts6.peganet.com|01/Jul/1995:15:38...|   GET|/shuttle/missions...|HTTP/1.0|   302|        null|\n",
      "|   tpafl-27.gate.net|01/Jul/1995:15:38...|   GET|  /shuttle/countdown|HTTP/1.0|   302|        null|\n",
      "|syseng55.sunnyval...|01/Jul/1995:15:44...|   GET|/shuttle/missions...|HTTP/1.0|   404|        null|\n",
      "| ppp-hck-1-7.ios.com|01/Jul/1995:15:47...|   GET|/shuttle/missions...|HTTP/1.0|   404|        null|\n",
      "| ppp-hck-1-7.ios.com|01/Jul/1995:15:47...|   GET|/shuttle/missions...|HTTP/1.0|   404|        null|\n",
      "|ingram.ppp.americ...|01/Jul/1995:15:48...|   GET|/shuttle/missions...|HTTP/1.0|   302|        null|\n",
      "|             j51.com|01/Jul/1995:15:50...|   GET|/shuttle/resource...|HTTP/1.0|   404|        null|\n",
      "| hfx-p27.isisnet.com|01/Jul/1995:15:51...|   GET|/://spacelink.msf...|HTTP/1.0|   404|        null|\n",
      "|    ip047036.iac.net|01/Jul/1995:15:56...|   GET|/shuttle/missions...|HTTP/1.0|   302|        null|\n",
      "|line60.ppp.lrz-mu...|01/Jul/1995:15:56...|   GET|/shuttle/missions...|HTTP/1.0|   302|        null|\n",
      "|rofpop28.infosphe...|01/Jul/1995:15:56...|   GET|/pub/winvn/releas...|HTTP/1.0|   404|        null|\n",
      "|       192.127.57.28|01/Jul/1995:15:57...|   GET|/shuttle/missions...|HTTP/1.0|   302|        null|\n",
      "|line60.ppp.lrz-mu...|01/Jul/1995:15:57...|   GET|/shuttle/missions...|HTTP/1.0|   302|        null|\n",
      "|line60.ppp.lrz-mu...|01/Jul/1995:15:57...|   GET|/shuttle/missions...|HTTP/1.0|   302|        null|\n",
      "|www-b1.proxy.aol.com|01/Jul/1995:15:59...|   GET|       /history.html|HTTP/1.0|   404|        null|\n",
      "|www-b1.proxy.aol.com|01/Jul/1995:16:01...|   GET|       /history.html|HTTP/1.0|   404|        null|\n",
      "|disarray.demon.co.uk|01/Jul/1995:16:01...|   GET|/shuttle/resource...|HTTP/1.0|   404|        null|\n",
      "|slip03.cs1.electr...|01/Jul/1995:16:03...|   GET|/shuttle/missions...|HTTP/1.0|   404|        null|\n",
      "|slip03.cs1.electr...|01/Jul/1995:16:04...|   GET|/shuttle/missions...|HTTP/1.0|   404|        null|\n",
      "|slip03.cs1.electr...|01/Jul/1995:16:04...|   GET|/shuttle/missions...|HTTP/1.0|   404|        null|\n",
      "|shantz338-26.ccit...|01/Jul/1995:16:04...|   GET|/people/nasa-cm/j...|HTTP/1.0|   404|        null|\n",
      "|slip03.cs1.electr...|01/Jul/1995:16:05...|   GET|/shuttle/missions...|HTTP/1.0|   404|        null|\n",
      "|training-mac18.ca...|01/Jul/1995:16:06...|   GET|/history/apollo/p...|HTTP/1.0|   404|        null|\n",
      "|ad03-027.compuser...|01/Jul/1995:16:09...|   GET|/shuttle/mirvis.html|HTTP/1.0|   404|        null|\n",
      "| beringa.tribnet.com|01/Jul/1995:16:11...|   GET|            /shuttle|HTTP/1.0|   302|        null|\n",
      "| hfx-p27.isisnet.com|01/Jul/1995:16:17...|   GET|/://spacelink.msf...|HTTP/1.0|   404|        null|\n",
      "|           cpcug.org|01/Jul/1995:16:18...|   GET|/shuttle/missions...|HTTP/1.0|   302|        null|\n",
      "|mdm95haa.dialin.h...|01/Jul/1995:16:20...|   GET|             /images|HTTP/1.0|   302|        null|\n",
      "|www-d4.proxy.aol.com|01/Jul/1995:16:36...|   GET|             /images|HTTP/1.0|   302|        null|\n",
      "|shdh116-w16.whart...|01/Jul/1995:16:39...|   GET|             /images|HTTP/1.0|   302|        null|\n",
      "|ix-tf6-06.ix.netc...|01/Jul/1995:16:40...|   GET|/shuttle/missions...|HTTP/1.0|   302|        null|\n",
      "|         pink.pb.net|01/Jul/1995:16:42...|   GET|/people/nasa-cm/j...|HTTP/1.0|   404|        null|\n",
      "|         pink.pb.net|01/Jul/1995:16:42...|   GET|/people/nasa-cm/j...|HTTP/1.0|   404|        null|\n",
      "|         pink.pb.net|01/Jul/1995:16:42...|   GET|/shuttle/missions...|HTTP/1.0|   302|        null|\n",
      "| p1dyn22.polaris.net|01/Jul/1995:16:47...|   GET|/shuttle/missions...|HTTP/1.0|   302|        null|\n",
      "| freenet.buffalo.edu|01/Jul/1995:16:47...|   GET|/shuttle/missions...|HTTP/1.0|   302|        null|\n",
      "|dd01-026.compuser...|01/Jul/1995:16:55...|   GET|        /search.html|HTTP/1.0|   404|        null|\n",
      "|dd01-026.compuser...|01/Jul/1995:16:55...|   GET|        /search.html|HTTP/1.0|   404|        null|\n",
      "|ix-prn1-04.ix.net...|01/Jul/1995:17:03...|   GET|/history/apollo/a...|HTTP/1.0|   302|        null|\n",
      "|     198.168.161.104|01/Jul/1995:17:04...|   GET|/shuttle/missions...|HTTP/1.0|   302|        null|\n",
      "|wxs5-10.worldacce...|01/Jul/1995:17:05...|   GET|/shuttle/missions...|HTTP/1.0|   302|        null|\n",
      "| phobos.csee.usf.edu|01/Jul/1995:17:09...|   GET|             /images|HTTP/1.0|   302|        null|\n",
      "|www-a1.proxy.aol.com|01/Jul/1995:17:12...|   GET|/shuttle/countdow...|HTTP/1.0|   404|        null|\n",
      "|     sled.alaska.edu|01/Jul/1995:17:19...|   GET|             /images|HTTP/1.0|   302|        null|\n",
      "|www-d4.proxy.aol.com|01/Jul/1995:17:19...|   GET|             /images|HTTP/1.0|   302|        null|\n",
      "|  net-1-166.eden.com|01/Jul/1995:17:22...|   GET|/shuttle/missions...|HTTP/1.0|   302|        null|\n",
      "|       ccn.cs.dal.ca|01/Jul/1995:17:25...|   GET|/shuttle/missions...|HTTP/1.0|   404|        null|\n",
      "|boompie-ppp10.kno...|01/Jul/1995:17:27...|   GET|/shuttle/missions...|HTTP/1.0|   302|        null|\n",
      "|boompie-ppp10.kno...|01/Jul/1995:17:28...|   GET|            /shuttle|HTTP/1.0|   302|        null|\n",
      "|erdpc-1.umtri.umi...|01/Jul/1995:17:31...|   GET|/history/apollo/p...|HTTP/1.0|   404|        null|\n",
      "| ppp-nyc-1-3.ios.com|01/Jul/1995:17:32...|   GET|/history/apollo/s...|HTTP/1.0|   404|        null|\n",
      "| ppp-nyc-1-3.ios.com|01/Jul/1995:17:32...|   GET|/history/apollo/s...|HTTP/1.0|   404|        null|\n",
      "| ppp-nyc-1-3.ios.com|01/Jul/1995:17:32...|   GET|/history/apollo/s...|HTTP/1.0|   404|        null|\n",
      "| ppp-nyc-1-3.ios.com|01/Jul/1995:17:32...|   GET|/history/apollo/s...|HTTP/1.0|   404|        null|\n",
      "| ppp-nyc-1-3.ios.com|01/Jul/1995:17:32...|   GET|/history/apollo/s...|HTTP/1.0|   404|        null|\n",
      "| ppp-nyc-1-3.ios.com|01/Jul/1995:17:32...|   GET|/history/apollo/s...|HTTP/1.0|   404|        null|\n",
      "|    pm1-orl7.iag.net|01/Jul/1995:17:35...|   GET|/shuttle/resource...|HTTP/1.0|   404|        null|\n",
      "|    pm1-orl7.iag.net|01/Jul/1995:17:35...|   GET|/shuttle/resource...|HTTP/1.0|   404|        null|\n",
      "|winnie.freenet.mb.ca|01/Jul/1995:17:37...|   GET|             /images|HTTP/1.0|   302|        null|\n",
      "|   p12.intergate.net|01/Jul/1995:17:37...|   GET|/shuttle/missions...|HTTP/1.0|   404|        null|\n",
      "|drjo011a046.embra...|01/Jul/1995:17:41...|   GET|/shuttle/resource...|HTTP/1.0|   404|        null|\n",
      "|sbd0114.deltanet.com|01/Jul/1995:17:43...|   GET|     /software/winvn|HTTP/1.0|   302|        null|\n",
      "|   bhbwin.acadia.net|01/Jul/1995:17:47...|   GET|/shuttle/resource...|HTTP/1.0|   404|        null|\n",
      "|cad168.cadvision.com|01/Jul/1995:17:57...|   GET|/sofware/winvn/wi...|HTTP/1.0|   404|        null|\n",
      "|     roy.slip.lm.com|01/Jul/1995:18:00...|   GET|/shuttle/missions...|HTTP/1.0|   302|        null|\n",
      "|ad15-019.compuser...|01/Jul/1995:18:02...|   GET|/shuttle/technolo...|HTTP/1.0|   404|        null|\n",
      "|ad15-019.compuser...|01/Jul/1995:18:04...|   GET|/shuttle/technolo...|HTTP/1.0|   404|        null|\n",
      "|     dip083.pixi.com|01/Jul/1995:18:05...|   GET|  /shuttle/countdown|HTTP/1.0|   302|        null|\n",
      "|cad179.cadvision.com|01/Jul/1995:18:05...|   GET|/pub/winvn/readme...|HTTP/1.0|   404|        null|\n",
      "|ad15-019.compuser...|01/Jul/1995:18:06...|   GET|/shuttle/technolo...|HTTP/1.0|   404|        null|\n",
      "|cad179.cadvision.com|01/Jul/1995:18:06...|   GET|/pub/winvn/releas...|HTTP/1.0|   404|        null|\n",
      "| beringa.tribnet.com|01/Jul/1995:18:15...|   GET|  /shuttle/countdown|HTTP/1.0|   302|        null|\n",
      "|solair1.inter.nl.net|01/Jul/1995:18:15...|   GET|/shuttle/missions...|HTTP/1.0|   302|        null|\n",
      "|   dffl6-22.gate.net|01/Jul/1995:18:16...|   GET|/shuttle/missions...|HTTP/1.0|   302|        null|\n",
      "|       204.48.128.59|01/Jul/1995:18:16...|   GET|/shuttle/resource...|HTTP/1.0|   404|        null|\n",
      "|      165.113.166.16|01/Jul/1995:18:17...|   GET|            /shuttle|HTTP/1.0|   302|        null|\n",
      "|solair1.inter.nl.net|01/Jul/1995:18:17...|   GET|/images/crawlerwa...|HTTP/1.0|   404|        null|\n",
      "|       193.44.126.11|01/Jul/1995:18:18...|   GET|/shuttle/missions...|HTTP/1.0|   302|        null|\n",
      "|www-d3.proxy.aol.com|01/Jul/1995:18:22...|   GET|/shuttle/missions...|HTTP/1.0|   302|        null|\n",
      "|dd10-022.compuser...|01/Jul/1995:18:24...|   GET|  /shuttle/countdown|HTTP/1.0|   302|        null|\n",
      "|disarray.demon.co.uk|01/Jul/1995:18:24...|   GET|    /ads/isn_ad2.gif|HTTP/1.0|   404|        null|\n",
      "|dd08-016.compuser...|01/Jul/1995:18:24...|   GET|           /gpc.html|HTTP/1.0|   404|        null|\n",
      "| n76h002.nlnet.nf.ca|01/Jul/1995:18:26...|   GET|/shuttle/missions...|HTTP/1.0|   404|        null|\n",
      "|ip211.vcv.primene...|01/Jul/1995:18:29...|   GET|             /images|HTTP/1.0|   302|        null|\n",
      "|   ccc014.canuck.com|01/Jul/1995:18:31...|   GET|/shuttle/missions...|HTTP/1.0|   404|        null|\n",
      "|ix-mia3-23.ix.net...|01/Jul/1995:18:34...|   GET|/shuttle/resource...|HTTP/1.0|   404|        null|\n",
      "|www-b3.proxy.aol.com|01/Jul/1995:18:34...|   GET|/shuttle/missions...|HTTP/1.0|   404|        null|\n",
      "|ix-mia3-23.ix.net...|01/Jul/1995:18:36...|   GET|/shuttle/resource...|HTTP/1.0|   404|        null|\n",
      "|piweba3y.prodigy.com|01/Jul/1995:18:46...|   GET|/shuttle/missions...|HTTP/1.0|   302|        null|\n",
      "|       afep.yorku.ca|01/Jul/1995:18:47...|   GET|             /images|HTTP/1.0|   302|        null|\n",
      "|    s2246.netins.net|01/Jul/1995:18:50...|   GET|/shuttle/missions...|HTTP/1.0|   302|        null|\n",
      "|ad04-064.compuser...|01/Jul/1995:18:53...|   GET|/shuttle/missions...|HTTP/1.0|   302|        null|\n",
      "|www-a2.proxy.aol.com|01/Jul/1995:18:54...|   GET|/shuttle/missions...|HTTP/1.0|   302|        null|\n",
      "|  alyssa.prodigy.com|01/Jul/1995:18:56...|   GET|/shuttle/missions...|HTTP/1.0|   302|        null|\n",
      "|       www.mclink.it|01/Jul/1995:18:57...|   GET|             /images|HTTP/1.0|   302|        null|\n",
      "|ts1-and-15.iquest...|01/Jul/1995:18:58...|   GET|/shuttle/technolo...|HTTP/1.0|   404|        null|\n",
      "|       194.47.161.45|01/Jul/1995:19:04...|   GET|/shuttle/missions...|HTTP/1.0|   302|        null|\n",
      "|www-a1.proxy.aol.com|01/Jul/1995:19:04...|   GET|/shuttle/technolo...|HTTP/1.0|   404|        null|\n",
      "|www-a1.proxy.aol.com|01/Jul/1995:19:08...|   GET|/shuttle/technolo...|HTTP/1.0|   404|        null|\n",
      "|       www.mclink.it|01/Jul/1995:19:12...|   GET|             /images|HTTP/1.0|   302|        null|\n",
      "|    p4.superlink.net|01/Jul/1995:19:13...|   GET|/pub/winvn/readme...|HTTP/1.0|   404|        null|\n",
      "|       www.mclink.it|01/Jul/1995:19:13...|   GET|             /images|HTTP/1.0|   302|        null|\n",
      "|  vortex.pc.ingr.com|01/Jul/1995:19:13...|   GET|/pub/winvn/releas...|HTTP/1.0|   404|        null|\n",
      "|    p4.superlink.net|01/Jul/1995:19:17...|   GET|/pub/winvn/releas...|HTTP/1.0|   404|        null|\n",
      "|www-d1.proxy.aol.com|01/Jul/1995:19:19...|   GET|             /images|HTTP/1.0|   302|        null|\n",
      "|ad08-020.compuser...|01/Jul/1995:19:22...|   GET|/shuttle/missions...|HTTP/1.0|   302|        null|\n",
      "| shutsell.golder.com|01/Jul/1995:19:23...|   GET|/shuttle/missions...|HTTP/1.0|   404|        null|\n",
      "| shutsell.golder.com|01/Jul/1995:19:23...|   GET|/shuttle/missions...|HTTP/1.0|   404|        null|\n",
      "|pc9.kb-pm2-1.eune...|01/Jul/1995:19:24...|   GET|/shuttle/missions...|HTTP/1.0|   302|        null|\n",
      "|dd15-025.compuser...|01/Jul/1995:19:24...|   GET|/shuttle/missions...|HTTP/1.0|   302|        null|\n",
      "|     pm1d10.iaehv.nl|01/Jul/1995:19:29...|   GET|/shuttle/missions...|HTTP/1.0|   302|        null|\n",
      "|  dialup007.lava.net|01/Jul/1995:19:31...|   GET|     /history/apollo|HTTP/1.0|   302|        null|\n",
      "|piweba3y.prodigy.com|01/Jul/1995:19:31...|   GET|/shuttle/missions...|HTTP/1.0|   404|        null|\n",
      "|sunday.isltd.insi...|01/Jul/1995:19:35...|   GET|/shuttle/missions...|HTTP/1.0|   404|        null|\n",
      "|sunday.isltd.insi...|01/Jul/1995:19:35...|   GET|   /shuttle/missions|HTTP/1.0|   302|        null|\n",
      "|gabriola.islandne...|01/Jul/1995:19:39...|   GET|/shuttle/missions...|HTTP/1.0|   302|        null|\n",
      "|   dorsai.dorsai.org|01/Jul/1995:19:45...|   GET|/shuttle/missions...|HTTP/1.0|   404|        null|\n",
      "|www-a2.proxy.aol.com|01/Jul/1995:19:49...|   GET|/shuttle/countdow...|HTTP/1.0|   404|        null|\n",
      "|www-a2.proxy.aol.com|01/Jul/1995:19:49...|   GET|/shuttle/countdow...|HTTP/1.0|   404|        null|\n",
      "|   h98-208.ccnet.com|01/Jul/1995:19:54...|   GET|/shuttle/missions...|HTTP/1.0|   404|        null|\n",
      "|        137.53.73.50|01/Jul/1995:19:55...|   GET|  /shuttle/countdown|HTTP/1.0|   302|        null|\n",
      "|   h98-208.ccnet.com|01/Jul/1995:19:57...|   GET|/shuttle/missions...|HTTP/1.0|   302|        null|\n",
      "|ppp-wpb-142.shado...|01/Jul/1995:19:58...|   GET|/://spacelink.msf...|HTTP/1.0|   404|        null|\n",
      "|  pm3_29.digital.net|01/Jul/1995:19:59...|   GET|/pub/winvn/readme...|HTTP/1.0|   404|        null|\n",
      "|  pm3_29.digital.net|01/Jul/1995:19:59...|   GET|/pub/winvn/releas...|HTTP/1.0|   404|        null|\n",
      "|  ad075.du.pipex.com|01/Jul/1995:20:06...|   GET|/shuttle/missions...|HTTP/1.0|   302|        null|\n",
      "|     suma3.rdg.ac.uk|01/Jul/1995:20:08...|   GET|/shuttle/missions...|HTTP/1.0|   404|        null|\n",
      "|  mdog.earthlink.net|01/Jul/1995:20:13...|   GET|/shuttle/missions...|HTTP/1.0|   302|        null|\n",
      "|     mpp.cs.ucla.edu|01/Jul/1995:20:13...|   GET|/shuttle/missions...|HTTP/1.0|   302|        null|\n",
      "|     199.107.136.145|01/Jul/1995:20:17...|   GET|/shuttle/missions...|HTTP/1.0|   302|        null|\n",
      "|burgundy.cs.dsi.b...|01/Jul/1995:20:21...|   GET|/shuttle/missions...|HTTP/1.0|   302|        null|\n",
      "|piweba1y.prodigy.com|01/Jul/1995:20:23...|   GET|/history/apollo/a...|HTTP/1.0|   404|        null|\n",
      "|asd05-00.dial.xs4...|01/Jul/1995:20:24...|   GET|/shuttle/missions...|HTTP/1.0|   302|        null|\n",
      "|ix-bak-ca1-20.ix....|01/Jul/1995:20:25...|   GET|/://spacelink.msf...|HTTP/1.0|   404|        null|\n",
      "|kentville-ts-8.ns...|01/Jul/1995:20:26...|   GET|/shuttle/resource...|HTTP/1.0|   404|        null|\n",
      "|www-b4.proxy.aol.com|01/Jul/1995:20:27...|   GET|/history/apollo-1...|HTTP/1.0|   404|        null|\n",
      "|www-b4.proxy.aol.com|01/Jul/1995:20:30...|   GET|/history/apollo/a...|HTTP/1.0|   404|        null|\n",
      "|srv1.freenet.calg...|01/Jul/1995:20:32...|   GET|/shuttle/missions...|HTTP/1.0|   302|        null|\n",
      "|  carlos.uthscsa.edu|01/Jul/1995:20:37...|   GET|/history/apollo/p...|HTTP/1.0|   404|        null|\n",
      "|www-b4.proxy.aol.com|01/Jul/1995:20:41...|   GET|/history/apollo/a...|HTTP/1.0|   404|        null|\n",
      "|        128.96.143.6|01/Jul/1995:20:44...|   GET|/history/apollo/a...|HTTP/1.0|   302|        null|\n",
      "|    ip043185.iac.net|01/Jul/1995:20:46...|   GET|   /shuttle/missions|HTTP/1.0|   302|        null|\n",
      "|www-b5.proxy.aol.com|01/Jul/1995:20:51...|   GET|/shuttle/missions...|HTTP/1.0|   404|        null|\n",
      "|      asp.erinet.com|01/Jul/1995:20:52...|   GET|/shuttle/missions...|HTTP/1.0|   302|        null|\n",
      "|hosts-211.hiwaay.net|01/Jul/1995:20:52...|   GET|/history/apollo/-...|HTTP/1.0|   404|        null|\n",
      "|h-avantgarde.dc.i...|01/Jul/1995:20:56...|   GET|/shuttle/missions...|HTTP/1.0|   302|        null|\n",
      "|ix-sac3-01.ix.net...|01/Jul/1995:21:00...|   GET|/pub/winvn/readme...|HTTP/1.0|   404|        null|\n",
      "|ix-sac3-01.ix.net...|01/Jul/1995:21:00...|   GET|/pub/winvn/releas...|HTTP/1.0|   404|        null|\n",
      "|ad11-014.compuser...|01/Jul/1995:21:01...|   GET|/shuttle/missions...|HTTP/1.0|   302|        null|\n",
      "|ix-akr-oh2-05.ix....|01/Jul/1995:21:02...|   GET|/history/apollo/s...|HTTP/1.0|   404|        null|\n",
      "|ix-akr-oh2-05.ix....|01/Jul/1995:21:02...|   GET|/history/apollo/s...|HTTP/1.0|   404|        null|\n",
      "|ix-akr-oh2-05.ix....|01/Jul/1995:21:02...|   GET|/history/apollo/s...|HTTP/1.0|   404|        null|\n",
      "|    ppp39.texoma.com|01/Jul/1995:21:04...|   GET|/shuttle/missions...|HTTP/1.0|   302|        null|\n",
      "|  looney.yknet.yk.ca|01/Jul/1995:21:05...|   GET|/shuttle/resource...|HTTP/1.0|   404|        null|\n",
      "|     204.179.112.220|01/Jul/1995:21:07...|   GET|/shuttle/resource...|HTTP/1.0|   404|        null|\n",
      "|pipe6.nyc.pipelin...|01/Jul/1995:21:07...|   GET|/shuttle/missions...|HTTP/1.0|   404|        null|\n",
      "|pipe6.nyc.pipelin...|01/Jul/1995:21:08...|   GET|/shuttle/missions...|HTTP/1.0|   404|        null|\n",
      "|    osip41.ionet.net|01/Jul/1995:21:09...|   GET|/shuttle/missions...|HTTP/1.0|   302|        null|\n",
      "|    netport-7.iu.net|01/Jul/1995:21:10...|   GET|/shuttle/missions...|HTTP/1.0|   302|        null|\n",
      "|ppp201.interealm.com|01/Jul/1995:21:12...|   GET|/shuttle/countdow...|HTTP/1.0|   404|        null|\n",
      "|port-1-16.access....|01/Jul/1995:21:15...|   GET|            /history|HTTP/1.0|   302|        null|\n",
      "|  cs1-1.protocom.com|01/Jul/1995:21:16...|   GET|                /pub|HTTP/1.0|   404|        null|\n",
      "|  cs1-1.protocom.com|01/Jul/1995:21:16...|   GET|                /pub|HTTP/1.0|   404|        null|\n",
      "|ix-tam3-27.ix.net...|01/Jul/1995:21:18...|   GET|             /images|HTTP/1.0|   302|        null|\n",
      "|     viking.cris.com|01/Jul/1995:21:22...|   GET|  /shuttle/countdown|HTTP/1.0|   302|        null|\n",
      "|   baste.magibox.net|01/Jul/1995:21:22...|   GET|/persons/astronau...|HTTP/1.0|   404|        null|\n",
      "|   baste.magibox.net|01/Jul/1995:21:23...|   GET|/persons/astronau...|HTTP/1.0|   404|        null|\n",
      "|   baste.magibox.net|01/Jul/1995:21:23...|   GET|/persons/astronau...|HTTP/1.0|   404|        null|\n",
      "|    ml19.hargray.com|01/Jul/1995:21:23...|   GET|/shuttle/missions...|HTTP/1.0|   302|        null|\n",
      "|     viking.cris.com|01/Jul/1995:21:23...|   GET|/shuttle/resource...|HTTP/1.0|   404|        null|\n",
      "|     viking.cris.com|01/Jul/1995:21:24...|   GET|/people/nasa-cm/j...|HTTP/1.0|   404|        null|\n",
      "|   baste.magibox.net|01/Jul/1995:21:24...|   GET|/persons/astronau...|HTTP/1.0|   404|        null|\n",
      "|www-a1.proxy.aol.com|01/Jul/1995:21:24...|   GET|/shuttle/missions...|HTTP/1.0|   302|        null|\n",
      "|  palona1.cns.hp.com|01/Jul/1995:21:30...|   GET|/shuttle/missions...|HTTP/1.0|   302|        null|\n",
      "|     viking.cris.com|01/Jul/1995:21:31...|   GET|  /shuttle/countdown|HTTP/1.0|   302|        null|\n",
      "|www-d4.proxy.aol.com|01/Jul/1995:21:34...|   GET|/shuttle/missions...|HTTP/1.0|   404|        null|\n",
      "|www-d4.proxy.aol.com|01/Jul/1995:21:35...|   GET|/shuttle/missions...|HTTP/1.0|   404|        null|\n",
      "|ip097.phx.primene...|01/Jul/1995:21:35...|   GET|/pub/winvn/readme...|HTTP/1.0|   404|        null|\n",
      "|ip097.phx.primene...|01/Jul/1995:21:35...|   GET|/pub/winvn/releas...|HTTP/1.0|   404|        null|\n",
      "|ts01-ind-29.iques...|01/Jul/1995:21:37...|   GET|     /software/winvn|HTTP/1.0|   302|        null|\n",
      "|www-b5.proxy.aol.com|01/Jul/1995:21:39...|   GET|             /images|HTTP/1.0|   302|        null|\n",
      "|nb-dyna77.interac...|01/Jul/1995:21:41...|   GET|/pub/winvn/releas...|HTTP/1.0|   404|        null|\n",
      "|nb-dyna77.interac...|01/Jul/1995:21:41...|   GET|/pub/winvn/readme...|HTTP/1.0|   404|        null|\n",
      "|  s-cwis.unomaha.edu|01/Jul/1995:21:51...|   GET|             /images|HTTP/1.0|   302|        null|\n",
      "|muplus.hep.upenn.edu|01/Jul/1995:21:53...|   GET|/history/apollo/a...|HTTP/1.0|   302|        null|\n",
      "| gw_inet.pepboys.com|01/Jul/1995:21:59...|   GET|/shuttle/missions...|HTTP/1.0|   302|        null|\n",
      "|h-stephano.nr.inf...|01/Jul/1995:22:01...|   GET|/shuttle/missions...|HTTP/1.0|   302|        null|\n",
      "|     ddi.digital.net|01/Jul/1995:22:01...|   GET|  /shuttle/countdown|HTTP/1.0|   302|        null|\n",
      "|www-d4.proxy.aol.com|01/Jul/1995:22:08...|   GET|/shuttle/technolo...|HTTP/1.0|   404|        null|\n",
      "|corp-uu.infoseek.com|01/Jul/1995:22:12...|   GET|           /KSC.html|HTTP/1.0|   404|        null|\n",
      "|    hun4.ramlink.net|01/Jul/1995:22:12...|   GET|/://spacelink.msf...|HTTP/1.0|   404|        null|\n",
      "|      winnie.fit.edu|01/Jul/1995:22:13...|   GET|/persons/astronau...|HTTP/1.0|   404|        null|\n",
      "|port8.aixdialin.s...|01/Jul/1995:22:14...|   GET|          /elv/TITAN|HTTP/1.0|   302|        null|\n",
      "|port8.aixdialin.s...|01/Jul/1995:22:14...|   GET|          /elv/TITAN|HTTP/1.0|   302|        null|\n",
      "|    f-umbc9.umbc.edu|01/Jul/1995:22:18...|   GET|/history/apollo/p...|HTTP/1.0|   404|        null|\n",
      "|    f-umbc9.umbc.edu|01/Jul/1995:22:18...|   GET|/history/apollo/p...|HTTP/1.0|   404|        null|\n",
      "|     jaguar.uofs.edu|01/Jul/1995:22:19...|   GET|             /images|HTTP/1.0|   302|        null|\n",
      "|tonto-slip8.cis.b...|01/Jul/1995:22:21...|   GET|/pub/winvn/readme...|HTTP/1.0|   404|        null|\n",
      "|     ddi.digital.net|01/Jul/1995:22:21...|   GET|  /shuttle/countdown|HTTP/1.0|   302|        null|\n",
      "|xyplex1-1-19.inte...|01/Jul/1995:22:25...|   GET|/shuttle/missions...|HTTP/1.0|   302|        null|\n",
      "|tonto-slip8.cis.b...|01/Jul/1995:22:25...|   GET|/pub/winvn/readme...|HTTP/1.0|   404|        null|\n",
      "|   jeffspot.xnet.com|01/Jul/1995:22:34...|   GET|/shuttle/missions...|HTTP/1.0|   302|        null|\n",
      "| ppp032.st.rim.or.jp|01/Jul/1995:22:36...|   GET|/shuttle/resource...|HTTP/1.0|   404|        null|\n",
      "|        199.72.81.55|01/Jul/1995:22:38...|   GET|/://spacelink.msf...|HTTP/1.0|   404|        null|\n",
      "|port30.ventura.ra...|01/Jul/1995:22:43...|   GET|/shuttle/countdow...|HTTP/1.0|   404|        null|\n",
      "|deep_thought2.gul...|01/Jul/1995:22:44...|   GET|/shuttle/resource...|HTTP/1.0|   404|        null|\n",
      "|piweba1y.prodigy.com|01/Jul/1995:22:45...|   GET|/shuttle/missions...|HTTP/1.0|   302|        null|\n",
      "|www-b5.proxy.aol.com|01/Jul/1995:22:46...|   GET|/shuttle/missions...|HTTP/1.0|   302|        null|\n",
      "|       dal20.pic.net|01/Jul/1995:22:46...|   GET|/pub/winvn/releas...|HTTP/1.0|   404|        null|\n",
      "| line09.megatoon.com|01/Jul/1995:22:46...|   GET|/shuttle/resource...|HTTP/1.0|   404|        null|\n",
      "|       dal20.pic.net|01/Jul/1995:22:47...|   GET|/pub/winvn/releas...|HTTP/1.0|   404|        null|\n",
      "|       dal20.pic.net|01/Jul/1995:22:47...|   GET|/pub/winvn/readme...|HTTP/1.0|   404|        null|\n",
      "| line09.megatoon.com|01/Jul/1995:22:47...|   GET|/shuttle/resource...|HTTP/1.0|   404|        null|\n",
      "| line09.megatoon.com|01/Jul/1995:22:51...|   GET|        /shuttle/ntv|HTTP/1.0|   404|        null|\n",
      "|     fas.harvard.edu|01/Jul/1995:22:52...|   GET|             /images|HTTP/1.0|   302|        null|\n",
      "|ip120.phx.primene...|01/Jul/1995:22:52...|   GET|/shuttle/missions...|HTTP/1.0|   302|        null|\n",
      "|satch.microserve.com|01/Jul/1995:22:52...|   GET|/shuttle/missions...|HTTP/1.0|   302|        null|\n",
      "| netcom19.netcom.com|01/Jul/1995:22:56...|   GET|/shuttle/missions...|HTTP/1.0|   302|        null|\n",
      "|  grail906.nando.net|01/Jul/1995:22:59...|   GET|/shuttle/missions...|HTTP/1.0|   302|        null|\n",
      "|www-b1.proxy.aol.com|01/Jul/1995:23:02...|   GET|/shuttle/missions...|HTTP/1.0|   302|        null|\n",
      "|dialin-ttys3.sky.net|01/Jul/1995:23:02...|   GET|/shuttle/missions...|HTTP/1.0|   404|        null|\n",
      "|dialin-ttys3.sky.net|01/Jul/1995:23:03...|   GET|/shuttle/missions...|HTTP/1.0|   404|        null|\n",
      "|dialin-ttys3.sky.net|01/Jul/1995:23:03...|   GET|/shuttle/missions...|HTTP/1.0|   404|        null|\n",
      "|     dialup8.afn.org|01/Jul/1995:23:12...|   GET|            /shuttle|HTTP/1.0|   302|        null|\n",
      "|    ppp175.iadfw.net|01/Jul/1995:23:16...|   GET|            /history|HTTP/1.0|   302|        null|\n",
      "|miavx1.acs.muohio...|01/Jul/1995:23:22...|   GET|     /history/apollo|HTTP/1.0|   302|        null|\n",
      "|slip2-4.acs.ohio-...|01/Jul/1995:23:24...|   GET|/shuttle/missions...|HTTP/1.0|   302|        null|\n",
      "|ip201.vcv.primene...|01/Jul/1995:23:25...|   GET|/://spacelink.msf...|HTTP/1.0|   404|        null|\n",
      "|     port36.rain.org|01/Jul/1995:23:25...|   GET|             /images|HTTP/1.0|   302|        null|\n",
      "|www-b4.proxy.aol.com|01/Jul/1995:23:25...|   GET|             /images|HTTP/1.0|   302|        null|\n",
      "|ip201.vcv.primene...|01/Jul/1995:23:26...|   GET|/://spacelink.msf...|HTTP/1.0|   404|        null|\n",
      "|ix-akr-oh2-03.ix....|01/Jul/1995:23:33...|   GET|/shuttle/missions...|HTTP/1.0|   302|        null|\n",
      "|ix-li3-14.ix.netc...|01/Jul/1995:23:34...|   GET|/shuttle/missions...|HTTP/1.0|   302|        null|\n",
      "|coe1_ppp.eng.fsu.edu|01/Jul/1995:23:40...|   GET|/history/apollo/p...|HTTP/1.0|   404|        null|\n",
      "|www-b3.proxy.aol.com|01/Jul/1995:23:41...|   GET|/shuttle/mission/...|HTTP/1.0|   404|        null|\n",
      "|www-b3.proxy.aol.com|01/Jul/1995:23:41...|   GET|/shuttle/mission/...|HTTP/1.0|   404|        null|\n",
      "|www-b3.proxy.aol.com|01/Jul/1995:23:41...|   GET|/shuttle/mission/...|HTTP/1.0|   404|        null|\n",
      "|www-d2.proxy.aol.com|01/Jul/1995:23:43...|   GET|/shuttle/missions...|HTTP/1.0|   302|        null|\n",
      "|newglasgow-ts-12....|01/Jul/1995:23:44...|   GET|/history/apollo/a...|HTTP/1.0|   404|        null|\n",
      "|  proxy.iijnet.or.jp|01/Jul/1995:23:49...|   GET|  /shuttle/countdown|HTTP/1.0|   302|        null|\n",
      "|ts1-and-6.iquest.net|01/Jul/1995:23:50...|   GET|/software/winvn/v...|HTTP/1.0|   404|        null|\n",
      "|ts1-and-6.iquest.net|01/Jul/1995:23:51...|   GET|           /software|HTTP/1.0|   302|        null|\n",
      "|corp-uu.infoseek.com|01/Jul/1995:23:52...|   GET|/shuttle/technolo...|HTTP/1.0|   302|        null|\n",
      "|freenet.edmonton....|01/Jul/1995:23:56...|   GET|/pub/winvn/releas...|HTTP/1.0|   404|        null|\n",
      "|freenet.edmonton....|01/Jul/1995:23:56...|   GET|/pub/winvn/readme...|HTTP/1.0|   404|        null|\n",
      "|ix-dsm-ia1-20.ix....|01/Jul/1995:23:56...|   GET|/history/apollo/a...|HTTP/1.0|   302|        null|\n",
      "|piweba2y.prodigy.com|02/Jul/1995:00:01...|   GET|           /KSC.HTML|HTTP/1.0|   404|        null|\n",
      "|carober.illuminet...|02/Jul/1995:00:01...|   GET|/history/apollo/p...|HTTP/1.0|   404|        null|\n",
      "| buckbrgr.inmind.com|02/Jul/1995:00:02...|   GET|/shuttle/missions...|HTTP/1.0|   302|        null|\n",
      "|piweba2y.prodigy.com|02/Jul/1995:00:02...|   GET|               /KSC.|HTTP/1.0|   404|        null|\n",
      "|www-d1.proxy.aol.com|02/Jul/1995:00:02...|   GET|             /images|HTTP/1.0|   302|        null|\n",
      "|    dialup03.utm.edu|02/Jul/1995:00:03...|   GET|/shuttle/missions...|HTTP/1.0|   302|        null|\n",
      "|www-b2.proxy.aol.com|02/Jul/1995:00:04...|   GET|/shuttle/missions...|HTTP/1.0|   302|        null|\n",
      "|freenet.edmonton....|02/Jul/1995:00:09...|   GET|/pub/winvn/readme...|HTTP/1.0|   404|        null|\n",
      "|ip16-004.phx.prim...|02/Jul/1995:00:10...|   GET|/shuttle/missions...|HTTP/1.0|   302|        null|\n",
      "|     maui34.maui.net|02/Jul/1995:00:10...|   GET|/shuttle/missions...|HTTP/1.0|   302|        null|\n",
      "|carober.illuminet...|02/Jul/1995:00:11...|   GET|     /history/apollo|HTTP/1.0|   302|        null|\n",
      "|www-a1.proxy.aol.com|02/Jul/1995:00:14...|   GET|             /images|HTTP/1.0|   302|        null|\n",
      "|www-d1.proxy.aol.com|02/Jul/1995:00:23...|   GET|/:/spacelink.msfc...|HTTP/1.0|   404|        null|\n",
      "|  slip20.noc.unam.mx|02/Jul/1995:00:23...|   GET|/shuttle/missions...|HTTP/1.0|   302|        null|\n",
      "|slip5-77.fl.us.ib...|02/Jul/1995:00:27...|   GET|             /images|HTTP/1.0|   302|        null|\n",
      "|    isnet.is.wfu.edu|02/Jul/1995:00:28...|   GET|/shuttle/missions...|HTTP/1.0|   302|        null|\n",
      "|www-b1.proxy.aol.com|02/Jul/1995:00:29...|   GET|/persons/astronau...|HTTP/1.0|   404|        null|\n",
      "|www-b1.proxy.aol.com|02/Jul/1995:00:29...|   GET|/persons/astronau...|HTTP/1.0|   404|        null|\n",
      "|lanrover-tis-1-po...|02/Jul/1995:00:30...|   GET|/shuttle/missions...|HTTP/1.0|   302|        null|\n",
      "|www-b1.proxy.aol.com|02/Jul/1995:00:30...|   GET|/persons/astronau...|HTTP/1.0|   404|        null|\n",
      "|www-b1.proxy.aol.com|02/Jul/1995:00:30...|   GET|/history.history....|HTTP/1.0|   404|        null|\n",
      "|www-b1.proxy.aol.com|02/Jul/1995:00:30...|   GET|/persons/astronau...|HTTP/1.0|   404|        null|\n",
      "|www-b1.proxy.aol.com|02/Jul/1995:00:30...|   GET|/persons/astronau...|HTTP/1.0|   404|        null|\n",
      "|www-b1.proxy.aol.com|02/Jul/1995:00:30...|   GET|/persons/astronau...|HTTP/1.0|   404|        null|\n",
      "|     205.197.108.240|02/Jul/1995:00:34...|   GET|/shuttle/missions...|HTTP/1.0|   404|        null|\n",
      "|    n11_110.shsu.edu|02/Jul/1995:00:35...|   GET|/shuttle/missions...|HTTP/1.0|   302|        null|\n",
      "|ad02-033.compuser...|02/Jul/1995:00:37...|   GET|/shuttle/missions...|HTTP/1.0|   302|        null|\n",
      "|dd10-002.compuser...|02/Jul/1995:00:39...|   GET|/shuttle/missions...|HTTP/1.0|   302|        null|\n",
      "|     ava.wisenet.com|02/Jul/1995:00:40...|   GET|/shuttle/missions...|HTTP/1.0|   302|        null|\n",
      "|corp-uu.infoseek.com|02/Jul/1995:00:42...|   GET|/facts/announce.html|HTTP/1.0|   404|        null|\n",
      "|rd-p5.supernet.ab.ca|02/Jul/1995:00:44...|   GET|/shuttle/missions...|HTTP/1.0|   302|        null|\n",
      "|ix-bos6-12.ix.net...|02/Jul/1995:00:44...|   GET|/shuttle/missions...|HTTP/1.0|   404|        null|\n",
      "|    s20.slip.ksu.edu|02/Jul/1995:00:47...|   GET|/shuttle/missions...|HTTP/1.0|   302|        null|\n",
      "|      gn2.getnet.com|02/Jul/1995:00:54...|   GET|             /images|HTTP/1.0|   302|        null|\n",
      "|pc0135.metrolink.net|02/Jul/1995:00:55...|   GET|/shuttle/missions...|HTTP/1.0|   403|        null|\n",
      "|compware.phx.net9...|02/Jul/1995:00:55...|   GET|/shuttle/missions...|HTTP/1.0|   302|        null|\n",
      "|ad03-016.compuser...|02/Jul/1995:00:56...|   GET|  /kscpao/kscpao.htm|HTTP/1.0|   404|        null|\n",
      "|ad03-016.compuser...|02/Jul/1995:00:56...|   GET|  /kscpao/kscpao.htm|HTTP/1.0|   404|        null|\n",
      "|ad03-016.compuser...|02/Jul/1995:00:56...|   GET|  /kscpao/kscpao.htm|HTTP/1.0|   404|        null|\n",
      "|dialin-10.connexu...|02/Jul/1995:00:58...|   GET|/shuttle/missions...|HTTP/1.0|   302|        null|\n",
      "|        ppp9.usd.edu|02/Jul/1995:00:58...|   GET|      /shuttle/orbit|HTTP/1.0|   404|        null|\n",
      "|       204.134.97.43|02/Jul/1995:01:00...|   GET|/shuttle/resource...|HTTP/1.0|   404|        null|\n",
      "|www-d4.proxy.aol.com|02/Jul/1995:01:03...|   GET|/shuttle/missions...|HTTP/1.0|   302|        null|\n",
      "|ad03-016.compuser...|02/Jul/1995:01:04...|   GET|  /kscpao/kscpao.htm|HTTP/1.0|   404|        null|\n",
      "|www-d4.proxy.aol.com|02/Jul/1995:01:23...|   GET|/shuttle/missions...|HTTP/1.0|   302|        null|\n",
      "|piweba1y.prodigy.com|02/Jul/1995:01:24...|   GET|/suttle/missions/...|HTTP/1.0|   404|        null|\n",
      "|binder.std.terady...|02/Jul/1995:01:24...|   GET|/shuttle/missions...|HTTP/1.0|   302|        null|\n",
      "|        ppp9.usd.edu|02/Jul/1995:01:25...|   GET|/shuttle/missions...|HTTP/1.0|   404|        null|\n",
      "|piweba1y.prodigy.com|02/Jul/1995:01:25...|   GET|/suttle/missions/...|HTTP/1.0|   404|        null|\n",
      "|reinecke.ks.eunet.de|02/Jul/1995:01:26...|   GET|/shuttle/missions...|HTTP/1.0|   302|        null|\n",
      "|  ncg-92.axionet.com|02/Jul/1995:01:27...|   GET|/shuttle/missions...|HTTP/1.0|   302|        null|\n",
      "|www-d1.proxy.aol.com|02/Jul/1995:01:31...|   GET|             /images|HTTP/1.0|   302|        null|\n",
      "|        ppp9.usd.edu|02/Jul/1995:01:31...|   GET|/shuttle/missions...|HTTP/1.0|   404|        null|\n",
      "|  ncg-92.axionet.com|02/Jul/1995:01:37...|   GET|/shuttle/missions...|HTTP/1.0|   302|        null|\n",
      "| netcom18.netcom.com|02/Jul/1995:01:42...|   GET|  /shuttle/countdown|HTTP/1.0|   302|        null|\n",
      "|    wpch9.csr.com.au|02/Jul/1995:01:43...|   GET|/shuttle/missions...|HTTP/1.0|   302|        null|\n",
      "|cad190.cadvision.com|02/Jul/1995:01:44...|   GET|/pub/winvn/readme...|HTTP/1.0|   404|        null|\n",
      "|cad190.cadvision.com|02/Jul/1995:01:44...|   GET|/pub/winvn/releas...|HTTP/1.0|   404|        null|\n",
      "|www-d3.proxy.aol.com|02/Jul/1995:01:45...|   GET|             /images|HTTP/1.0|   302|        null|\n",
      "|www-d4.proxy.aol.com|02/Jul/1995:01:45...|   GET|/shuttle/missions...|HTTP/1.0|   302|        null|\n",
      "|        nznet.gen.nz|02/Jul/1995:01:48...|   GET|  /shuttle/countdown|HTTP/1.0|   302|        null|\n",
      "|  pm2_15.digital.net|02/Jul/1995:01:49...|   GET|/shuttle/missions...|HTTP/1.0|   302|        null|\n",
      "|kuts12p01.cc.ukan...|02/Jul/1995:01:51...|   GET|/history/apollo/p...|HTTP/1.0|   404|        null|\n",
      "|ip110.new-york.ny...|02/Jul/1995:01:52...|   GET|/shuttle/missions...|HTTP/1.0|   302|        null|\n",
      "|blv-pm2-ip8.halcy...|02/Jul/1995:01:52...|   GET|/persons/astronau...|HTTP/1.0|   404|        null|\n",
      "|www-d2.proxy.aol.com|02/Jul/1995:01:52...|   GET|/shuttle/missions...|HTTP/1.0|   302|        null|\n",
      "|blv-pm2-ip8.halcy...|02/Jul/1995:01:52...|   GET| /persons/astronauts|HTTP/1.0|   302|        null|\n",
      "|ad13-006.compuser...|02/Jul/1995:01:52...|   GET|/pub/winvn/readme...|HTTP/1.0|   404|        null|\n",
      "|   j09.kl3.jaring.my|02/Jul/1995:01:55...|   GET|/shuttle/missions...|HTTP/1.0|   302|        null|\n",
      "|blv-pm2-ip8.halcy...|02/Jul/1995:01:56...|   GET|/persons/astronau...|HTTP/1.0|   404|        null|\n",
      "|blv-pm2-ip8.halcy...|02/Jul/1995:01:56...|   GET|/persons/astronau...|HTTP/1.0|   404|        null|\n",
      "|blv-pm2-ip8.halcy...|02/Jul/1995:01:56...|   GET|/persons/astronau...|HTTP/1.0|   404|        null|\n",
      "|blv-pm2-ip8.halcy...|02/Jul/1995:01:57...|   GET|     /history/gemini|HTTP/1.0|   302|        null|\n",
      "|philly11.voicenet...|02/Jul/1995:01:58...|   GET|/shuttle/technolo...|HTTP/1.0|   404|        null|\n",
      "|dialup794.losange...|02/Jul/1995:02:02...|   GET|  /shuttle/countdown|HTTP/1.0|   302|        null|\n",
      "|   dyn-267.direct.ca|02/Jul/1995:02:04...|   GET|/shuttle/missions...|HTTP/1.0|   302|        null|\n",
      "|philly11.voicenet...|02/Jul/1995:02:04...|   GET|/shuttle/missions...|HTTP/1.0|   302|        null|\n",
      "|line068.nwm.mindl...|02/Jul/1995:02:05...|   GET|                /ksc|HTTP/1.0|   404|        null|\n",
      "|line068.nwm.mindl...|02/Jul/1995:02:05...|   GET|               /html|HTTP/1.0|   404|        null|\n",
      "|line068.nwm.mindl...|02/Jul/1995:02:06...|   GET|                /ksc|HTTP/1.0|   404|        null|\n",
      "|  netcom3.netcom.com|02/Jul/1995:02:08...|   GET|/shuttle/missions...|HTTP/1.0|   302|        null|\n",
      "|philly11.voicenet...|02/Jul/1995:02:10...|   GET|            /sounds/|HTTP/1.0|   404|        null|\n",
      "|www-b1.proxy.aol.com|02/Jul/1995:02:10...|   GET|/shuttle/missions...|HTTP/1.0|   302|        null|\n",
      "|www-d4.proxy.aol.com|02/Jul/1995:02:13...|   GET|/shuttle/missions...|HTTP/1.0|   302|        null|\n",
      "|ip197.sna.primene...|02/Jul/1995:02:18...|   GET|/shuttle/missions...|HTTP/1.0|   302|        null|\n",
      "|aragorn191.acns.n...|02/Jul/1995:02:22...|   GET|/shuttle/missions...|HTTP/1.0|   302|        null|\n",
      "|aragorn191.acns.n...|02/Jul/1995:02:22...|   GET|/shuttle/missions...|HTTP/1.0|   302|        null|\n",
      "|     ntc.noranda.com|02/Jul/1995:02:24...|   GET|/shuttle/missions...|HTTP/1.0|   302|        null|\n",
      "|dd11-028.compuser...|02/Jul/1995:02:25...|   GET|/shuttle/missions...|HTTP/1.0|   302|        null|\n",
      "|ad02-013.compuser...|02/Jul/1995:02:27...|   GET|/shuttle/missions...|HTTP/1.0|   302|        null|\n",
      "|   chaos.idirect.com|02/Jul/1995:02:31...|   GET|/pub/winvn/readme...|HTTP/1.0|   404|        null|\n",
      "|   chaos.idirect.com|02/Jul/1995:02:32...|   GET|/pub/winvn/releas...|HTTP/1.0|   404|        null|\n",
      "|    ts10.wiu.bgu.edu|02/Jul/1995:02:32...|   GET|/shuttle/missions...|HTTP/1.0|   302|        null|\n",
      "|       198.168.48.46|02/Jul/1995:02:38...|   GET|/shuttle/missions...|HTTP/1.0|   302|        null|\n",
      "|ad11-009.compuser...|02/Jul/1995:02:42...|   GET|/shuttle/missions...|HTTP/1.0|   302|        null|\n",
      "|du1-async-68.nmsu...|02/Jul/1995:02:48...|   GET|/shuttle/resource...|HTTP/1.0|   404|        null|\n",
      "|blv-pm2-ip28.halc...|02/Jul/1995:02:54...|   GET|             /images|HTTP/1.0|   302|        null|\n",
      "|du1-async-68.nmsu...|02/Jul/1995:02:56...|   GET|/shuttle/resource...|HTTP/1.0|   404|        null|\n",
      "| doheny.ultranet.com|02/Jul/1995:02:59...|   GET|/shuttle/missions...|HTTP/1.0|   302|        null|\n",
      "|       204.94.52.194|02/Jul/1995:03:00...|   GET|/shuttle/missions...|HTTP/1.0|   302|        null|\n",
      "|dd04-021.compuser...|02/Jul/1995:03:00...|   GET|/shuttle/missions...|HTTP/1.0|   302|        null|\n",
      "|     chopin.udel.edu|02/Jul/1995:03:03...|   GET|             /images|HTTP/1.0|   302|        null|\n",
      "|svasu.extern.ucsd...|02/Jul/1995:03:09...|   GET|/shuttle/resource...|HTTP/1.0|   404|        null|\n",
      "|        nic.smsu.edu|02/Jul/1995:03:12...|   GET|/shuttle/missions...|HTTP/1.0|   302|        null|\n",
      "|ubppp-06.ppp-net....|02/Jul/1995:03:19...|   GET|             /images|HTTP/1.0|   302|        null|\n",
      "|fts4p11-bfs.scri....|02/Jul/1995:03:22...|   GET|/shuttle/missions...|HTTP/1.0|   302|        null|\n",
      "|gdenh.ozonline.co...|02/Jul/1995:03:24...|   GET|/shuttle/missions...|HTTP/1.0|   302|        null|\n",
      "|fts4p11-bfs.scri....|02/Jul/1995:03:26...|   GET|/shuttle/missions...|HTTP/1.0|   302|        null|\n",
      "|fts4p11-bfs.scri....|02/Jul/1995:03:28...|   GET|/shuttle/missions...|HTTP/1.0|   302|        null|\n",
      "|host62.ascend.int...|02/Jul/1995:03:31...|   GET|/shuttle/missions...|HTTP/1.0|   302|        null|\n",
      "|ppp3_085.bekkoame...|02/Jul/1995:03:32...|   GET|     /history/apollo|HTTP/1.0|   302|        null|\n",
      "|     dyna-18.bart.nl|02/Jul/1995:03:37...|   GET|/pub/winvn/readme...|HTTP/1.0|   404|        null|\n",
      "|     dyna-18.bart.nl|02/Jul/1995:03:37...|   GET|/pub/winvn/releas...|HTTP/1.0|   404|        null|\n",
      "|www-b2.proxy.aol.com|02/Jul/1995:03:42...|   GET|/shuttle/technolo...|HTTP/1.0|   404|        null|\n",
      "|vector.wantree.co...|02/Jul/1995:03:52...|   GET|/shuttle/resource...|HTTP/1.0|   404|        null|\n",
      "|        193.87.47.66|02/Jul/1995:03:57...|   GET|/shuttle/missions...|HTTP/1.0|   302|        null|\n",
      "|      204.119.59.130|02/Jul/1995:03:59...|   GET|/pub/winvn/releas...|HTTP/1.0|   404|        null|\n",
      "|      204.119.59.130|02/Jul/1995:03:59...|   GET|/pub/winvn/readme...|HTTP/1.0|   404|        null|\n",
      "|slper1p09.ozemail...|02/Jul/1995:04:11...|   GET|/shuttle/missions...|HTTP/1.0|   302|        null|\n",
      "|      www.usq.edu.au|02/Jul/1995:04:12...|   GET|             /images|HTTP/1.0|   302|        null|\n",
      "|tyee.extern.ucsd.edu|02/Jul/1995:04:16...|   GET|/shuttle/missions...|HTTP/1.0|   302|        null|\n",
      "|      cs3-27.ior.com|02/Jul/1995:04:17...|   GET|/history/apollo/p...|HTTP/1.0|   404|        null|\n",
      "|     stat11.hacom.nl|02/Jul/1995:04:19...|   GET|         /images/NAS|HTTP/1.0|   404|        null|\n",
      "|asd05-07.dial.xs4...|02/Jul/1995:04:19...|   GET|             /images|HTTP/1.0|   302|        null|\n",
      "|holly.risc.uni-li...|02/Jul/1995:04:28...|   GET|/shuttle/missions...|HTTP/1.0|   302|        null|\n",
      "|asd05-07.dial.xs4...|02/Jul/1995:04:37...|   GET|             /images|HTTP/1.0|   302|        null|\n",
      "|ad08-038.compuser...|02/Jul/1995:04:50...|   GET|/shuttle/missions...|HTTP/1.0|   302|        null|\n",
      "|        nic.inbe.net|02/Jul/1995:04:52...|   GET|  /shuttle/countdown|HTTP/1.0|   302|        null|\n",
      "|         165.21.6.68|02/Jul/1995:04:54...|   GET|/shuttle/missions...|HTTP/1.0|   302|        null|\n",
      "|amsterdam-ppp4.kn...|02/Jul/1995:04:57...|   GET|/shuttle/missions...|HTTP/1.0|   302|        null|\n",
      "|lkf0178.deltanet.com|02/Jul/1995:05:00...|   GET|             /images|HTTP/1.0|   302|        null|\n",
      "|pm69-52.smartlink...|02/Jul/1995:05:06...|   GET|/shuttle/technolo...|HTTP/1.0|   404|        null|\n",
      "|     dyna-24.bart.nl|02/Jul/1995:05:11...|   GET|/pub/winvn/readme...|HTTP/1.0|   404|        null|\n",
      "|  eve-2b.adam.com.au|02/Jul/1995:05:15...|   GET|/shuttle/missions...|HTTP/1.0|   302|        null|\n",
      "|corp-uu.infoseek.com|02/Jul/1995:05:17...|   GET|/shuttle/technolo...|HTTP/1.0|   404|        null|\n",
      "| supreme.pcug.org.au|02/Jul/1995:05:19...|   GET|/shuttle/missions...|HTTP/1.0|   302|        null|\n",
      "|         odegard.com|02/Jul/1995:05:21...|   GET|/shuttle/missions...|HTTP/1.0|   302|        null|\n",
      "|dialup97-107.swip...|02/Jul/1995:05:24...|   GET|/shuttle/missions...|HTTP/1.0|   302|        null|\n",
      "|sun14.mpia-hd.mpg.de|02/Jul/1995:05:27...|   GET|/shuttle/missions...|HTTP/1.0|   302|        null|\n",
      "|www-relay.pa-x.de...|02/Jul/1995:05:27...|   GET|/shuttle/missions...|HTTP/1.0|   302|        null|\n",
      "|dialup97-107.swip...|02/Jul/1995:05:33...|   GET|/shuttle/missions...|HTTP/1.0|   302|        null|\n",
      "|dialup96-040.swip...|02/Jul/1995:05:37...|   GET|/shuttle/missions...|HTTP/1.0|   302|        null|\n",
      "|crux.izmiran.rssi.ru|02/Jul/1995:05:38...|   GET|/shuttle/missions...|HTTP/1.0|   302|        null|\n",
      "|ip155.tus.primene...|02/Jul/1995:05:39...|   GET|/shuttle/missions...|HTTP/1.0|   302|        null|\n",
      "|dialup96-070.swip...|02/Jul/1995:05:47...|   GET|/shuttle/missions...|HTTP/1.0|   302|        null|\n",
      "|  alyssa.prodigy.com|02/Jul/1995:05:48...|   GET|/shuttle/missions...|HTTP/1.0|   302|        null|\n",
      "|    igcmac17.epfl.ch|02/Jul/1995:05:53...|   GET|             /images|HTTP/1.0|   302|        null|\n",
      "|ix-bal1-21.ix.net...|02/Jul/1995:05:59...|   GET|  /shuttle/countdown|HTTP/1.0|   302|        null|\n",
      "|dd12-008.compuser...|02/Jul/1995:06:01...|   GET|/images/crawlerwa...|HTTP/1.0|   404|        null|\n",
      "|dd12-008.compuser...|02/Jul/1995:06:02...|   GET|/images/crawlerwa...|HTTP/1.0|   404|        null|\n",
      "|dialup778.losange...|02/Jul/1995:06:02...|   GET|             /images|HTTP/1.0|   302|        null|\n",
      "|     kaisa.it.lut.fi|02/Jul/1995:06:08...|   GET|            /shuttle|HTTP/1.0|   302|        null|\n",
      "|     129.132.151.101|02/Jul/1995:06:17...|   GET|/shuttle/missions...|HTTP/1.0|   302|        null|\n",
      "|metabelis.rmit.ed...|02/Jul/1995:06:35...|   GET|             /images|HTTP/1.0|   302|        null|\n",
      "|      magmab.vpro.nl|02/Jul/1995:06:36...|   GET|/shuttle/missions...|HTTP/1.0|   302|        null|\n",
      "| nettime2.nettime.se|02/Jul/1995:06:36...|   GET|     /pub/win3/winvn|HTTP/1.0|   404|        null|\n",
      "| nettime2.nettime.se|02/Jul/1995:06:36...|   GET|          /pub/win3/|HTTP/1.0|   404|        null|\n",
      "| nettime2.nettime.se|02/Jul/1995:06:37...|   GET|           /pub/win3|HTTP/1.0|   404|        null|\n",
      "| nettime2.nettime.se|02/Jul/1995:06:37...|   GET|                /pub|HTTP/1.0|   404|        null|\n",
      "| nettime2.nettime.se|02/Jul/1995:06:39...|   GET|                /pub|HTTP/1.0|   404|        null|\n",
      "|   scfb30.ioi.tue.nl|02/Jul/1995:06:42...|   GET|         /index.html|HTTP/1.0|   404|        null|\n",
      "|www-b4.proxy.aol.com|02/Jul/1995:06:51...|   GET|/history/apollo/a...|HTTP/1.0|   404|        null|\n",
      "|www-b4.proxy.aol.com|02/Jul/1995:06:51...|   GET|/history/apollo/a...|HTTP/1.0|   404|        null|\n",
      "|   atair.bb.bawue.de|02/Jul/1995:07:01...|   GET|/shuttle/missions...|HTTP/1.0|   302|        null|\n",
      "|    dial1.waterw.com|02/Jul/1995:07:07...|   GET|/pub/winvn/readme...|HTTP/1.0|   404|        null|\n",
      "|    dial1.waterw.com|02/Jul/1995:07:08...|   GET|/pub/winvn/releas...|HTTP/1.0|   404|        null|\n",
      "|      www.usq.edu.au|02/Jul/1995:07:11...|   GET|             /images|HTTP/1.0|   302|        null|\n",
      "|      151.99.247.115|02/Jul/1995:07:13...|   GET|/shuttle/resource...|HTTP/1.0|   404|        null|\n",
      "|       202.66.32.138|02/Jul/1995:07:15...|   GET|            /shuttle|HTTP/1.0|   302|        null|\n",
      "|www-relay.pa-x.de...|02/Jul/1995:07:16...|   GET|             /images|HTTP/1.0|   302|        null|\n",
      "|    morgon.csemne.ch|02/Jul/1995:07:17...|   GET|/shuttle/missions...|HTTP/1.0|   302|        null|\n",
      "|       ping1.ping.be|02/Jul/1995:07:29...|   GET|/shuttle/missions...|HTTP/1.0|   302|        null|\n",
      "| reggae.iinet.net.au|02/Jul/1995:07:33...|   GET|/shuttle/missions...|HTTP/1.0|   302|        null|\n",
      "|metabelis.rmit.ed...|02/Jul/1995:07:39...|   GET|             /images|HTTP/1.0|   302|        null|\n",
      "|  wpo.telstra.com.au|02/Jul/1995:07:42...|   GET|/pub/winvn/releas...|HTTP/1.0|   404|        null|\n",
      "|  wpo.telstra.com.au|02/Jul/1995:07:42...|   GET|/pub/winvn/readme...|HTTP/1.0|   404|        null|\n",
      "|dd13-035.compuser...|02/Jul/1995:07:48...|   GET|/shuttle/resource...|HTTP/1.0|   404|        null|\n",
      "| reggae.iinet.net.au|02/Jul/1995:07:52...|   GET|/shuttle/missions...|HTTP/1.0|   302|        null|\n",
      "|        193.4.162.25|02/Jul/1995:07:56...|   GET|/://spacelink.msf...|HTTP/1.0|   404|        null|\n",
      "| ppp-217.msilink.com|02/Jul/1995:07:56...|   GET|/shuttle/missions...|HTTP/1.0|   302|        null|\n",
      "|      info.htl-bw.ch|02/Jul/1995:07:57...|   GET|/shuttle/missions...|HTTP/1.0|   404|        null|\n",
      "|ac_anx_1_1.mur.cs...|02/Jul/1995:07:59...|   GET|/shuttle/missions...|HTTP/1.0|   302|        null|\n",
      "|    ppp193.aix.or.jp|02/Jul/1995:08:07...|   GET|/shuttle/resource...|HTTP/1.0|   404|        null|\n",
      "|     pc434.sckcen.be|02/Jul/1995:08:14...|   GET|/shuttle/missions...|HTTP/1.0|   302|        null|\n",
      "|ad05-034.compuser...|02/Jul/1995:08:16...|   GET|/shuttle/missions...|HTTP/1.0|   302|        null|\n",
      "|ffong-sl.cc.emory...|02/Jul/1995:08:52...|   GET|/history/apollo/s...|HTTP/1.0|   404|        null|\n",
      "|ffong-sl.cc.emory...|02/Jul/1995:08:52...|   GET|/history/apollo/s...|HTTP/1.0|   404|        null|\n",
      "|ffong-sl.cc.emory...|02/Jul/1995:08:52...|   GET|/history/apollo/s...|HTTP/1.0|   404|        null|\n",
      "|ffong-sl.cc.emory...|02/Jul/1995:08:52...|   GET|/history/apollo/s...|HTTP/1.0|   404|        null|\n",
      "|ffong-sl.cc.emory...|02/Jul/1995:08:52...|   GET|/history/apollo/s...|HTTP/1.0|   404|        null|\n",
      "|ffong-sl.cc.emory...|02/Jul/1995:08:52...|   GET|/history/apollo/s...|HTTP/1.0|   404|        null|\n",
      "|ffong-sl.cc.emory...|02/Jul/1995:08:52...|   GET|/history/apollo/s...|HTTP/1.0|   404|        null|\n",
      "|ffong-sl.cc.emory...|02/Jul/1995:08:52...|   GET|/history/apollo/s...|HTTP/1.0|   404|        null|\n",
      "|ffong-sl.cc.emory...|02/Jul/1995:08:52...|   GET|/history/apollo/s...|HTTP/1.0|   404|        null|\n",
      "|ffong-sl.cc.emory...|02/Jul/1995:08:52...|   GET|/history/apollo/s...|HTTP/1.0|   404|        null|\n",
      "|ffong-sl.cc.emory...|02/Jul/1995:08:52...|   GET|/history/apollo/s...|HTTP/1.0|   404|        null|\n",
      "|ffong-sl.cc.emory...|02/Jul/1995:08:53...|   GET|/history/apollo/s...|HTTP/1.0|   404|        null|\n",
      "|ffong-sl.cc.emory...|02/Jul/1995:08:53...|   GET|/history/apollo/s...|HTTP/1.0|   404|        null|\n",
      "|ffong-sl.cc.emory...|02/Jul/1995:08:53...|   GET|/history/apollo/s...|HTTP/1.0|   404|        null|\n",
      "|ffong-sl.cc.emory...|02/Jul/1995:08:53...|   GET|/history/apollo/s...|HTTP/1.0|   404|        null|\n",
      "|ix-dsm-ia1-01.ix....|02/Jul/1995:08:57...|   GET|/history/apollo/a...|HTTP/1.0|   302|        null|\n",
      "|     pc434.sckcen.be|02/Jul/1995:08:59...|   GET|/shuttle/missions...|HTTP/1.0|   302|        null|\n",
      "|ix-la12-01.ix.net...|02/Jul/1995:09:05...|   GET|/history/apollo/a...|HTTP/1.0|   404|        null|\n",
      "|ix-la12-01.ix.net...|02/Jul/1995:09:05...|   GET|/history/apollo/a...|HTTP/1.0|   404|        null|\n",
      "|ix-la12-01.ix.net...|02/Jul/1995:09:05...|   GET|/history/apollo/a...|HTTP/1.0|   404|        null|\n",
      "|ix-la12-01.ix.net...|02/Jul/1995:09:07...|   GET|/history/apollo/a...|HTTP/1.0|   404|        null|\n",
      "|     gcg.tran.wau.nl|02/Jul/1995:09:10...|   GET|/shuttle/missions...|HTTP/1.0|   302|        null|\n",
      "|      166.32.190.134|02/Jul/1995:09:17...|   GET|/history/apollo/p...|HTTP/1.0|   404|        null|\n",
      "|ad03-031.compuser...|02/Jul/1995:09:20...|   GET|/shuttle/missions...|HTTP/1.0|   302|        null|\n",
      "|  gate.chips.ibm.com|02/Jul/1995:09:31...|   GET|  /shuttle/countdown|HTTP/1.0|   302|        null|\n",
      "|www-a1.proxy.aol.com|02/Jul/1995:09:34...|   GET|/shuttle/missions...|HTTP/1.0|   302|        null|\n",
      "|www-b1.proxy.aol.com|02/Jul/1995:09:38...|   GET|       /history.html|HTTP/1.0|   404|        null|\n",
      "|    ip043230.iac.net|02/Jul/1995:09:38...|   GET|/shuttle/missions...|HTTP/1.0|   302|        null|\n",
      "|  enigma.idirect.com|02/Jul/1995:09:38...|   GET|/pub/winvn/readme...|HTTP/1.0|   404|        null|\n",
      "|  enigma.idirect.com|02/Jul/1995:09:39...|   GET|/pub/winvn/releas...|HTTP/1.0|   404|        null|\n",
      "|  enigma.idirect.com|02/Jul/1995:09:39...|   GET|/pub/winvn/releas...|HTTP/1.0|   404|        null|\n",
      "|     port120.mhv.net|02/Jul/1995:09:39...|   GET|/shuttle/missions...|HTTP/1.0|   302|        null|\n",
      "|ad04-022.compuser...|02/Jul/1995:09:43...|   GET|/shuttle/missions...|HTTP/1.0|   302|        null|\n",
      "|      202.248.44.130|02/Jul/1995:09:46...|   GET|/shuttle/missions...|HTTP/1.0|   404|        null|\n",
      "|   troll.vestnett.no|02/Jul/1995:09:47...|   GET|/shuttle/resource...|HTTP/1.0|   404|        null|\n",
      "|ad02-002.compuser...|02/Jul/1995:09:49...|   GET|   /LDAR/LDARhp.html|HTTP/1.0|   404|        null|\n",
      "|ad02-002.compuser...|02/Jul/1995:09:49...|   GET|   /LDAR/LDARhp.html|HTTP/1.0|   404|        null|\n",
      "| www.switzerland.net|02/Jul/1995:09:50...|   GET|/shuttle/missions...|HTTP/1.0|   302|        null|\n",
      "|dial-224.locm.dia...|02/Jul/1995:09:52...|   GET|/shuttle/missions...|HTTP/1.0|   302|        null|\n",
      "|      fixra.tiac.net|02/Jul/1995:09:54...|   GET|/shuttle/missions...|HTTP/1.0|   302|        null|\n",
      "|      fixra.tiac.net|02/Jul/1995:09:55...|   GET|   /shuttle/missions|HTTP/1.0|   302|        null|\n",
      "|   pasyn-30.rice.edu|02/Jul/1995:09:55...|   GET|           /jsc.html|HTTP/1.0|   404|        null|\n",
      "|      fixra.tiac.net|02/Jul/1995:09:56...|   GET|/shuttle/missions...|HTTP/1.0|   302|        null|\n",
      "|      magma1.vpro.nl|02/Jul/1995:09:57...|   GET|/shuttle/missions...|HTTP/1.0|   302|        null|\n",
      "|async13.spherenet...|02/Jul/1995:10:01...|   GET|/shuttle/missions...|HTTP/1.0|   404|        null|\n",
      "|async13.spherenet...|02/Jul/1995:10:01...|   GET|/shuttle/missions...|HTTP/1.0|   404|        null|\n",
      "|suttner.uchicago.edu|02/Jul/1995:10:04...|   GET|/shuttle/missions...|HTTP/1.0|   302|        null|\n",
      "|  alyssa.prodigy.com|02/Jul/1995:10:05...|   GET|/shuttle/missions...|HTTP/1.0|   404|        null|\n",
      "|ad04-017.compuser...|02/Jul/1995:10:07...|   GET|/shuttle/missions...|HTTP/1.0|   404|        null|\n",
      "|advantis.vnet.ibm...|02/Jul/1995:10:30...|   GET|/shuttle/missions...|HTTP/1.0|   302|        null|\n",
      "|dd13-026.compuser...|02/Jul/1995:10:30...|   GET|/shuttle/missions...|HTTP/1.0|   404|        null|\n",
      "|  smsbpc4.nmsi.ac.uk|02/Jul/1995:10:36...|   GET|/shuttle/missions...|HTTP/1.0|   302|        null|\n",
      "|dd15-046.compuser...|02/Jul/1995:10:41...|   GET|/shuttle/missions...|HTTP/1.0|   302|        null|\n",
      "|        ams50.pi.net|02/Jul/1995:10:44...|   GET|  /shuttle/countdown|HTTP/1.0|   302|        null|\n",
      "|dd03-045.compuser...|02/Jul/1995:10:45...|   GET|/shuttle/missions...|HTTP/1.0|   302|        null|\n",
      "|     pm2d18.iaehv.nl|02/Jul/1995:10:45...|   GET|          /pub/win3/|HTTP/1.0|   404|        null|\n",
      "|     pm2d18.iaehv.nl|02/Jul/1995:10:47...|   GET|           /pub/win3|HTTP/1.0|   404|        null|\n",
      "|      165.113.187.65|02/Jul/1995:10:51...|   GET|             /images|HTTP/1.0|   302|        null|\n",
      "|dd09-032.compuser...|02/Jul/1995:10:52...|   GET|  /shuttle/countdown|HTTP/1.0|   302|        null|\n",
      "|    relay.telecom.it|02/Jul/1995:10:59...|   GET|/shuttle/missions...|HTTP/1.0|   302|        null|\n",
      "|srv1.freenet.calg...|02/Jul/1995:11:00...|   GET|/shuttle/missions...|HTTP/1.0|   302|        null|\n",
      "|   scfu21.ioi.tue.nl|02/Jul/1995:11:00...|   GET|/shuttle/missions...|HTTP/1.0|   302|        null|\n",
      "|    relay.telecom.it|02/Jul/1995:11:04...|   GET|/shuttle/missions...|HTTP/1.0|   302|        null|\n",
      "|  enigma.idirect.com|02/Jul/1995:11:09...|   GET|             /images|HTTP/1.0|   302|        null|\n",
      "|slip64-203.ny.us....|02/Jul/1995:11:14...|   GET|     /history/apollo|HTTP/1.0|   302|        null|\n",
      "|ts1-and-24.iquest...|02/Jul/1995:11:28...|   GET|           /software|HTTP/1.0|   302|        null|\n",
      "|       199.17.140.35|02/Jul/1995:11:28...|   GET|/history/apollo-1...|HTTP/1.0|   404|        null|\n",
      "|       199.17.140.35|02/Jul/1995:11:29...|   GET|/history/apollo/a...|HTTP/1.0|   404|        null|\n",
      "|www-d3.proxy.aol.com|02/Jul/1995:11:31...|   GET|/shuttle/missions...|HTTP/1.0|   404|        null|\n",
      "|ts1-and-24.iquest...|02/Jul/1995:11:35...|   GET|/pub/winvn/readme...|HTTP/1.0|   404|        null|\n",
      "|   muir.math.niu.edu|02/Jul/1995:11:39...|   GET|           /ksc/html|HTTP/1.0|   404|        null|\n",
      "| hillnet.demon.co.uk|02/Jul/1995:11:41...|   GET|/shuttle/missions...|HTTP/1.0|   302|        null|\n",
      "|www-d4.proxy.aol.com|02/Jul/1995:11:42...|   GET|            /shuttle|HTTP/1.0|   302|        null|\n",
      "|      161.130.123.89|02/Jul/1995:11:46...|   GET|/pub/winvn/readme...|HTTP/1.0|   404|        null|\n",
      "|     192.115.160.144|02/Jul/1995:11:50...|   GET|/shuttle/resource...|HTTP/1.0|   404|        null|\n",
      "|     192.115.160.144|02/Jul/1995:11:50...|   GET|/shuttle/resource...|HTTP/1.0|   404|        null|\n",
      "|dd01-053.compuser...|02/Jul/1995:11:54...|   GET|/history/apollo/a...|HTTP/1.0|   404|        null|\n",
      "|www-d4.proxy.aol.com|02/Jul/1995:11:57...|   GET|            /shuttle|HTTP/1.0|   302|        null|\n",
      "|       204.71.21.125|02/Jul/1995:12:00...|   GET|/shuttle/missions...|HTTP/1.0|   302|        null|\n",
      "|async98.async.duk...|02/Jul/1995:12:02...|   GET|     /history/apollo|HTTP/1.0|   302|        null|\n",
      "|ad11-017.compuser...|02/Jul/1995:12:09...|   GET|/shuttle/missions...|HTTP/1.0|   404|        null|\n",
      "|ix-lrx-ar1-09.ix....|02/Jul/1995:12:09...|   GET|/shuttle/missions...|HTTP/1.0|   302|        null|\n",
      "|       204.174.70.17|02/Jul/1995:12:18...|   GET|/pub/winvn/releas...|HTTP/1.0|   404|        null|\n",
      "|       204.174.70.17|02/Jul/1995:12:18...|   GET|/pub/winvn/readme...|HTTP/1.0|   404|        null|\n",
      "|       204.174.70.17|02/Jul/1995:12:18...|   GET|/pub/winvn/releas...|HTTP/1.0|   404|        null|\n",
      "|viktoria.fmph.uni...|02/Jul/1995:12:18...|   GET|/://spacelink.msf...|HTTP/1.0|   404|        null|\n",
      "|  sans01.nada.kth.se|02/Jul/1995:12:23...|   GET|/elv/SCOUT/elvhea...|HTTP/1.0|   404|        null|\n",
      "|  jjones.carenet.org|02/Jul/1995:12:24...|   GET|/shuttle/missions...|HTTP/1.0|   302|        null|\n",
      "|  sans01.nada.kth.se|02/Jul/1995:12:24...|   GET|/elv/SCOUT/elvhea...|HTTP/1.0|   404|        null|\n",
      "|gsoffen-ppp.gsfc....|02/Jul/1995:12:30...|   GET|/history/apollo/a...|HTTP/1.0|   404|        null|\n",
      "|piweba3y.prodigy.com|02/Jul/1995:12:31...|   GET|/shuttle/missions...|HTTP/1.0|   404|        null|\n",
      "|piweba3y.prodigy.com|02/Jul/1995:12:31...|   GET|/shuttle/missions...|HTTP/1.0|   404|        null|\n",
      "|piweba3y.prodigy.com|02/Jul/1995:12:31...|   GET|/shuttle/missions...|HTTP/1.0|   404|        null|\n",
      "|ix-pas10-05.ix.ne...|02/Jul/1995:12:32...|   GET|/shuttle/missions...|HTTP/1.0|   302|        null|\n",
      "|ts2-p14.dialup.iw...|02/Jul/1995:12:32...|   GET|/history/mercury/...|HTTP/1.0|   302|        null|\n",
      "|       194.77.33.243|02/Jul/1995:12:41...|   GET|/shuttle/missions...|HTTP/1.0|   302|        null|\n",
      "|ix-vf1-28.ix.netc...|02/Jul/1995:12:42...|   GET|/shuttle/missions...|HTTP/1.0|   302|        null|\n",
      "|     132.170.142.104|02/Jul/1995:12:45...|   GET|/shuttle/missions...|HTTP/1.0|   302|        null|\n",
      "| tiber.gsfc.nasa.gov|02/Jul/1995:12:47...|   GET|/shuttle/missions...|HTTP/1.0|   404|        null|\n",
      "|async98.async.duk...|02/Jul/1995:12:51...|   GET|/history/apollo/a...|HTTP/1.0|   302|        null|\n",
      "|async98.async.duk...|02/Jul/1995:12:51...|   GET|            /history|HTTP/1.0|   302|        null|\n",
      "|ad10-013.compuser...|02/Jul/1995:12:52...|   GET|/shuttle/missions...|HTTP/1.0|   302|        null|\n",
      "|ix-lrx-ar1-09.ix....|02/Jul/1995:12:52...|   GET|/shuttle/missions...|HTTP/1.0|   302|        null|\n",
      "|wolson-mac.sctr.i...|02/Jul/1995:12:53...|   GET|  /shuttle/countdown|HTTP/1.0|   302|        null|\n",
      "|www-b3.proxy.aol.com|02/Jul/1995:12:53...|   GET|/history/apollo/a...|HTTP/1.0|   404|        null|\n",
      "| tiber.gsfc.nasa.gov|02/Jul/1995:12:53...|   GET|/shuttle/missions...|HTTP/1.0|   404|        null|\n",
      "|        an4.aros.net|02/Jul/1995:12:59...|   GET|/shuttle/missions...|HTTP/1.0|   302|        null|\n",
      "|       130.99.52.153|02/Jul/1995:13:00...|   GET|/history/apollo/p...|HTTP/1.0|   404|        null|\n",
      "|     192.147.169.200|02/Jul/1995:13:07...|   GET|/shuttle/missions...|HTTP/1.0|   302|        null|\n",
      "| truro-ts-07.nstn.ca|02/Jul/1995:13:11...|   GET|     /history/apollo|HTTP/1.0|   302|        null|\n",
      "|        198.101.4.98|02/Jul/1995:13:15...|   GET|/shuttle/missions...|HTTP/1.0|   302|        null|\n",
      "|ad10-013.compuser...|02/Jul/1995:13:15...|   GET|/shuttle/missions...|HTTP/1.0|   302|        null|\n",
      "|ivyland42.voicene...|02/Jul/1995:13:20...|   GET|/shuttle/missions...|HTTP/1.0|   302|        null|\n",
      "|dialup776.washing...|02/Jul/1995:13:31...|   GET|             /images|HTTP/1.0|   302|        null|\n",
      "|       che2.llnl.gov|02/Jul/1995:13:31...|   GET|/shuttle/missions...|HTTP/1.0|   302|        null|\n",
      "|www-b2.proxy.aol.com|02/Jul/1995:13:35...|   GET|/shuttle/missions...|HTTP/1.0|   404|        null|\n",
      "|ix-stm1-12.ix.net...|02/Jul/1995:13:42...|   GET|/software/winvm/w...|HTTP/1.0|   404|        null|\n",
      "|ix-stm1-12.ix.net...|02/Jul/1995:13:42...|   GET|     /software/winvm|HTTP/1.0|   404|        null|\n",
      "|ix-stm1-12.ix.net...|02/Jul/1995:13:42...|   GET|    /software/winvm/|HTTP/1.0|   404|        null|\n",
      "|      osoff.llnl.gov|02/Jul/1995:13:43...|   GET|   /shuttle/missions|HTTP/1.0|   302|        null|\n",
      "|ix-stm1-12.ix.net...|02/Jul/1995:13:44...|   GET|           /software|HTTP/1.0|   302|        null|\n",
      "|connect3.metro2.k...|02/Jul/1995:13:47...|   GET|/history/apollo/a...|HTTP/1.0|   404|        null|\n",
      "|ix-tam3-07.ix.net...|02/Jul/1995:13:48...|   GET|    /shuttle/images/|HTTP/1.0|   404|        null|\n",
      "|      204.191.101.12|02/Jul/1995:13:49...|   GET|/shuttle/missions...|HTTP/1.0|   302|        null|\n",
      "|     comptel.unh.edu|02/Jul/1995:13:53...|   GET|/shuttle/missions...|HTTP/1.0|   302|        null|\n",
      "|     spectra.usc.edu|02/Jul/1995:13:54...|   GET|/shuttle/missions...|HTTP/1.0|   302|        null|\n",
      "|      193.132.228.73|02/Jul/1995:13:54...|   GET|/history/apollo/s...|HTTP/1.0|   404|        null|\n",
      "|      193.132.228.73|02/Jul/1995:13:54...|   GET|/history/apollo/s...|HTTP/1.0|   404|        null|\n",
      "|   netuser21.ncw.net|02/Jul/1995:13:54...|   GET|/shuttle/missions...|HTTP/1.0|   302|        null|\n",
      "|      193.132.228.73|02/Jul/1995:13:55...|   GET|/history/apollo/s...|HTTP/1.0|   404|        null|\n",
      "|      193.132.228.73|02/Jul/1995:13:55...|   GET|/history/apollo/s...|HTTP/1.0|   404|        null|\n",
      "|      193.132.228.73|02/Jul/1995:13:55...|   GET|/history/apollo/s...|HTTP/1.0|   404|        null|\n",
      "|      192.214.84.194|02/Jul/1995:13:56...|   GET|/shuttle/missions...|HTTP/1.0|   302|        null|\n",
      "|    ppp214.iadfw.net|02/Jul/1995:13:58...|   GET|/shuttle/missions...|HTTP/1.0|   302|        null|\n",
      "|    gateway.sctc.com|02/Jul/1995:14:02...|   GET|/history/apollo/a...|HTTP/1.0|   404|        null|\n",
      "|    gateway.sctc.com|02/Jul/1995:14:03...|   GET|     /history/apollo|HTTP/1.0|   302|        null|\n",
      "|rummelplatz.uni-m...|02/Jul/1995:14:08...|   GET|/shuttle/missions...|HTTP/1.0|   302|        null|\n",
      "|       128.120.12.14|02/Jul/1995:14:10...|   GET|/shuttle/missions...|HTTP/1.0|   302|        null|\n",
      "|www-d1.proxy.aol.com|02/Jul/1995:14:12...|   GET|             /images|HTTP/1.0|   302|        null|\n",
      "|www-a1.proxy.aol.com|02/Jul/1995:14:14...|   GET|             /images|HTTP/1.0|   302|        null|\n",
      "|gatekeeper.es.dup...|02/Jul/1995:14:15...|   GET|/%7Eadverts/ibm/a...|HTTP/1.0|   404|        null|\n",
      "|  sl-3.ducomm.du.edu|02/Jul/1995:14:15...|   GET|  /shuttle/countdown|HTTP/1.0|   302|        null|\n",
      "|dial025.vanderbil...|02/Jul/1995:14:17...|   GET|/shuttle/missions...|HTTP/1.0|   302|        null|\n",
      "|www-d4.proxy.aol.com|02/Jul/1995:14:18...|   GET|/shuttle/countdow...|HTTP/1.0|   404|        null|\n",
      "|www-d4.proxy.aol.com|02/Jul/1995:14:18...|   GET|/shuttle/countdow...|HTTP/1.0|   404|        null|\n",
      "|  sl-3.ducomm.du.edu|02/Jul/1995:14:20...|   GET|/shuttle/mission/...|HTTP/1.0|   404|        null|\n",
      "|      204.176.47.104|02/Jul/1995:14:20...|   GET|             /images|HTTP/1.0|   302|        null|\n",
      "|  sl-3.ducomm.du.edu|02/Jul/1995:14:20...|   GET|/shuttle/mission/...|HTTP/1.0|   404|        null|\n",
      "|  sl-3.ducomm.du.edu|02/Jul/1995:14:20...|   GET|/shuttle/mission/...|HTTP/1.0|   404|        null|\n",
      "|  sl-3.ducomm.du.edu|02/Jul/1995:14:20...|   GET|/shuttle/mission/...|HTTP/1.0|   404|        null|\n",
      "|piweba3y.prodigy.com|02/Jul/1995:14:26...|   GET|/shuttle/missions...|HTTP/1.0|   302|        null|\n",
      "|  onyx.southwind.net|02/Jul/1995:14:28...|   GET|/pub/winvn/readme...|HTTP/1.0|   404|        null|\n",
      "|  onyx.southwind.net|02/Jul/1995:14:28...|   GET|/pub/winvn/releas...|HTTP/1.0|   404|        null|\n",
      "|www-b6.proxy.aol.com|02/Jul/1995:14:32...|   GET|             /images|HTTP/1.0|   302|        null|\n",
      "|bairdsun1.gatech.edu|02/Jul/1995:14:36...|   GET|/shuttle/missions...|HTTP/1.0|   302|        null|\n",
      "|bairdsun1.gatech.edu|02/Jul/1995:14:37...|   GET|/shuttle/missions...|HTTP/1.0|   302|        null|\n",
      "|        199.67.49.63|02/Jul/1995:14:41...|   GET|/shuttle/missions...|HTTP/1.0|   404|        null|\n",
      "|   slip19.inlink.com|02/Jul/1995:14:44...|   GET|/shuttle/missions...|HTTP/1.0|   302|        null|\n",
      "| dtk17.sca.usherb.ca|02/Jul/1995:14:48...|   GET|/shuttle/missions...|HTTP/1.0|   302|        null|\n",
      "|      128.252.181.61|02/Jul/1995:14:50...|   GET|/shuttle/missions...|HTTP/1.0|   302|        null|\n",
      "|piweba1y.prodigy.com|02/Jul/1995:14:50...|   GET|/shuttle/missions...|HTTP/1.0|   302|        null|\n",
      "|piweba1y.prodigy.com|02/Jul/1995:14:50...|   GET|/shuttle/missions...|HTTP/1.0|   302|        null|\n",
      "|piweba1y.prodigy.com|02/Jul/1995:14:51...|   GET|/shuttle/missions...|HTTP/1.0|   302|        null|\n",
      "|www-d3.proxy.aol.com|02/Jul/1995:14:56...|   GET|             /images|HTTP/1.0|   302|        null|\n",
      "|        194.81.76.19|02/Jul/1995:15:03...|   GET|/shuttle/missions...|HTTP/1.0|   404|        null|\n",
      "|      knuth.mtsu.edu|02/Jul/1995:15:04...|   GET|             /images|HTTP/1.0|   302|        null|\n",
      "|       www.mclink.it|02/Jul/1995:15:05...|   GET|/shuttle/missions...|HTTP/1.0|   302|        null|\n",
      "|www-d1.proxy.aol.com|02/Jul/1995:15:06...|   GET|/shuttle/missions...|HTTP/1.0|   302|        null|\n",
      "|www-b2.proxy.aol.com|02/Jul/1995:15:06...|   GET|/shuttle/missions...|HTTP/1.0|   302|        null|\n",
      "|www-b2.proxy.aol.com|02/Jul/1995:15:06...|   GET|             /images|HTTP/1.0|   302|        null|\n",
      "|         gw2.att.com|02/Jul/1995:15:20...|   GET|/shuttle/news/sci...|HTTP/1.0|   404|        null|\n",
      "|         gw2.att.com|02/Jul/1995:15:20...|   GET|/shuttle/news/sci...|HTTP/1.0|   404|        null|\n",
      "|         gw2.att.com|02/Jul/1995:15:20...|   GET|/shuttle/news/sci...|HTTP/1.0|   404|        null|\n",
      "|         gw2.att.com|02/Jul/1995:15:21...|   GET|/shuttle/news/sci...|HTTP/1.0|   404|        null|\n",
      "|default42.usa.cer...|02/Jul/1995:15:23...|   GET|             /images|HTTP/1.0|   302|        null|\n",
      "|dialup-122.lit.in...|02/Jul/1995:15:25...|   GET|     /pub/win3/winvn|HTTP/1.0|   404|        null|\n",
      "|tundra.weh.andrew...|02/Jul/1995:15:25...|   GET|/elv/DELTA/uncons...|HTTP/1.0|   404|        null|\n",
      "|  gate.chips.ibm.com|02/Jul/1995:15:25...|   GET|  /shuttle/countdown|HTTP/1.0|   302|        null|\n",
      "|disarray.demon.co.uk|02/Jul/1995:15:34...|   GET|/shuttle/missions...|HTTP/1.0|   302|        null|\n",
      "|ppp-dial22.wchat....|02/Jul/1995:15:35...|   GET|/shuttle/missions...|HTTP/1.0|   404|        null|\n",
      "|         199.80.74.8|02/Jul/1995:15:36...|   GET|/Science/Space/Mi...|HTTP/1.0|   404|        null|\n",
      "|ix-pat1-27.ix.net...|02/Jul/1995:15:37...|   GET|/pub/winvn/releas...|HTTP/1.0|   404|        null|\n",
      "|klothos.crl.resea...|02/Jul/1995:15:37...|   GET|   /shuttle/missions|HTTP/1.0|   302|        null|\n",
      "|disarray.demon.co.uk|02/Jul/1995:15:37...|   GET|/shuttle/missions...|HTTP/1.0|   404|        null|\n",
      "|ppp-dial22.wchat....|02/Jul/1995:15:40...|   GET|/shuttle/missions...|HTTP/1.0|   302|        null|\n",
      "|ip205.vcv.primene...|02/Jul/1995:15:45...|   GET|/shuttle/missions...|HTTP/1.0|   302|        null|\n",
      "|nts48.dialup.hawa...|02/Jul/1995:15:47...|   GET|/pub/winvn/readme...|HTTP/1.0|   404|        null|\n",
      "|nts48.dialup.hawa...|02/Jul/1995:15:48...|   GET|/pub/winvn/releas...|HTTP/1.0|   404|        null|\n",
      "|  alyssa.prodigy.com|02/Jul/1995:15:50...|   GET|/shuttle/missions...|HTTP/1.0|   302|        null|\n",
      "|      sam.th.tele.fi|02/Jul/1995:15:54...|   GET|/shuttle/missions...|HTTP/1.0|   302|        null|\n",
      "+--------------------+--------------------+------+--------------------+--------+------+------------+\n",
      "only showing top 1000 rows\n",
      "\n"
     ]
    }
   ],
   "source": [
    "bad_content_size_df = null_content_size_df.select(regexp_extract('value', host_pattern, 1).alias('host'),\n",
    "                                      regexp_extract('value', ts_pattern, 1).alias('timestamp'),\n",
    "                                      regexp_extract('value', method_uri_protocol_pattern, 1).alias('method'),\n",
    "                                      regexp_extract('value', method_uri_protocol_pattern, 2).alias('endpoint'),\n",
    "                                      regexp_extract('value', method_uri_protocol_pattern, 3).alias('protocol'),\n",
    "                                      regexp_extract('value', status_pattern, 1).cast('integer').alias('status'),\n",
    "                                      regexp_extract('value', content_size_pattern, 1).cast('integer').alias('content_size'))\n",
    "bad_content_size_df.show(1000, truncate=True)"
   ]
  },
  {
   "cell_type": "markdown",
   "metadata": {},
   "source": [
    "Assuming you were able to get to the missing records above, it is quite evident that the bad raw data records correspond to error responses, where no content was sent back and the server emitted a \"`-`\" for the `content_size` field. \n",
    "\n",
    "Since we don't want to discard those rows from our analysis, let's impute or fill them to 0."
   ]
  },
  {
   "cell_type": "markdown",
   "metadata": {},
   "source": [
    "### Q4: Your Turn: Fix the rows with null content\\_size\n",
    "\n",
    "The easiest solution is to replace the null values in `logs_df` with 0 like we discussed earlier. The Spark DataFrame API provides a set of functions and fields specifically designed for working with null values, among them:\n",
    "\n",
    "* [fillna()](http://spark.apache.org/docs/latest/api/python/pyspark.sql.html#pyspark.sql.DataFrame.fillna), which fills null values with specified non-null values.\n",
    "* [na](http://spark.apache.org/docs/latest/api/python/pyspark.sql.html#pyspark.sql.DataFrame.na), which returns a [DataFrameNaFunctions](http://spark.apache.org/docs/latest/api/python/pyspark.sql.html#pyspark.sql.DataFrameNaFunctions) object with many functions for operating on null columns.\n",
    "\n",
    "There are several ways to invoke this function. The easiest is just to replace _all_ null columns with known values. But, for safety, it's better to pass a Python dictionary containing (column\\_name, value) mappings. That's what we'll do. A sample example from the documentation is depicted below\n",
    "\n",
    "```\n",
    ">>> df4.na.fill({'age': 50, 'name': 'unknown'}).show()\n",
    "+---+------+-------+\n",
    "|age|height|   name|\n",
    "+---+------+-------+\n",
    "| 10|    80|  Alice|\n",
    "|  5|  null|    Bob|\n",
    "| 50|  null|    Tom|\n",
    "| 50|  null|unknown|\n",
    "+---+------+-------+\n",
    "```\n",
    "\n",
    "Now use this function and fill all the missing values in the `content_size` field with 0!"
   ]
  },
  {
   "cell_type": "code",
   "execution_count": 35,
   "metadata": {},
   "outputs": [],
   "source": [
    "# TODO: Replace <FILL IN> with appropriate code\n",
    "\n",
    "logs_df = logs_df.na.fill({'content_size': 0})"
   ]
  },
  {
   "cell_type": "markdown",
   "metadata": {},
   "source": [
    "Now assuming you were able to fill in the missing values successfully in the previous question, we should have no missing values \\ nulls in our dataset. Let's verify this!"
   ]
  },
  {
   "cell_type": "code",
   "execution_count": 36,
   "metadata": {},
   "outputs": [
    {
     "name": "stdout",
     "output_type": "stream",
     "text": [
      "+----+---------+------+--------+--------+------+------------+\n",
      "|host|timestamp|method|endpoint|protocol|status|content_size|\n",
      "+----+---------+------+--------+--------+------+------------+\n",
      "|   0|        0|     0|       0|       0|     0|           0|\n",
      "+----+---------+------+--------+--------+------+------------+\n",
      "\n"
     ]
    }
   ],
   "source": [
    "exprs = [count_null(col_name) for col_name in logs_df.columns]\n",
    "logs_df.agg(*exprs).show()"
   ]
  },
  {
   "cell_type": "markdown",
   "metadata": {},
   "source": [
    "Look at that, no missing values! "
   ]
  },
  {
   "cell_type": "markdown",
   "metadata": {},
   "source": [
    "## Handling Temporal Fields (Timestamp)\n",
    "\n",
    "Now that we have a clean, parsed DataFrame, we have to parse the timestamp field into an actual timestamp. The Common Log Format time is somewhat non-standard. A User-Defined Function (UDF) is the most straightforward way to parse it."
   ]
  },
  {
   "cell_type": "code",
   "execution_count": 37,
   "metadata": {
    "collapsed": true
   },
   "outputs": [],
   "source": [
    "from pyspark.sql.functions import udf\n",
    "\n",
    "month_map = {\n",
    "  'Jan': 1, 'Feb': 2, 'Mar':3, 'Apr':4, 'May':5, 'Jun':6, 'Jul':7,\n",
    "  'Aug':8,  'Sep': 9, 'Oct':10, 'Nov': 11, 'Dec': 12\n",
    "}\n",
    "\n",
    "def parse_clf_time(text):\n",
    "    \"\"\" Convert Common Log time format into a Python datetime object\n",
    "    Args:\n",
    "        text (str): date and time in Apache time format [dd/mmm/yyyy:hh:mm:ss (+/-)zzzz]\n",
    "    Returns:\n",
    "        a string suitable for passing to CAST('timestamp')\n",
    "    \"\"\"\n",
    "    # NOTE: We're ignoring time zone here. In a production application, you'd want to handle that.\n",
    "    return \"{0:04d}-{1:02d}-{2:02d} {3:02d}:{4:02d}:{5:02d}\".format(\n",
    "      int(text[7:11]),\n",
    "      month_map[text[3:6]],\n",
    "      int(text[0:2]),\n",
    "      int(text[12:14]),\n",
    "      int(text[15:17]),\n",
    "      int(text[18:20])\n",
    "    )"
   ]
  },
  {
   "cell_type": "code",
   "execution_count": 38,
   "metadata": {},
   "outputs": [
    {
     "data": {
      "text/plain": [
       "'1995-07-01 00:05:13'"
      ]
     },
     "execution_count": 38,
     "metadata": {},
     "output_type": "execute_result"
    }
   ],
   "source": [
    "parse_clf_time('01/Jul/1995:00:05:13 -0400')"
   ]
  },
  {
   "cell_type": "code",
   "execution_count": 39,
   "metadata": {},
   "outputs": [
    {
     "data": {
      "text/plain": [
       "['01/Jul/1995:00:00:01 -0400',\n",
       " '01/Jul/1995:00:00:06 -0400',\n",
       " '01/Jul/1995:00:00:09 -0400',\n",
       " '01/Jul/1995:00:00:11 -0400',\n",
       " '01/Jul/1995:00:00:11 -0400']"
      ]
     },
     "execution_count": 39,
     "metadata": {},
     "output_type": "execute_result"
    }
   ],
   "source": [
    "sample_ts = [item['timestamp'] for item in logs_df.select('timestamp').take(5)]\n",
    "sample_ts"
   ]
  },
  {
   "cell_type": "code",
   "execution_count": 40,
   "metadata": {},
   "outputs": [
    {
     "data": {
      "text/plain": [
       "['1995-07-01 00:00:01',\n",
       " '1995-07-01 00:00:06',\n",
       " '1995-07-01 00:00:09',\n",
       " '1995-07-01 00:00:11',\n",
       " '1995-07-01 00:00:11']"
      ]
     },
     "execution_count": 40,
     "metadata": {},
     "output_type": "execute_result"
    }
   ],
   "source": [
    "[parse_clf_time(item) for item in sample_ts]"
   ]
  },
  {
   "cell_type": "code",
   "execution_count": 41,
   "metadata": {},
   "outputs": [
    {
     "name": "stdout",
     "output_type": "stream",
     "text": [
      "+--------------------+------+--------------------+--------+------+------------+-------------------+\n",
      "|                host|method|            endpoint|protocol|status|content_size|               time|\n",
      "+--------------------+------+--------------------+--------+------+------------+-------------------+\n",
      "|        199.72.81.55|   GET|    /history/apollo/|HTTP/1.0|   200|        6245|1995-07-01 00:00:01|\n",
      "|unicomp6.unicomp.net|   GET| /shuttle/countdown/|HTTP/1.0|   200|        3985|1995-07-01 00:00:06|\n",
      "|      199.120.110.21|   GET|/shuttle/missions...|HTTP/1.0|   200|        4085|1995-07-01 00:00:09|\n",
      "|  burger.letters.com|   GET|/shuttle/countdow...|HTTP/1.0|   304|           0|1995-07-01 00:00:11|\n",
      "|      199.120.110.21|   GET|/shuttle/missions...|HTTP/1.0|   200|        4179|1995-07-01 00:00:11|\n",
      "|  burger.letters.com|   GET|/images/NASA-logo...|HTTP/1.0|   304|           0|1995-07-01 00:00:12|\n",
      "|  burger.letters.com|   GET|/shuttle/countdow...|HTTP/1.0|   200|           0|1995-07-01 00:00:12|\n",
      "|     205.212.115.106|   GET|/shuttle/countdow...|HTTP/1.0|   200|        3985|1995-07-01 00:00:12|\n",
      "|         d104.aa.net|   GET| /shuttle/countdown/|HTTP/1.0|   200|        3985|1995-07-01 00:00:13|\n",
      "|      129.94.144.152|   GET|                   /|HTTP/1.0|   200|        7074|1995-07-01 00:00:13|\n",
      "+--------------------+------+--------------------+--------+------+------------+-------------------+\n",
      "only showing top 10 rows\n",
      "\n"
     ]
    }
   ],
   "source": [
    "udf_parse_time = udf(parse_clf_time)\n",
    "\n",
    "logs_df = logs_df.select('*', udf_parse_time(logs_df['timestamp']).cast('timestamp').alias('time')).drop('timestamp')\n",
    "logs_df.show(10, truncate=True)"
   ]
  },
  {
   "cell_type": "code",
   "execution_count": 42,
   "metadata": {},
   "outputs": [
    {
     "name": "stdout",
     "output_type": "stream",
     "text": [
      "root\n",
      " |-- host: string (nullable = true)\n",
      " |-- method: string (nullable = true)\n",
      " |-- endpoint: string (nullable = true)\n",
      " |-- protocol: string (nullable = true)\n",
      " |-- status: integer (nullable = true)\n",
      " |-- content_size: integer (nullable = false)\n",
      " |-- time: timestamp (nullable = true)\n",
      "\n"
     ]
    }
   ],
   "source": [
    "logs_df.printSchema()"
   ]
  },
  {
   "cell_type": "code",
   "execution_count": 43,
   "metadata": {},
   "outputs": [
    {
     "data": {
      "text/html": [
       "<div>\n",
       "<style>\n",
       "    .dataframe thead tr:only-child th {\n",
       "        text-align: right;\n",
       "    }\n",
       "\n",
       "    .dataframe thead th {\n",
       "        text-align: left;\n",
       "    }\n",
       "\n",
       "    .dataframe tbody tr th {\n",
       "        vertical-align: top;\n",
       "    }\n",
       "</style>\n",
       "<table border=\"1\" class=\"dataframe\">\n",
       "  <thead>\n",
       "    <tr style=\"text-align: right;\">\n",
       "      <th></th>\n",
       "      <th>host</th>\n",
       "      <th>method</th>\n",
       "      <th>endpoint</th>\n",
       "      <th>protocol</th>\n",
       "      <th>status</th>\n",
       "      <th>content_size</th>\n",
       "      <th>time</th>\n",
       "    </tr>\n",
       "  </thead>\n",
       "  <tbody>\n",
       "    <tr>\n",
       "      <th>0</th>\n",
       "      <td>199.72.81.55</td>\n",
       "      <td>GET</td>\n",
       "      <td>/history/apollo/</td>\n",
       "      <td>HTTP/1.0</td>\n",
       "      <td>200</td>\n",
       "      <td>6245</td>\n",
       "      <td>1995-07-01 00:00:01</td>\n",
       "    </tr>\n",
       "    <tr>\n",
       "      <th>1</th>\n",
       "      <td>unicomp6.unicomp.net</td>\n",
       "      <td>GET</td>\n",
       "      <td>/shuttle/countdown/</td>\n",
       "      <td>HTTP/1.0</td>\n",
       "      <td>200</td>\n",
       "      <td>3985</td>\n",
       "      <td>1995-07-01 00:00:06</td>\n",
       "    </tr>\n",
       "    <tr>\n",
       "      <th>2</th>\n",
       "      <td>199.120.110.21</td>\n",
       "      <td>GET</td>\n",
       "      <td>/shuttle/missions/sts-73/mission-sts-73.html</td>\n",
       "      <td>HTTP/1.0</td>\n",
       "      <td>200</td>\n",
       "      <td>4085</td>\n",
       "      <td>1995-07-01 00:00:09</td>\n",
       "    </tr>\n",
       "    <tr>\n",
       "      <th>3</th>\n",
       "      <td>burger.letters.com</td>\n",
       "      <td>GET</td>\n",
       "      <td>/shuttle/countdown/liftoff.html</td>\n",
       "      <td>HTTP/1.0</td>\n",
       "      <td>304</td>\n",
       "      <td>0</td>\n",
       "      <td>1995-07-01 00:00:11</td>\n",
       "    </tr>\n",
       "    <tr>\n",
       "      <th>4</th>\n",
       "      <td>199.120.110.21</td>\n",
       "      <td>GET</td>\n",
       "      <td>/shuttle/missions/sts-73/sts-73-patch-small.gif</td>\n",
       "      <td>HTTP/1.0</td>\n",
       "      <td>200</td>\n",
       "      <td>4179</td>\n",
       "      <td>1995-07-01 00:00:11</td>\n",
       "    </tr>\n",
       "  </tbody>\n",
       "</table>\n",
       "</div>"
      ],
      "text/plain": [
       "                   host method  \\\n",
       "0          199.72.81.55    GET   \n",
       "1  unicomp6.unicomp.net    GET   \n",
       "2        199.120.110.21    GET   \n",
       "3    burger.letters.com    GET   \n",
       "4        199.120.110.21    GET   \n",
       "\n",
       "                                          endpoint  protocol  status  \\\n",
       "0                                 /history/apollo/  HTTP/1.0     200   \n",
       "1                              /shuttle/countdown/  HTTP/1.0     200   \n",
       "2     /shuttle/missions/sts-73/mission-sts-73.html  HTTP/1.0     200   \n",
       "3                  /shuttle/countdown/liftoff.html  HTTP/1.0     304   \n",
       "4  /shuttle/missions/sts-73/sts-73-patch-small.gif  HTTP/1.0     200   \n",
       "\n",
       "   content_size                time  \n",
       "0          6245 1995-07-01 00:00:01  \n",
       "1          3985 1995-07-01 00:00:06  \n",
       "2          4085 1995-07-01 00:00:09  \n",
       "3             0 1995-07-01 00:00:11  \n",
       "4          4179 1995-07-01 00:00:11  "
      ]
     },
     "execution_count": 43,
     "metadata": {},
     "output_type": "execute_result"
    }
   ],
   "source": [
    "logs_df.limit(5).toPandas()"
   ]
  },
  {
   "cell_type": "markdown",
   "metadata": {},
   "source": [
    "Let's now cache `logs_df` since we will be using it extensively for our data analysis section in the next part!"
   ]
  },
  {
   "cell_type": "markdown",
   "metadata": {},
   "source": [
    "# Section 4 - Data Analysis on our Web Logs\n",
    "\n",
    "Now that we have a DataFrame containing the parsed log file as a data frame, we can perform some interesting exploratory data analysis (EDA)\n",
    "\n",
    "## Example: Content Size Statistics\n",
    "\n",
    "Let's compute some statistics about the sizes of content being returned by the web server. In particular, we'd like to know what are the average, minimum, and maximum content sizes.\n",
    "\n",
    "We can compute the statistics by calling `.describe()` on the `content_size` column of `logs_df`.  The `.describe()` function returns the count, mean, stddev, min, and max of a given column."
   ]
  },
  {
   "cell_type": "code",
   "execution_count": 44,
   "metadata": {},
   "outputs": [
    {
     "data": {
      "text/html": [
       "<div>\n",
       "<style>\n",
       "    .dataframe thead tr:only-child th {\n",
       "        text-align: right;\n",
       "    }\n",
       "\n",
       "    .dataframe thead th {\n",
       "        text-align: left;\n",
       "    }\n",
       "\n",
       "    .dataframe tbody tr th {\n",
       "        vertical-align: top;\n",
       "    }\n",
       "</style>\n",
       "<table border=\"1\" class=\"dataframe\">\n",
       "  <thead>\n",
       "    <tr style=\"text-align: right;\">\n",
       "      <th></th>\n",
       "      <th>summary</th>\n",
       "      <th>content_size</th>\n",
       "    </tr>\n",
       "  </thead>\n",
       "  <tbody>\n",
       "    <tr>\n",
       "      <th>0</th>\n",
       "      <td>count</td>\n",
       "      <td>3461612</td>\n",
       "    </tr>\n",
       "    <tr>\n",
       "      <th>1</th>\n",
       "      <td>mean</td>\n",
       "      <td>18928.844398216785</td>\n",
       "    </tr>\n",
       "    <tr>\n",
       "      <th>2</th>\n",
       "      <td>stddev</td>\n",
       "      <td>73031.47260949228</td>\n",
       "    </tr>\n",
       "    <tr>\n",
       "      <th>3</th>\n",
       "      <td>min</td>\n",
       "      <td>0</td>\n",
       "    </tr>\n",
       "    <tr>\n",
       "      <th>4</th>\n",
       "      <td>max</td>\n",
       "      <td>6823936</td>\n",
       "    </tr>\n",
       "  </tbody>\n",
       "</table>\n",
       "</div>"
      ],
      "text/plain": [
       "  summary        content_size\n",
       "0   count             3461612\n",
       "1    mean  18928.844398216785\n",
       "2  stddev   73031.47260949228\n",
       "3     min                   0\n",
       "4     max             6823936"
      ]
     },
     "execution_count": 44,
     "metadata": {},
     "output_type": "execute_result"
    }
   ],
   "source": [
    "content_size_summary_df = logs_df.describe(['content_size'])\n",
    "content_size_summary_df.toPandas()"
   ]
  },
  {
   "cell_type": "markdown",
   "metadata": {},
   "source": [
    "Alternatively, we can use SQL to directly calculate these statistics.  You can explore many useful functions within the `pyspark.sql.functions` module in the [documentation](https://spark.apache.org/docs/latest/api/python/pyspark.sql.html#module-pyspark.sql.functions).\n",
    "\n",
    "After we apply the `.agg()` function, we call `toPandas()` to extract and convert the result into a `pandas` dataframe which has better formatting on Jupyter notebooks"
   ]
  },
  {
   "cell_type": "code",
   "execution_count": 45,
   "metadata": {},
   "outputs": [
    {
     "data": {
      "text/html": [
       "<div>\n",
       "<style>\n",
       "    .dataframe thead tr:only-child th {\n",
       "        text-align: right;\n",
       "    }\n",
       "\n",
       "    .dataframe thead th {\n",
       "        text-align: left;\n",
       "    }\n",
       "\n",
       "    .dataframe tbody tr th {\n",
       "        vertical-align: top;\n",
       "    }\n",
       "</style>\n",
       "<table border=\"1\" class=\"dataframe\">\n",
       "  <thead>\n",
       "    <tr style=\"text-align: right;\">\n",
       "      <th></th>\n",
       "      <th>min_content_size</th>\n",
       "      <th>max_content_size</th>\n",
       "      <th>mean_content_size</th>\n",
       "      <th>std_content_size</th>\n",
       "      <th>count_content_size</th>\n",
       "    </tr>\n",
       "  </thead>\n",
       "  <tbody>\n",
       "    <tr>\n",
       "      <th>0</th>\n",
       "      <td>0</td>\n",
       "      <td>6823936</td>\n",
       "      <td>18928.844398</td>\n",
       "      <td>73031.472609</td>\n",
       "      <td>3461612</td>\n",
       "    </tr>\n",
       "  </tbody>\n",
       "</table>\n",
       "</div>"
      ],
      "text/plain": [
       "   min_content_size  max_content_size  mean_content_size  std_content_size  \\\n",
       "0                 0           6823936       18928.844398      73031.472609   \n",
       "\n",
       "   count_content_size  \n",
       "0             3461612  "
      ]
     },
     "execution_count": 45,
     "metadata": {},
     "output_type": "execute_result"
    }
   ],
   "source": [
    "from pyspark.sql import functions as F\n",
    "\n",
    "(logs_df.agg(F.min(logs_df['content_size']).alias('min_content_size'),\n",
    "             F.max(logs_df['content_size']).alias('max_content_size'),\n",
    "             F.mean(logs_df['content_size']).alias('mean_content_size'),\n",
    "             F.stddev(logs_df['content_size']).alias('std_content_size'),\n",
    "             F.count(logs_df['content_size']).alias('count_content_size'))\n",
    "        .toPandas())"
   ]
  },
  {
   "cell_type": "markdown",
   "metadata": {},
   "source": [
    "## Example: HTTP Status Code Analysis\n",
    "\n",
    "Next, let's look at the status code values that appear in the log. We want to know which status code values appear in the data and how many times.  \n",
    "\n",
    "We again start with `logs_df`, then group by the `status` column, apply the `.count()` aggregation function, and sort by the `status` column."
   ]
  },
  {
   "cell_type": "code",
   "execution_count": 46,
   "metadata": {
    "collapsed": true
   },
   "outputs": [],
   "source": [
    "status_freq_df = (logs_df\n",
    "                     .groupBy('status')\n",
    "                     .count()\n",
    "                     .sort('status')\n",
    "                     .cache())"
   ]
  },
  {
   "cell_type": "code",
   "execution_count": 47,
   "metadata": {},
   "outputs": [
    {
     "name": "stdout",
     "output_type": "stream",
     "text": [
      "Total distinct HTTP Status Codes: 8\n"
     ]
    }
   ],
   "source": [
    "print('Total distinct HTTP Status Codes:', status_freq_df.count())"
   ]
  },
  {
   "cell_type": "code",
   "execution_count": 48,
   "metadata": {},
   "outputs": [
    {
     "data": {
      "text/html": [
       "<div>\n",
       "<style>\n",
       "    .dataframe thead tr:only-child th {\n",
       "        text-align: right;\n",
       "    }\n",
       "\n",
       "    .dataframe thead th {\n",
       "        text-align: left;\n",
       "    }\n",
       "\n",
       "    .dataframe tbody tr th {\n",
       "        vertical-align: top;\n",
       "    }\n",
       "</style>\n",
       "<table border=\"1\" class=\"dataframe\">\n",
       "  <thead>\n",
       "    <tr style=\"text-align: right;\">\n",
       "      <th></th>\n",
       "      <th>status</th>\n",
       "      <th>count</th>\n",
       "    </tr>\n",
       "  </thead>\n",
       "  <tbody>\n",
       "    <tr>\n",
       "      <th>0</th>\n",
       "      <td>200</td>\n",
       "      <td>3100524</td>\n",
       "    </tr>\n",
       "    <tr>\n",
       "      <th>1</th>\n",
       "      <td>302</td>\n",
       "      <td>73070</td>\n",
       "    </tr>\n",
       "    <tr>\n",
       "      <th>2</th>\n",
       "      <td>304</td>\n",
       "      <td>266773</td>\n",
       "    </tr>\n",
       "    <tr>\n",
       "      <th>3</th>\n",
       "      <td>400</td>\n",
       "      <td>15</td>\n",
       "    </tr>\n",
       "    <tr>\n",
       "      <th>4</th>\n",
       "      <td>403</td>\n",
       "      <td>225</td>\n",
       "    </tr>\n",
       "    <tr>\n",
       "      <th>5</th>\n",
       "      <td>404</td>\n",
       "      <td>20899</td>\n",
       "    </tr>\n",
       "    <tr>\n",
       "      <th>6</th>\n",
       "      <td>500</td>\n",
       "      <td>65</td>\n",
       "    </tr>\n",
       "    <tr>\n",
       "      <th>7</th>\n",
       "      <td>501</td>\n",
       "      <td>41</td>\n",
       "    </tr>\n",
       "  </tbody>\n",
       "</table>\n",
       "</div>"
      ],
      "text/plain": [
       "   status    count\n",
       "0     200  3100524\n",
       "1     302    73070\n",
       "2     304   266773\n",
       "3     400       15\n",
       "4     403      225\n",
       "5     404    20899\n",
       "6     500       65\n",
       "7     501       41"
      ]
     },
     "execution_count": 48,
     "metadata": {},
     "output_type": "execute_result"
    }
   ],
   "source": [
    "status_freq_pd_df = status_freq_df.toPandas()\n",
    "status_freq_pd_df"
   ]
  },
  {
   "cell_type": "code",
   "execution_count": 49,
   "metadata": {},
   "outputs": [
    {
     "data": {
      "text/plain": [
       "Text(0.5,1,'Counts of Different Status Codes')"
      ]
     },
     "execution_count": 49,
     "metadata": {},
     "output_type": "execute_result"
    },
    {
     "data": {
      "image/png": "[encoded data removed]",
      "text/plain": [
       "<Figure size 432x288 with 1 Axes>"
      ]
     },
     "metadata": {},
     "output_type": "display_data"
    }
   ],
   "source": [
    "import matplotlib.pyplot as plt\n",
    "%matplotlib inline\n",
    "\n",
    "status_freq_pd_df.plot(x='status', y='count', kind='bar', legend=None)\n",
    "plt.ylabel('count')\n",
    "plt.title('Counts of Different Status Codes')"
   ]
  },
  {
   "cell_type": "code",
   "execution_count": 50,
   "metadata": {},
   "outputs": [
    {
     "name": "stdout",
     "output_type": "stream",
     "text": [
      "+------+-------+------------------+\n",
      "|status|  count|        log(count)|\n",
      "+------+-------+------------------+\n",
      "|   200|3100524|14.947081687429097|\n",
      "|   302|  73070|11.199173164785263|\n",
      "|   304| 266773|12.494153388502301|\n",
      "|   400|     15|  2.70805020110221|\n",
      "|   403|    225|  5.41610040220442|\n",
      "|   404|  20899| 9.947456589918252|\n",
      "|   500|     65| 4.174387269895637|\n",
      "|   501|     41| 3.713572066704308|\n",
      "+------+-------+------------------+\n",
      "\n"
     ]
    }
   ],
   "source": [
    "log_freq_df = status_freq_df.withColumn('log(count)', F.log(status_freq_df['count']))\n",
    "log_freq_df.show()"
   ]
  },
  {
   "cell_type": "markdown",
   "metadata": {},
   "source": [
    "#### Q5: Your Turn: Convert the log\\_freq\\_df to a pandas DataFrame and plot a bar chart displaying counts of each HTTP Status Code"
   ]
  },
  {
   "cell_type": "code",
   "execution_count": 51,
   "metadata": {},
   "outputs": [
    {
     "data": {
      "text/plain": [
       "Text(0.5,1,'Log Counts of Different Status Codes')"
      ]
     },
     "execution_count": 51,
     "metadata": {},
     "output_type": "execute_result"
    },
    {
     "data": {
      "image/png": "[encoded data removed]",
      "text/plain": [
       "<Figure size 432x288 with 1 Axes>"
      ]
     },
     "metadata": {},
     "output_type": "display_data"
    }
   ],
   "source": [
    "# TODO: Replace <FILL IN> with appropriate code\n",
    "log_freq_pd_df = log_freq_df.toPandas()\n",
    "log_freq_pd_df.plot(x='status', y='log(count)', kind='bar', legend=None)\n",
    "plt.ylabel('log(count)')\n",
    "plt.title('Log Counts of Different Status Codes')"
   ]
  },
  {
   "cell_type": "markdown",
   "metadata": {},
   "source": [
    "## Your Turn: Q6: Analyzing Frequent Hosts\n",
    "\n",
    "Let's look at hosts that have accessed the server frequently. Try to get the count of total accesses by each `host` and then sort by the counts and display only the top ten most frequent hosts.\n",
    "\n",
    "__Hints:__\n",
    "\n",
    "- Your Spark DataFrame has a `host` column\n",
    "- Get the counts per `host` which would make a `count` column\n",
    "- Sort by the counts. Please check [__the documentation__](https://spark.apache.org/docs/latest/api/python/pyspark.sql.html#pyspark.sql.DataFrame.sort) to see how to sort in reverse\n",
    "- Remember only to get the top 10 rows from the aggregated dataframe and show them"
   ]
  },
  {
   "cell_type": "code",
   "execution_count": 52,
   "metadata": {},
   "outputs": [
    {
     "name": "stdout",
     "output_type": "stream",
     "text": [
      "+--------------------+-----+\n",
      "|host                |count|\n",
      "+--------------------+-----+\n",
      "|piweba3y.prodigy.com|21988|\n",
      "|piweba4y.prodigy.com|16437|\n",
      "|piweba1y.prodigy.com|12825|\n",
      "|edams.ksc.nasa.gov  |11964|\n",
      "|163.206.89.4        |9697 |\n",
      "|news.ti.com         |8161 |\n",
      "|www-d1.proxy.aol.com|8047 |\n",
      "|alyssa.prodigy.com  |8037 |\n",
      "|                    |7660 |\n",
      "|siltb10.orl.mmc.com |7573 |\n",
      "+--------------------+-----+\n",
      "\n"
     ]
    }
   ],
   "source": [
    "# TODO: Replace <FILL IN> with appropriate code\n",
    "\n",
    "host_sum_df = (logs_df\n",
    "                   .groupby('host')\n",
    "                   .count()\n",
    "                   .sort('count', ascending=False)\n",
    "                   .cache()).limit(10)\n",
    "\n",
    "host_sum_df.show(truncate=False)"
   ]
  },
  {
   "cell_type": "code",
   "execution_count": 53,
   "metadata": {},
   "outputs": [
    {
     "data": {
      "text/plain": [
       "''"
      ]
     },
     "execution_count": 53,
     "metadata": {},
     "output_type": "execute_result"
    }
   ],
   "source": [
    "host_sum_pd_df = host_sum_df.toPandas()\n",
    "host_sum_pd_df.iloc[8]['host']"
   ]
  },
  {
   "cell_type": "markdown",
   "metadata": {},
   "source": [
    "Looks like we have some empty strings as one of the top host names! This teaches us a valuable lesson to not just check for nulls but also potentially empty strings when data wrangling."
   ]
  },
  {
   "cell_type": "markdown",
   "metadata": {},
   "source": [
    "## Your Turn: Q7: Display the Top 20 Frequent EndPoints\n",
    "\n",
    "Now, let's visualize the number of hits to endpoints (URIs) in the log. To perform this task, start with our `logs_df` and group by the `endpoint` column, aggregate by count, and sort in descending order like the previous question. Also remember to show only the top 20 most frequently accessed endpoints"
   ]
  },
  {
   "cell_type": "code",
   "execution_count": 54,
   "metadata": {
    "collapsed": true
   },
   "outputs": [],
   "source": [
    "# TODO: Replace <FILL IN> with appropriate code\n",
    "\n",
    "paths_df = (logs_df\n",
    "               .groupby('endpoint')\n",
    "               .count()\n",
    "               .sort('count', ascending=False)\n",
    "               .cache()).limit(20)"
   ]
  },
  {
   "cell_type": "code",
   "execution_count": 55,
   "metadata": {},
   "outputs": [
    {
     "data": {
      "text/html": [
       "<div>\n",
       "<style>\n",
       "    .dataframe thead tr:only-child th {\n",
       "        text-align: right;\n",
       "    }\n",
       "\n",
       "    .dataframe thead th {\n",
       "        text-align: left;\n",
       "    }\n",
       "\n",
       "    .dataframe tbody tr th {\n",
       "        vertical-align: top;\n",
       "    }\n",
       "</style>\n",
       "<table border=\"1\" class=\"dataframe\">\n",
       "  <thead>\n",
       "    <tr style=\"text-align: right;\">\n",
       "      <th></th>\n",
       "      <th>endpoint</th>\n",
       "      <th>count</th>\n",
       "    </tr>\n",
       "  </thead>\n",
       "  <tbody>\n",
       "    <tr>\n",
       "      <th>0</th>\n",
       "      <td>/images/NASA-logosmall.gif</td>\n",
       "      <td>208714</td>\n",
       "    </tr>\n",
       "    <tr>\n",
       "      <th>1</th>\n",
       "      <td>/images/KSC-logosmall.gif</td>\n",
       "      <td>164970</td>\n",
       "    </tr>\n",
       "    <tr>\n",
       "      <th>2</th>\n",
       "      <td>/images/MOSAIC-logosmall.gif</td>\n",
       "      <td>127908</td>\n",
       "    </tr>\n",
       "    <tr>\n",
       "      <th>3</th>\n",
       "      <td>/images/USA-logosmall.gif</td>\n",
       "      <td>127074</td>\n",
       "    </tr>\n",
       "    <tr>\n",
       "      <th>4</th>\n",
       "      <td>/images/WORLD-logosmall.gif</td>\n",
       "      <td>125925</td>\n",
       "    </tr>\n",
       "    <tr>\n",
       "      <th>5</th>\n",
       "      <td>/images/ksclogo-medium.gif</td>\n",
       "      <td>121572</td>\n",
       "    </tr>\n",
       "    <tr>\n",
       "      <th>6</th>\n",
       "      <td>/ksc.html</td>\n",
       "      <td>83909</td>\n",
       "    </tr>\n",
       "    <tr>\n",
       "      <th>7</th>\n",
       "      <td>/images/launch-logo.gif</td>\n",
       "      <td>76006</td>\n",
       "    </tr>\n",
       "    <tr>\n",
       "      <th>8</th>\n",
       "      <td>/history/apollo/images/apollo-logo1.gif</td>\n",
       "      <td>68896</td>\n",
       "    </tr>\n",
       "    <tr>\n",
       "      <th>9</th>\n",
       "      <td>/shuttle/countdown/</td>\n",
       "      <td>64736</td>\n",
       "    </tr>\n",
       "    <tr>\n",
       "      <th>10</th>\n",
       "      <td>/</td>\n",
       "      <td>63171</td>\n",
       "    </tr>\n",
       "    <tr>\n",
       "      <th>11</th>\n",
       "      <td>/images/ksclogosmall.gif</td>\n",
       "      <td>61393</td>\n",
       "    </tr>\n",
       "    <tr>\n",
       "      <th>12</th>\n",
       "      <td>/shuttle/missions/missions.html</td>\n",
       "      <td>47315</td>\n",
       "    </tr>\n",
       "    <tr>\n",
       "      <th>13</th>\n",
       "      <td>/images/launchmedium.gif</td>\n",
       "      <td>40687</td>\n",
       "    </tr>\n",
       "    <tr>\n",
       "      <th>14</th>\n",
       "      <td>/htbin/cdt_main.pl</td>\n",
       "      <td>39871</td>\n",
       "    </tr>\n",
       "    <tr>\n",
       "      <th>15</th>\n",
       "      <td>/shuttle/missions/sts-69/mission-sts-69.html</td>\n",
       "      <td>31574</td>\n",
       "    </tr>\n",
       "    <tr>\n",
       "      <th>16</th>\n",
       "      <td>/shuttle/countdown/liftoff.html</td>\n",
       "      <td>29865</td>\n",
       "    </tr>\n",
       "    <tr>\n",
       "      <th>17</th>\n",
       "      <td>/icons/menu.xbm</td>\n",
       "      <td>29190</td>\n",
       "    </tr>\n",
       "    <tr>\n",
       "      <th>18</th>\n",
       "      <td>/shuttle/missions/sts-69/sts-69-patch-small.gif</td>\n",
       "      <td>29118</td>\n",
       "    </tr>\n",
       "    <tr>\n",
       "      <th>19</th>\n",
       "      <td>/icons/blank.xbm</td>\n",
       "      <td>28852</td>\n",
       "    </tr>\n",
       "  </tbody>\n",
       "</table>\n",
       "</div>"
      ],
      "text/plain": [
       "                                           endpoint   count\n",
       "0                        /images/NASA-logosmall.gif  208714\n",
       "1                         /images/KSC-logosmall.gif  164970\n",
       "2                      /images/MOSAIC-logosmall.gif  127908\n",
       "3                         /images/USA-logosmall.gif  127074\n",
       "4                       /images/WORLD-logosmall.gif  125925\n",
       "5                        /images/ksclogo-medium.gif  121572\n",
       "6                                         /ksc.html   83909\n",
       "7                           /images/launch-logo.gif   76006\n",
       "8           /history/apollo/images/apollo-logo1.gif   68896\n",
       "9                               /shuttle/countdown/   64736\n",
       "10                                                /   63171\n",
       "11                         /images/ksclogosmall.gif   61393\n",
       "12                  /shuttle/missions/missions.html   47315\n",
       "13                         /images/launchmedium.gif   40687\n",
       "14                               /htbin/cdt_main.pl   39871\n",
       "15     /shuttle/missions/sts-69/mission-sts-69.html   31574\n",
       "16                  /shuttle/countdown/liftoff.html   29865\n",
       "17                                  /icons/menu.xbm   29190\n",
       "18  /shuttle/missions/sts-69/sts-69-patch-small.gif   29118\n",
       "19                                 /icons/blank.xbm   28852"
      ]
     },
     "execution_count": 55,
     "metadata": {},
     "output_type": "execute_result"
    }
   ],
   "source": [
    "paths_pd_df = paths_df.toPandas()\n",
    "paths_pd_df"
   ]
  },
  {
   "cell_type": "markdown",
   "metadata": {},
   "source": [
    "## Your Turn: Q8: Top Ten Error Endpoints\n",
    "\n",
    "What are the top ten endpoints requested which did not have return code 200 (HTTP Status OK)? \n",
    "\n",
    "Create a sorted list containing the endpoints and the number of times that they were accessed with a non-200 return code and show the top ten.\n",
    "\n",
    "Think about the steps that you need to perform to determine which endpoints did not have a 200 return code (combination of filtering, grouping, sorting and selecting the top ten aggregated records)"
   ]
  },
  {
   "cell_type": "code",
   "execution_count": 56,
   "metadata": {},
   "outputs": [],
   "source": [
    "# TODO: Replace <FILL IN> with appropriate code\n",
    "\n",
    "not200_df = logs_df.filter(logs_df['status'] == 200)\n",
    "error_endpoints_freq_df = (not200_df\n",
    "                               .groupby('endpoint')\n",
    "                               .count()\n",
    "                               .sort('count', ascending=False)\n",
    "                               .cache()).limit(10)                       \n",
    "                          "
   ]
  },
  {
   "cell_type": "code",
   "execution_count": 57,
   "metadata": {},
   "outputs": [
    {
     "name": "stdout",
     "output_type": "stream",
     "text": [
      "+---------------------------------------+------+\n",
      "|endpoint                               |count |\n",
      "+---------------------------------------+------+\n",
      "|/images/NASA-logosmall.gif             |168632|\n",
      "|/images/KSC-logosmall.gif              |141207|\n",
      "|/images/MOSAIC-logosmall.gif           |112663|\n",
      "|/images/USA-logosmall.gif              |111932|\n",
      "|/images/WORLD-logosmall.gif            |111152|\n",
      "|/images/ksclogo-medium.gif             |108013|\n",
      "|/ksc.html                              |79993 |\n",
      "|/images/launch-logo.gif                |67200 |\n",
      "|/history/apollo/images/apollo-logo1.gif|61407 |\n",
      "|/shuttle/countdown/                    |59177 |\n",
      "+---------------------------------------+------+\n",
      "\n"
     ]
    }
   ],
   "source": [
    "error_endpoints_freq_df.show(truncate=False)"
   ]
  },
  {
   "cell_type": "markdown",
   "metadata": {},
   "source": [
    "## Example: Number of Unique Daily Hosts\n",
    "\n",
    "For an advanced example, let's look at a way to determine the number of unique hosts in the entire log on a day-by-day basis. This computation will give us counts of the number of unique daily hosts. \n",
    "\n",
    "We'd like a DataFrame sorted by increasing day of the month which includes the day of the month and the associated number of unique hosts for that day. \n",
    "\n",
    "Think about the steps that you need to perform to count the number of different hosts that make requests *each* day.\n",
    "*Since the log only covers a single month, you can ignore the month.*  You may want to use the [`dayofmonth` function](https://spark.apache.org/docs/latest/api/python/pyspark.sql.html#pyspark.sql.functions.dayofmonth) in the `pyspark.sql.functions` module (which we have already imported as __`F`__.\n",
    "\n",
    "\n",
    "**`host_day_df`**\n",
    "\n",
    "A DataFrame with two columns\n",
    "\n",
    "| column | explanation          |\n",
    "| ------ | -------------------- |\n",
    "| `host` | the host name        |\n",
    "| `day`  | the day of the month |\n",
    "\n",
    "There will be one row in this DataFrame for each row in `logs_df`. Essentially, we are just transforming each row of `logs_df`. For example, for this row in `logs_df`:\n",
    "\n",
    "```\n",
    "unicomp6.unicomp.net - - [01/Aug/1995:00:35:41 -0400] \"GET /shuttle/missions/sts-73/news HTTP/1.0\" 302 -\n",
    "```\n",
    "\n",
    "your `host_day_df` should have:\n",
    "\n",
    "```\n",
    "unicomp6.unicomp.net 1\n",
    "```"
   ]
  },
  {
   "cell_type": "code",
   "execution_count": 58,
   "metadata": {},
   "outputs": [
    {
     "data": {
      "text/plain": [
       "[Row(date_trunc(mon, time)=datetime.datetime(1995, 8, 1, 0, 0)),\n",
       " Row(date_trunc(mon, time)=datetime.datetime(1995, 7, 1, 0, 0))]"
      ]
     },
     "execution_count": 58,
     "metadata": {},
     "output_type": "execute_result"
    }
   ],
   "source": [
    "# It is mentioned above \"Since the log only covers a single month, you can ignore the month.\" But log covers two months.\n",
    "# Please see below.\n",
    "logs_df.select(F.date_trunc('mon', 'time')).dropDuplicates().collect()"
   ]
  },
  {
   "cell_type": "code",
   "execution_count": 59,
   "metadata": {},
   "outputs": [
    {
     "name": "stdout",
     "output_type": "stream",
     "text": [
      "+--------------------+---+\n",
      "|host                |day|\n",
      "+--------------------+---+\n",
      "|199.72.81.55        |1  |\n",
      "|unicomp6.unicomp.net|1  |\n",
      "|199.120.110.21      |1  |\n",
      "|burger.letters.com  |1  |\n",
      "|199.120.110.21      |1  |\n",
      "+--------------------+---+\n",
      "only showing top 5 rows\n",
      "\n"
     ]
    }
   ],
   "source": [
    "host_day_df = logs_df.select(logs_df.host, \n",
    "                             F.dayofmonth('time').alias('day'))\n",
    "host_day_df.show(5, truncate=False)"
   ]
  },
  {
   "cell_type": "markdown",
   "metadata": {},
   "source": [
    "**`host_day_distinct_df`**\n",
    "\n",
    "This DataFrame has the same columns as `host_day_distinct_df`, but with duplicate (`day`, `host`) rows removed."
   ]
  },
  {
   "cell_type": "code",
   "execution_count": 60,
   "metadata": {},
   "outputs": [
    {
     "name": "stdout",
     "output_type": "stream",
     "text": [
      "+-----------------------+---+\n",
      "|host                   |day|\n",
      "+-----------------------+---+\n",
      "|129.94.144.152         |1  |\n",
      "|slip1.yab.com          |1  |\n",
      "|205.184.190.47         |1  |\n",
      "|204.120.34.71          |1  |\n",
      "|ppp3_130.bekkoame.or.jp|1  |\n",
      "+-----------------------+---+\n",
      "only showing top 5 rows\n",
      "\n"
     ]
    }
   ],
   "source": [
    "host_day_distinct_df = (host_day_df\n",
    "                          .dropDuplicates())\n",
    "host_day_distinct_df.show(5, truncate=False)"
   ]
  },
  {
   "cell_type": "markdown",
   "metadata": {},
   "source": [
    "**`daily_unique_hosts_df`**\n",
    "\n",
    "A DataFrame with two columns:\n",
    "\n",
    "| column  | explanation                                        |\n",
    "| ------- | -------------------------------------------------- |\n",
    "| `day`   | the day of the month                               |\n",
    "| `count` | the number of unique requesting hosts for that day |"
   ]
  },
  {
   "cell_type": "code",
   "execution_count": 61,
   "metadata": {},
   "outputs": [
    {
     "data": {
      "text/html": [
       "<div>\n",
       "<style>\n",
       "    .dataframe thead tr:only-child th {\n",
       "        text-align: right;\n",
       "    }\n",
       "\n",
       "    .dataframe thead th {\n",
       "        text-align: left;\n",
       "    }\n",
       "\n",
       "    .dataframe tbody tr th {\n",
       "        vertical-align: top;\n",
       "    }\n",
       "</style>\n",
       "<table border=\"1\" class=\"dataframe\">\n",
       "  <thead>\n",
       "    <tr style=\"text-align: right;\">\n",
       "      <th></th>\n",
       "      <th>0</th>\n",
       "      <th>1</th>\n",
       "      <th>2</th>\n",
       "      <th>3</th>\n",
       "      <th>4</th>\n",
       "      <th>5</th>\n",
       "      <th>6</th>\n",
       "      <th>7</th>\n",
       "      <th>8</th>\n",
       "      <th>9</th>\n",
       "      <th>...</th>\n",
       "      <th>21</th>\n",
       "      <th>22</th>\n",
       "      <th>23</th>\n",
       "      <th>24</th>\n",
       "      <th>25</th>\n",
       "      <th>26</th>\n",
       "      <th>27</th>\n",
       "      <th>28</th>\n",
       "      <th>29</th>\n",
       "      <th>30</th>\n",
       "    </tr>\n",
       "  </thead>\n",
       "  <tbody>\n",
       "    <tr>\n",
       "      <th>day</th>\n",
       "      <td>1</td>\n",
       "      <td>2</td>\n",
       "      <td>3</td>\n",
       "      <td>4</td>\n",
       "      <td>5</td>\n",
       "      <td>6</td>\n",
       "      <td>7</td>\n",
       "      <td>8</td>\n",
       "      <td>9</td>\n",
       "      <td>10</td>\n",
       "      <td>...</td>\n",
       "      <td>22</td>\n",
       "      <td>23</td>\n",
       "      <td>24</td>\n",
       "      <td>25</td>\n",
       "      <td>26</td>\n",
       "      <td>27</td>\n",
       "      <td>28</td>\n",
       "      <td>29</td>\n",
       "      <td>30</td>\n",
       "      <td>31</td>\n",
       "    </tr>\n",
       "    <tr>\n",
       "      <th>count</th>\n",
       "      <td>7609</td>\n",
       "      <td>4858</td>\n",
       "      <td>10238</td>\n",
       "      <td>9411</td>\n",
       "      <td>9640</td>\n",
       "      <td>10133</td>\n",
       "      <td>10048</td>\n",
       "      <td>7112</td>\n",
       "      <td>6699</td>\n",
       "      <td>8532</td>\n",
       "      <td>...</td>\n",
       "      <td>6828</td>\n",
       "      <td>6797</td>\n",
       "      <td>7946</td>\n",
       "      <td>8333</td>\n",
       "      <td>6741</td>\n",
       "      <td>6846</td>\n",
       "      <td>6090</td>\n",
       "      <td>4825</td>\n",
       "      <td>5265</td>\n",
       "      <td>5913</td>\n",
       "    </tr>\n",
       "  </tbody>\n",
       "</table>\n",
       "<p>2 rows × 31 columns</p>\n",
       "</div>"
      ],
      "text/plain": [
       "         0     1      2     3     4      5      6     7     8     9   ...   \\\n",
       "day       1     2      3     4     5      6      7     8     9    10  ...    \n",
       "count  7609  4858  10238  9411  9640  10133  10048  7112  6699  8532  ...    \n",
       "\n",
       "         21    22    23    24    25    26    27    28    29    30  \n",
       "day      22    23    24    25    26    27    28    29    30    31  \n",
       "count  6828  6797  7946  8333  6741  6846  6090  4825  5265  5913  \n",
       "\n",
       "[2 rows x 31 columns]"
      ]
     },
     "execution_count": 61,
     "metadata": {},
     "output_type": "execute_result"
    }
   ],
   "source": [
    "daily_hosts_df = (host_day_distinct_df\n",
    "                     .groupBy('day')\n",
    "                     .count()\n",
    "                     .sort(\"day\"))\n",
    "daily_hosts_df = daily_hosts_df.toPandas()\n",
    "daily_hosts_df.T"
   ]
  },
  {
   "cell_type": "code",
   "execution_count": 62,
   "metadata": {},
   "outputs": [
    {
     "data": {
      "text/plain": [
       "Text(0.5,1,'Number of Unique Daily Hosts')"
      ]
     },
     "execution_count": 62,
     "metadata": {},
     "output_type": "execute_result"
    },
    {
     "data": {
      "image/png": "[encoded data removed]",
      "text/plain": [
       "<Figure size 432x288 with 1 Axes>"
      ]
     },
     "metadata": {},
     "output_type": "display_data"
    }
   ],
   "source": [
    "daily_hosts_df.plot(x='day', y='count', kind='line', legend=None)\n",
    "plt.ylabel('count')\n",
    "plt.title('Number of Unique Daily Hosts')"
   ]
  },
  {
   "cell_type": "markdown",
   "metadata": {},
   "source": [
    "## Your Turn: Q9: Counting 404 Response Codes\n",
    "\n",
    "Create a DataFrame containing only log records with a 404 status code (Not Found). \n",
    "\n",
    "Make sure you `cache()` the `not_found_df` dataframe as we will use it in the rest of the exercises here.\n",
    "\n",
    "__How many 404 records are in the log?__"
   ]
  },
  {
   "cell_type": "code",
   "execution_count": 63,
   "metadata": {},
   "outputs": [
    {
     "data": {
      "text/plain": [
       "(3461612, 3461612)"
      ]
     },
     "execution_count": 63,
     "metadata": {},
     "output_type": "execute_result"
    }
   ],
   "source": [
    "logs_df.count(), host_day_df.count()"
   ]
  },
  {
   "cell_type": "code",
   "execution_count": 64,
   "metadata": {},
   "outputs": [
    {
     "name": "stdout",
     "output_type": "stream",
     "text": [
      "Total 404 responses: 20899\n"
     ]
    }
   ],
   "source": [
    "# TODO: Replace <FILL IN> with appropriate code\n",
    "\n",
    "not_found_df = logs_df.filter(logs_df['status'] == 404).cache()\n",
    "print(('Total 404 responses: {}').format(not_found_df.count()))"
   ]
  },
  {
   "cell_type": "markdown",
   "metadata": {},
   "source": [
    "## Your Turn: Q10: Listing the Top Twenty 404 Response Code Endpoints\n",
    "\n",
    "Using the DataFrame containing only log records with a 404 response code that you cached in Q9, print out a list of the top twenty endpoints that generate the most 404 errors.\n",
    "\n",
    "*Remember, top endpoints should be in sorted order*"
   ]
  },
  {
   "cell_type": "code",
   "execution_count": 65,
   "metadata": {},
   "outputs": [
    {
     "name": "stdout",
     "output_type": "stream",
     "text": [
      "+-----------------------------------------------------------------+-----+\n",
      "|endpoint                                                         |count|\n",
      "+-----------------------------------------------------------------+-----+\n",
      "|/pub/winvn/readme.txt                                            |2004 |\n",
      "|/pub/winvn/release.txt                                           |1732 |\n",
      "|/shuttle/missions/STS-69/mission-STS-69.html                     |683  |\n",
      "|/shuttle/missions/sts-68/ksc-upclose.gif                         |428  |\n",
      "|/history/apollo/a-001/a-001-patch-small.gif                      |384  |\n",
      "|/history/apollo/sa-1/sa-1-patch-small.gif                        |383  |\n",
      "|/://spacelink.msfc.nasa.gov                                      |381  |\n",
      "|/images/crawlerway-logo.gif                                      |374  |\n",
      "|/elv/DELTA/uncons.htm                                            |372  |\n",
      "|/history/apollo/pad-abort-test-1/pad-abort-test-1-patch-small.gif|359  |\n",
      "|/images/nasa-logo.gif                                            |319  |\n",
      "|/shuttle/resources/orbiters/atlantis.gif                         |314  |\n",
      "|/history/apollo/apollo-13.html                                   |304  |\n",
      "|/shuttle/resources/orbiters/discovery.gif                        |263  |\n",
      "|/shuttle/missions/sts-71/images/KSC-95EC-0916.txt                |190  |\n",
      "|/shuttle/resources/orbiters/challenger.gif                       |170  |\n",
      "|/shuttle/missions/technology/sts-newsref/stsref-toc.html         |158  |\n",
      "|/history/apollo/images/little-joe.jpg                            |150  |\n",
      "|/images/lf-logo.gif                                              |143  |\n",
      "|/history/apollo/publications/sp-350/sp-350.txt~                  |140  |\n",
      "+-----------------------------------------------------------------+-----+\n",
      "\n"
     ]
    }
   ],
   "source": [
    "# TODO: Replace <FILL IN> with appropriate code\n",
    "\n",
    "hosts_404_count_df = (not_found_df\n",
    "                          .groupby('endpoint')\n",
    "                          .count()\n",
    "                          .sort('count', ascending=False)\n",
    "                          .cache()).limit(20)\n",
    "\n",
    "hosts_404_count_df.show(truncate=False)"
   ]
  },
  {
   "cell_type": "markdown",
   "metadata": {},
   "source": [
    "## Your Turn: Q11: Visualizing 404 Errors per Day\n",
    "\n",
    "Let's explore the 404 records temporally now. Similar to the example showing the number of unique daily hosts, break down the 404 requests by day and get the daily counts sorted by day in `errors_by_date_sorted_df`.\n",
    "\n",
    "- Display the results as a pandas dataframe \n",
    "- Also visualize the same dataframe then as a line chart"
   ]
  },
  {
   "cell_type": "code",
   "execution_count": 66,
   "metadata": {},
   "outputs": [
    {
     "data": {
      "text/html": [
       "<div>\n",
       "<style>\n",
       "    .dataframe thead tr:only-child th {\n",
       "        text-align: right;\n",
       "    }\n",
       "\n",
       "    .dataframe thead th {\n",
       "        text-align: left;\n",
       "    }\n",
       "\n",
       "    .dataframe tbody tr th {\n",
       "        vertical-align: top;\n",
       "    }\n",
       "</style>\n",
       "<table border=\"1\" class=\"dataframe\">\n",
       "  <thead>\n",
       "    <tr style=\"text-align: right;\">\n",
       "      <th></th>\n",
       "      <th>date</th>\n",
       "      <th>count</th>\n",
       "    </tr>\n",
       "  </thead>\n",
       "  <tbody>\n",
       "    <tr>\n",
       "      <th>0</th>\n",
       "      <td>1995-07-01</td>\n",
       "      <td>316</td>\n",
       "    </tr>\n",
       "    <tr>\n",
       "      <th>1</th>\n",
       "      <td>1995-07-02</td>\n",
       "      <td>291</td>\n",
       "    </tr>\n",
       "    <tr>\n",
       "      <th>2</th>\n",
       "      <td>1995-07-03</td>\n",
       "      <td>474</td>\n",
       "    </tr>\n",
       "    <tr>\n",
       "      <th>3</th>\n",
       "      <td>1995-07-04</td>\n",
       "      <td>359</td>\n",
       "    </tr>\n",
       "    <tr>\n",
       "      <th>4</th>\n",
       "      <td>1995-07-05</td>\n",
       "      <td>497</td>\n",
       "    </tr>\n",
       "    <tr>\n",
       "      <th>5</th>\n",
       "      <td>1995-07-06</td>\n",
       "      <td>640</td>\n",
       "    </tr>\n",
       "    <tr>\n",
       "      <th>6</th>\n",
       "      <td>1995-07-07</td>\n",
       "      <td>570</td>\n",
       "    </tr>\n",
       "    <tr>\n",
       "      <th>7</th>\n",
       "      <td>1995-07-08</td>\n",
       "      <td>300</td>\n",
       "    </tr>\n",
       "    <tr>\n",
       "      <th>8</th>\n",
       "      <td>1995-07-09</td>\n",
       "      <td>348</td>\n",
       "    </tr>\n",
       "    <tr>\n",
       "      <th>9</th>\n",
       "      <td>1995-07-10</td>\n",
       "      <td>398</td>\n",
       "    </tr>\n",
       "    <tr>\n",
       "      <th>10</th>\n",
       "      <td>1995-07-11</td>\n",
       "      <td>471</td>\n",
       "    </tr>\n",
       "    <tr>\n",
       "      <th>11</th>\n",
       "      <td>1995-07-12</td>\n",
       "      <td>471</td>\n",
       "    </tr>\n",
       "    <tr>\n",
       "      <th>12</th>\n",
       "      <td>1995-07-13</td>\n",
       "      <td>532</td>\n",
       "    </tr>\n",
       "    <tr>\n",
       "      <th>13</th>\n",
       "      <td>1995-07-14</td>\n",
       "      <td>413</td>\n",
       "    </tr>\n",
       "    <tr>\n",
       "      <th>14</th>\n",
       "      <td>1995-07-15</td>\n",
       "      <td>254</td>\n",
       "    </tr>\n",
       "    <tr>\n",
       "      <th>15</th>\n",
       "      <td>1995-07-16</td>\n",
       "      <td>257</td>\n",
       "    </tr>\n",
       "    <tr>\n",
       "      <th>16</th>\n",
       "      <td>1995-07-17</td>\n",
       "      <td>406</td>\n",
       "    </tr>\n",
       "    <tr>\n",
       "      <th>17</th>\n",
       "      <td>1995-07-18</td>\n",
       "      <td>465</td>\n",
       "    </tr>\n",
       "    <tr>\n",
       "      <th>18</th>\n",
       "      <td>1995-07-19</td>\n",
       "      <td>639</td>\n",
       "    </tr>\n",
       "    <tr>\n",
       "      <th>19</th>\n",
       "      <td>1995-07-20</td>\n",
       "      <td>428</td>\n",
       "    </tr>\n",
       "    <tr>\n",
       "      <th>20</th>\n",
       "      <td>1995-07-21</td>\n",
       "      <td>334</td>\n",
       "    </tr>\n",
       "    <tr>\n",
       "      <th>21</th>\n",
       "      <td>1995-07-22</td>\n",
       "      <td>192</td>\n",
       "    </tr>\n",
       "    <tr>\n",
       "      <th>22</th>\n",
       "      <td>1995-07-23</td>\n",
       "      <td>233</td>\n",
       "    </tr>\n",
       "    <tr>\n",
       "      <th>23</th>\n",
       "      <td>1995-07-24</td>\n",
       "      <td>328</td>\n",
       "    </tr>\n",
       "    <tr>\n",
       "      <th>24</th>\n",
       "      <td>1995-07-25</td>\n",
       "      <td>461</td>\n",
       "    </tr>\n",
       "    <tr>\n",
       "      <th>25</th>\n",
       "      <td>1995-07-26</td>\n",
       "      <td>336</td>\n",
       "    </tr>\n",
       "    <tr>\n",
       "      <th>26</th>\n",
       "      <td>1995-07-27</td>\n",
       "      <td>336</td>\n",
       "    </tr>\n",
       "    <tr>\n",
       "      <th>27</th>\n",
       "      <td>1995-07-28</td>\n",
       "      <td>94</td>\n",
       "    </tr>\n",
       "    <tr>\n",
       "      <th>28</th>\n",
       "      <td>1995-08-01</td>\n",
       "      <td>243</td>\n",
       "    </tr>\n",
       "    <tr>\n",
       "      <th>29</th>\n",
       "      <td>1995-08-03</td>\n",
       "      <td>304</td>\n",
       "    </tr>\n",
       "    <tr>\n",
       "      <th>30</th>\n",
       "      <td>1995-08-04</td>\n",
       "      <td>346</td>\n",
       "    </tr>\n",
       "    <tr>\n",
       "      <th>31</th>\n",
       "      <td>1995-08-05</td>\n",
       "      <td>236</td>\n",
       "    </tr>\n",
       "    <tr>\n",
       "      <th>32</th>\n",
       "      <td>1995-08-06</td>\n",
       "      <td>373</td>\n",
       "    </tr>\n",
       "    <tr>\n",
       "      <th>33</th>\n",
       "      <td>1995-08-07</td>\n",
       "      <td>537</td>\n",
       "    </tr>\n",
       "    <tr>\n",
       "      <th>34</th>\n",
       "      <td>1995-08-08</td>\n",
       "      <td>391</td>\n",
       "    </tr>\n",
       "    <tr>\n",
       "      <th>35</th>\n",
       "      <td>1995-08-09</td>\n",
       "      <td>279</td>\n",
       "    </tr>\n",
       "    <tr>\n",
       "      <th>36</th>\n",
       "      <td>1995-08-10</td>\n",
       "      <td>315</td>\n",
       "    </tr>\n",
       "    <tr>\n",
       "      <th>37</th>\n",
       "      <td>1995-08-11</td>\n",
       "      <td>263</td>\n",
       "    </tr>\n",
       "    <tr>\n",
       "      <th>38</th>\n",
       "      <td>1995-08-12</td>\n",
       "      <td>196</td>\n",
       "    </tr>\n",
       "    <tr>\n",
       "      <th>39</th>\n",
       "      <td>1995-08-13</td>\n",
       "      <td>216</td>\n",
       "    </tr>\n",
       "    <tr>\n",
       "      <th>40</th>\n",
       "      <td>1995-08-14</td>\n",
       "      <td>287</td>\n",
       "    </tr>\n",
       "    <tr>\n",
       "      <th>41</th>\n",
       "      <td>1995-08-15</td>\n",
       "      <td>327</td>\n",
       "    </tr>\n",
       "    <tr>\n",
       "      <th>42</th>\n",
       "      <td>1995-08-16</td>\n",
       "      <td>259</td>\n",
       "    </tr>\n",
       "    <tr>\n",
       "      <th>43</th>\n",
       "      <td>1995-08-17</td>\n",
       "      <td>271</td>\n",
       "    </tr>\n",
       "    <tr>\n",
       "      <th>44</th>\n",
       "      <td>1995-08-18</td>\n",
       "      <td>256</td>\n",
       "    </tr>\n",
       "    <tr>\n",
       "      <th>45</th>\n",
       "      <td>1995-08-19</td>\n",
       "      <td>209</td>\n",
       "    </tr>\n",
       "    <tr>\n",
       "      <th>46</th>\n",
       "      <td>1995-08-20</td>\n",
       "      <td>312</td>\n",
       "    </tr>\n",
       "    <tr>\n",
       "      <th>47</th>\n",
       "      <td>1995-08-21</td>\n",
       "      <td>305</td>\n",
       "    </tr>\n",
       "    <tr>\n",
       "      <th>48</th>\n",
       "      <td>1995-08-22</td>\n",
       "      <td>288</td>\n",
       "    </tr>\n",
       "    <tr>\n",
       "      <th>49</th>\n",
       "      <td>1995-08-23</td>\n",
       "      <td>345</td>\n",
       "    </tr>\n",
       "    <tr>\n",
       "      <th>50</th>\n",
       "      <td>1995-08-24</td>\n",
       "      <td>420</td>\n",
       "    </tr>\n",
       "    <tr>\n",
       "      <th>51</th>\n",
       "      <td>1995-08-25</td>\n",
       "      <td>415</td>\n",
       "    </tr>\n",
       "    <tr>\n",
       "      <th>52</th>\n",
       "      <td>1995-08-26</td>\n",
       "      <td>366</td>\n",
       "    </tr>\n",
       "    <tr>\n",
       "      <th>53</th>\n",
       "      <td>1995-08-27</td>\n",
       "      <td>370</td>\n",
       "    </tr>\n",
       "    <tr>\n",
       "      <th>54</th>\n",
       "      <td>1995-08-28</td>\n",
       "      <td>410</td>\n",
       "    </tr>\n",
       "    <tr>\n",
       "      <th>55</th>\n",
       "      <td>1995-08-29</td>\n",
       "      <td>420</td>\n",
       "    </tr>\n",
       "    <tr>\n",
       "      <th>56</th>\n",
       "      <td>1995-08-30</td>\n",
       "      <td>571</td>\n",
       "    </tr>\n",
       "    <tr>\n",
       "      <th>57</th>\n",
       "      <td>1995-08-31</td>\n",
       "      <td>526</td>\n",
       "    </tr>\n",
       "  </tbody>\n",
       "</table>\n",
       "</div>"
      ],
      "text/plain": [
       "         date  count\n",
       "0  1995-07-01    316\n",
       "1  1995-07-02    291\n",
       "2  1995-07-03    474\n",
       "3  1995-07-04    359\n",
       "4  1995-07-05    497\n",
       "5  1995-07-06    640\n",
       "6  1995-07-07    570\n",
       "7  1995-07-08    300\n",
       "8  1995-07-09    348\n",
       "9  1995-07-10    398\n",
       "10 1995-07-11    471\n",
       "11 1995-07-12    471\n",
       "12 1995-07-13    532\n",
       "13 1995-07-14    413\n",
       "14 1995-07-15    254\n",
       "15 1995-07-16    257\n",
       "16 1995-07-17    406\n",
       "17 1995-07-18    465\n",
       "18 1995-07-19    639\n",
       "19 1995-07-20    428\n",
       "20 1995-07-21    334\n",
       "21 1995-07-22    192\n",
       "22 1995-07-23    233\n",
       "23 1995-07-24    328\n",
       "24 1995-07-25    461\n",
       "25 1995-07-26    336\n",
       "26 1995-07-27    336\n",
       "27 1995-07-28     94\n",
       "28 1995-08-01    243\n",
       "29 1995-08-03    304\n",
       "30 1995-08-04    346\n",
       "31 1995-08-05    236\n",
       "32 1995-08-06    373\n",
       "33 1995-08-07    537\n",
       "34 1995-08-08    391\n",
       "35 1995-08-09    279\n",
       "36 1995-08-10    315\n",
       "37 1995-08-11    263\n",
       "38 1995-08-12    196\n",
       "39 1995-08-13    216\n",
       "40 1995-08-14    287\n",
       "41 1995-08-15    327\n",
       "42 1995-08-16    259\n",
       "43 1995-08-17    271\n",
       "44 1995-08-18    256\n",
       "45 1995-08-19    209\n",
       "46 1995-08-20    312\n",
       "47 1995-08-21    305\n",
       "48 1995-08-22    288\n",
       "49 1995-08-23    345\n",
       "50 1995-08-24    420\n",
       "51 1995-08-25    415\n",
       "52 1995-08-26    366\n",
       "53 1995-08-27    370\n",
       "54 1995-08-28    410\n",
       "55 1995-08-29    420\n",
       "56 1995-08-30    571\n",
       "57 1995-08-31    526"
      ]
     },
     "execution_count": 66,
     "metadata": {},
     "output_type": "execute_result"
    }
   ],
   "source": [
    "# TODO: Replace <FILL IN> with appropriate code\n",
    "not_found_df = not_found_df.withColumn('date', F.date_trunc('day', not_found_df['time']))\n",
    "errors_by_date_sorted_df = (not_found_df\n",
    "                                .groupby('date')\n",
    "                                .count()\n",
    "                                .sort('date'))\n",
    "\n",
    "errors_by_date_sorted_df = errors_by_date_sorted_df.toPandas()\n",
    "errors_by_date_sorted_df"
   ]
  },
  {
   "cell_type": "code",
   "execution_count": 67,
   "metadata": {},
   "outputs": [
    {
     "data": {
      "text/plain": [
       "Text(0.5,1,'Daily Count of 404 Errors')"
      ]
     },
     "execution_count": 67,
     "metadata": {},
     "output_type": "execute_result"
    },
    {
     "data": {
      "image/png": "[encoded data removed]",
      "text/plain": [
       "<Figure size 432x288 with 1 Axes>"
      ]
     },
     "metadata": {},
     "output_type": "display_data"
    }
   ],
   "source": [
    "errors_by_date_sorted_df.plot(x='date', y='count', kind='line', legend=None)\n",
    "plt.ylabel('count')\n",
    "plt.title('Daily Count of 404 Errors')"
   ]
  },
  {
   "cell_type": "markdown",
   "metadata": {},
   "source": [
    "## Your Turn: Q12: Visualizing Hourly 404 Errors\n",
    "\n",
    "Using the DataFrame `not_found_df` you cached in the Q10, group and sort by hour of the day in increasing order, to create a DataFrame containing the total number of 404 responses for HTTP requests for each hour of the day (midnight starts at 0). \n",
    "\n",
    "- Remember to check out the [__hour__](https://spark.apache.org/docs/latest/api/python/pyspark.sql.html#pyspark.sql.functions.hour) function and use it (we have already imported __`pyspark.sql.functions`__ as __`F`__ earlier\n",
    "- Output should be a bar graph displaying the total number of 404 errors per hour"
   ]
  },
  {
   "cell_type": "code",
   "execution_count": 68,
   "metadata": {},
   "outputs": [
    {
     "data": {
      "text/html": [
       "<div>\n",
       "<style>\n",
       "    .dataframe thead tr:only-child th {\n",
       "        text-align: right;\n",
       "    }\n",
       "\n",
       "    .dataframe thead th {\n",
       "        text-align: left;\n",
       "    }\n",
       "\n",
       "    .dataframe tbody tr th {\n",
       "        vertical-align: top;\n",
       "    }\n",
       "</style>\n",
       "<table border=\"1\" class=\"dataframe\">\n",
       "  <thead>\n",
       "    <tr style=\"text-align: right;\">\n",
       "      <th></th>\n",
       "      <th>hour</th>\n",
       "      <th>count</th>\n",
       "    </tr>\n",
       "  </thead>\n",
       "  <tbody>\n",
       "    <tr>\n",
       "      <th>0</th>\n",
       "      <td>0</td>\n",
       "      <td>774</td>\n",
       "    </tr>\n",
       "    <tr>\n",
       "      <th>1</th>\n",
       "      <td>1</td>\n",
       "      <td>648</td>\n",
       "    </tr>\n",
       "    <tr>\n",
       "      <th>2</th>\n",
       "      <td>2</td>\n",
       "      <td>868</td>\n",
       "    </tr>\n",
       "    <tr>\n",
       "      <th>3</th>\n",
       "      <td>3</td>\n",
       "      <td>603</td>\n",
       "    </tr>\n",
       "    <tr>\n",
       "      <th>4</th>\n",
       "      <td>4</td>\n",
       "      <td>351</td>\n",
       "    </tr>\n",
       "    <tr>\n",
       "      <th>5</th>\n",
       "      <td>5</td>\n",
       "      <td>307</td>\n",
       "    </tr>\n",
       "    <tr>\n",
       "      <th>6</th>\n",
       "      <td>6</td>\n",
       "      <td>269</td>\n",
       "    </tr>\n",
       "    <tr>\n",
       "      <th>7</th>\n",
       "      <td>7</td>\n",
       "      <td>458</td>\n",
       "    </tr>\n",
       "    <tr>\n",
       "      <th>8</th>\n",
       "      <td>8</td>\n",
       "      <td>705</td>\n",
       "    </tr>\n",
       "    <tr>\n",
       "      <th>9</th>\n",
       "      <td>9</td>\n",
       "      <td>840</td>\n",
       "    </tr>\n",
       "    <tr>\n",
       "      <th>10</th>\n",
       "      <td>10</td>\n",
       "      <td>1087</td>\n",
       "    </tr>\n",
       "    <tr>\n",
       "      <th>11</th>\n",
       "      <td>11</td>\n",
       "      <td>1160</td>\n",
       "    </tr>\n",
       "    <tr>\n",
       "      <th>12</th>\n",
       "      <td>12</td>\n",
       "      <td>1308</td>\n",
       "    </tr>\n",
       "    <tr>\n",
       "      <th>13</th>\n",
       "      <td>13</td>\n",
       "      <td>1151</td>\n",
       "    </tr>\n",
       "    <tr>\n",
       "      <th>14</th>\n",
       "      <td>14</td>\n",
       "      <td>1274</td>\n",
       "    </tr>\n",
       "    <tr>\n",
       "      <th>15</th>\n",
       "      <td>15</td>\n",
       "      <td>1382</td>\n",
       "    </tr>\n",
       "    <tr>\n",
       "      <th>16</th>\n",
       "      <td>16</td>\n",
       "      <td>1181</td>\n",
       "    </tr>\n",
       "    <tr>\n",
       "      <th>17</th>\n",
       "      <td>17</td>\n",
       "      <td>1203</td>\n",
       "    </tr>\n",
       "    <tr>\n",
       "      <th>18</th>\n",
       "      <td>18</td>\n",
       "      <td>930</td>\n",
       "    </tr>\n",
       "    <tr>\n",
       "      <th>19</th>\n",
       "      <td>19</td>\n",
       "      <td>852</td>\n",
       "    </tr>\n",
       "    <tr>\n",
       "      <th>20</th>\n",
       "      <td>20</td>\n",
       "      <td>815</td>\n",
       "    </tr>\n",
       "    <tr>\n",
       "      <th>21</th>\n",
       "      <td>21</td>\n",
       "      <td>879</td>\n",
       "    </tr>\n",
       "    <tr>\n",
       "      <th>22</th>\n",
       "      <td>22</td>\n",
       "      <td>915</td>\n",
       "    </tr>\n",
       "    <tr>\n",
       "      <th>23</th>\n",
       "      <td>23</td>\n",
       "      <td>939</td>\n",
       "    </tr>\n",
       "  </tbody>\n",
       "</table>\n",
       "</div>"
      ],
      "text/plain": [
       "    hour  count\n",
       "0      0    774\n",
       "1      1    648\n",
       "2      2    868\n",
       "3      3    603\n",
       "4      4    351\n",
       "5      5    307\n",
       "6      6    269\n",
       "7      7    458\n",
       "8      8    705\n",
       "9      9    840\n",
       "10    10   1087\n",
       "11    11   1160\n",
       "12    12   1308\n",
       "13    13   1151\n",
       "14    14   1274\n",
       "15    15   1382\n",
       "16    16   1181\n",
       "17    17   1203\n",
       "18    18    930\n",
       "19    19    852\n",
       "20    20    815\n",
       "21    21    879\n",
       "22    22    915\n",
       "23    23    939"
      ]
     },
     "execution_count": 68,
     "metadata": {},
     "output_type": "execute_result"
    }
   ],
   "source": [
    "# TODO: Replace <FILL IN> with appropriate code\n",
    "not_found_df = not_found_df.withColumn('hour', F.hour(not_found_df['time']))\n",
    "#not_found_df.show(5)\n",
    "hourly_avg_errors_sorted_df = (not_found_df\n",
    "                                   .groupby('hour')\n",
    "                                   .count()\n",
    "                                   .sort('hour'))\n",
    "hourly_avg_errors_sorted_df = hourly_avg_errors_sorted_df.toPandas()\n",
    "hourly_avg_errors_sorted_df"
   ]
  },
  {
   "cell_type": "code",
   "execution_count": 69,
   "metadata": {},
   "outputs": [
    {
     "data": {
      "text/plain": [
       "Text(0.5,1,'Hourly Count of 404 Requests')"
      ]
     },
     "execution_count": 69,
     "metadata": {},
     "output_type": "execute_result"
    },
    {
     "data": {
      "image/png": "[encoded data removed]",
      "text/plain": [
       "<Figure size 432x288 with 1 Axes>"
      ]
     },
     "metadata": {},
     "output_type": "display_data"
    }
   ],
   "source": [
    "hourly_avg_errors_sorted_df.plot(x='hour', y='count', kind='line', legend=None)\n",
    "plt.ylabel('count')\n",
    "plt.title('Hourly Count of 404 Requests')"
   ]
  }
 ],
 "metadata": {
  "kernelspec": {
   "display_name": "Python 3",
   "language": "python",
   "name": "python3"
  },
  "language_info": {
   "codemirror_mode": {
    "name": "ipython",
    "version": 3
   },
   "file_extension": ".py",
   "mimetype": "text/x-python",
   "name": "python",
   "nbconvert_exporter": "python",
   "pygments_lexer": "ipython3",
   "version": "3.6.2"
  }
 },
 "nbformat": 4,
 "nbformat_minor": 2
}
